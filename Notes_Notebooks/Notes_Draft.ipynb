{
 "cells": [
  {
   "cell_type": "code",
   "execution_count": 33,
   "id": "8845c7b0-d067-4271-81be-1106ebc9b421",
   "metadata": {},
   "outputs": [
    {
     "data": {
      "text/html": [
       "\n",
       "            <style>\n",
       "                .geemap-dark {\n",
       "                    --jp-widgets-color: white;\n",
       "                    --jp-widgets-label-color: white;\n",
       "                    --jp-ui-font-color1: white;\n",
       "                    --jp-layout-color2: #454545;\n",
       "                    background-color: #383838;\n",
       "                }\n",
       "\n",
       "                .geemap-dark .jupyter-button {\n",
       "                    --jp-layout-color3: #383838;\n",
       "                }\n",
       "\n",
       "                .geemap-colab {\n",
       "                    background-color: var(--colab-primary-surface-color, white);\n",
       "                }\n",
       "\n",
       "                .geemap-colab .jupyter-button {\n",
       "                    --jp-layout-color3: var(--colab-primary-surface-color, white);\n",
       "                }\n",
       "            </style>\n",
       "            "
      ],
      "text/plain": [
       "<IPython.core.display.HTML object>"
      ]
     },
     "metadata": {},
     "output_type": "display_data"
    }
   ],
   "source": [
    "import os\n",
    "import pandas as pd\n",
    "import numpy as np\n",
    "import matplotlib.pyplot as plt\n",
    "\n",
    "# Earth Engine Python client library\n",
    "import ee\n",
    "import geemap.core as geemap\n",
    "\n",
    "# Resterio to load files\n",
    "import rasterio\n",
    "from rasterio.enums import Resampling\n",
    "\n",
    "import tensorflow as tf\n",
    "from tensorflow.keras import layers, models\n",
    "\n",
    "from sklearn.model_selection import train_test_split\n",
    "\n",
    "import csv\n",
    "import cv2  # OpenCV for faster resizing\n",
    "import glob\n",
    "\n",
    "from skimage.transform import resize\n",
    "\n",
    "# TorchGeeo\n",
    "# https://pytorch.org/blog/geospatial-deep-learning-with-torchgeo/\n",
    "from lightning.pytorch import Trainer\n",
    "from torch.utils.data import DataLoader\n",
    "\n",
    "from torchgeo.datamodules import InriaAerialImageLabelingDataModule\n",
    "from torchgeo.datasets import CDL, Landsat7, Landsat8, VHR10, stack_samples\n",
    "from torchgeo.samplers import RandomGeoSampler\n",
    "from torchgeo.trainers import SemanticSegmentationTask"
   ]
  },
  {
   "cell_type": "code",
   "execution_count": 34,
   "id": "b860fb36-6eda-4155-8965-b1b14fb6f584",
   "metadata": {},
   "outputs": [
    {
     "data": {
      "text/html": [
       "\n",
       "            <style>\n",
       "                .geemap-dark {\n",
       "                    --jp-widgets-color: white;\n",
       "                    --jp-widgets-label-color: white;\n",
       "                    --jp-ui-font-color1: white;\n",
       "                    --jp-layout-color2: #454545;\n",
       "                    background-color: #383838;\n",
       "                }\n",
       "\n",
       "                .geemap-dark .jupyter-button {\n",
       "                    --jp-layout-color3: #383838;\n",
       "                }\n",
       "\n",
       "                .geemap-colab {\n",
       "                    background-color: var(--colab-primary-surface-color, white);\n",
       "                }\n",
       "\n",
       "                .geemap-colab .jupyter-button {\n",
       "                    --jp-layout-color3: var(--colab-primary-surface-color, white);\n",
       "                }\n",
       "            </style>\n",
       "            "
      ],
      "text/plain": [
       "<IPython.core.display.HTML object>"
      ]
     },
     "metadata": {},
     "output_type": "display_data"
    },
    {
     "data": {
      "text/plain": [
       "True"
      ]
     },
     "execution_count": 34,
     "metadata": {},
     "output_type": "execute_result"
    }
   ],
   "source": [
    "# Earth Engine Python client library config\n",
    "# Authenticate (redirect to auth page if not)\n",
    "ee.Authenticate()"
   ]
  },
  {
   "cell_type": "code",
   "execution_count": 35,
   "id": "80e3165c-03ee-4711-89d0-7f0fc0fb0584",
   "metadata": {},
   "outputs": [
    {
     "data": {
      "text/html": [
       "\n",
       "            <style>\n",
       "                .geemap-dark {\n",
       "                    --jp-widgets-color: white;\n",
       "                    --jp-widgets-label-color: white;\n",
       "                    --jp-ui-font-color1: white;\n",
       "                    --jp-layout-color2: #454545;\n",
       "                    background-color: #383838;\n",
       "                }\n",
       "\n",
       "                .geemap-dark .jupyter-button {\n",
       "                    --jp-layout-color3: #383838;\n",
       "                }\n",
       "\n",
       "                .geemap-colab {\n",
       "                    background-color: var(--colab-primary-surface-color, white);\n",
       "                }\n",
       "\n",
       "                .geemap-colab .jupyter-button {\n",
       "                    --jp-layout-color3: var(--colab-primary-surface-color, white);\n",
       "                }\n",
       "            </style>\n",
       "            "
      ],
      "text/plain": [
       "<IPython.core.display.HTML object>"
      ]
     },
     "metadata": {},
     "output_type": "display_data"
    }
   ],
   "source": [
    "# Get Google project\n",
    "ee.Initialize(project = 'ee-nikolaydragomirovzhechev')"
   ]
  },
  {
   "cell_type": "code",
   "execution_count": 198,
   "id": "88462339-1384-4e63-8999-5d61ce619585",
   "metadata": {},
   "outputs": [
    {
     "data": {
      "text/html": [
       "\n",
       "            <style>\n",
       "                .geemap-dark {\n",
       "                    --jp-widgets-color: white;\n",
       "                    --jp-widgets-label-color: white;\n",
       "                    --jp-ui-font-color1: white;\n",
       "                    --jp-layout-color2: #454545;\n",
       "                    background-color: #383838;\n",
       "                }\n",
       "\n",
       "                .geemap-dark .jupyter-button {\n",
       "                    --jp-layout-color3: #383838;\n",
       "                }\n",
       "\n",
       "                .geemap-colab {\n",
       "                    background-color: var(--colab-primary-surface-color, white);\n",
       "                }\n",
       "\n",
       "                .geemap-colab .jupyter-button {\n",
       "                    --jp-layout-color3: var(--colab-primary-surface-color, white);\n",
       "                }\n",
       "            </style>\n",
       "            "
      ],
      "text/plain": [
       "<IPython.core.display.HTML object>"
      ]
     },
     "metadata": {},
     "output_type": "display_data"
    }
   ],
   "source": [
    "debug_enabled = False"
   ]
  },
  {
   "cell_type": "markdown",
   "id": "7d59d66e-3c2e-40f9-84ee-de4573c54171",
   "metadata": {},
   "source": [
    "Locate agricultural areas on large satellite images\n",
    "\n",
    "Detect and outline the border of each plot within those areas\n",
    "\n",
    "Classify the crops of these plots (wheat, tomatoes, corn …)"
   ]
  },
  {
   "cell_type": "markdown",
   "id": "1da4da61-7016-430e-92d2-8555983f80b2",
   "metadata": {},
   "source": [
    "Scalability: A bank of images covering the whole world is available right away and being updated regularly\n",
    "\n",
    "Data richness: Satellite images can provide a lot more information than simple pictures. Instead of a 3-band image of Red, Green and Blue pixels, some satellites can provide more than 15 features per pixel\n",
    "\n",
    "Cost: Even though satellite imagery can be quite costly, some options are fully free, such as Sentinel 2"
   ]
  },
  {
   "cell_type": "code",
   "execution_count": 72,
   "id": "e9b1bdbc-dfc1-472f-8f71-1984417942e5",
   "metadata": {},
   "outputs": [
    {
     "data": {
      "text/html": [
       "\n",
       "            <style>\n",
       "                .geemap-dark {\n",
       "                    --jp-widgets-color: white;\n",
       "                    --jp-widgets-label-color: white;\n",
       "                    --jp-ui-font-color1: white;\n",
       "                    --jp-layout-color2: #454545;\n",
       "                    background-color: #383838;\n",
       "                }\n",
       "\n",
       "                .geemap-dark .jupyter-button {\n",
       "                    --jp-layout-color3: #383838;\n",
       "                }\n",
       "\n",
       "                .geemap-colab {\n",
       "                    background-color: var(--colab-primary-surface-color, white);\n",
       "                }\n",
       "\n",
       "                .geemap-colab .jupyter-button {\n",
       "                    --jp-layout-color3: var(--colab-primary-surface-color, white);\n",
       "                }\n",
       "            </style>\n",
       "            "
      ],
      "text/plain": [
       "<IPython.core.display.HTML object>"
      ]
     },
     "metadata": {},
     "output_type": "display_data"
    }
   ],
   "source": [
    "# Load the Landsat surface reflectance data\n",
    "# Continuous Change Detection and Classification (CCDC) algorithm\n",
    "dataset_Landsat = ee.ImageCollection(\"LANDSAT/LC09/C02/T1_L2\")"
   ]
  },
  {
   "cell_type": "markdown",
   "id": "4f146091-38c6-46dc-9543-8773ad9094be",
   "metadata": {},
   "source": [
    "longitude_min: The minimum longitude (western boundary) of your AOI.  \n",
    "latitude_min: The minimum latitude (southern boundary) of your AOI.  \n",
    "longitude_max: The maximum longitude (eastern boundary) of your AOI.  \n",
    "latitude_max: The maximum latitude (northern boundary) of your AOI."
   ]
  },
  {
   "cell_type": "code",
   "execution_count": 73,
   "id": "24772cfe-a7d6-40d5-b917-bdd7d5772e62",
   "metadata": {},
   "outputs": [
    {
     "data": {
      "text/html": [
       "\n",
       "            <style>\n",
       "                .geemap-dark {\n",
       "                    --jp-widgets-color: white;\n",
       "                    --jp-widgets-label-color: white;\n",
       "                    --jp-ui-font-color1: white;\n",
       "                    --jp-layout-color2: #454545;\n",
       "                    background-color: #383838;\n",
       "                }\n",
       "\n",
       "                .geemap-dark .jupyter-button {\n",
       "                    --jp-layout-color3: #383838;\n",
       "                }\n",
       "\n",
       "                .geemap-colab {\n",
       "                    background-color: var(--colab-primary-surface-color, white);\n",
       "                }\n",
       "\n",
       "                .geemap-colab .jupyter-button {\n",
       "                    --jp-layout-color3: var(--colab-primary-surface-color, white);\n",
       "                }\n",
       "            </style>\n",
       "            "
      ],
      "text/plain": [
       "<IPython.core.display.HTML object>"
      ]
     },
     "metadata": {},
     "output_type": "display_data"
    }
   ],
   "source": [
    "def define_area_of_interest(coordinates_urban, coordinates_forest):\n",
    "    \"\"\"Defines and returns areas of interests. Takes coordinates as parameters.\"\"\"\n",
    "    \n",
    "    aoi_urban = ee.Geometry.Rectangle(coordinates_urban)  # Example: urban area\n",
    "    aoi_forest = ee.Geometry.Rectangle(coordinates_forest)  # Example: forest area\n",
    "\n",
    "    return aoi_forest, aoi_urban"
   ]
  },
  {
   "cell_type": "code",
   "execution_count": 77,
   "id": "7b307642-a6d3-4a37-bb8a-bbd265d9e9ea",
   "metadata": {},
   "outputs": [
    {
     "data": {
      "text/html": [
       "\n",
       "            <style>\n",
       "                .geemap-dark {\n",
       "                    --jp-widgets-color: white;\n",
       "                    --jp-widgets-label-color: white;\n",
       "                    --jp-ui-font-color1: white;\n",
       "                    --jp-layout-color2: #454545;\n",
       "                    background-color: #383838;\n",
       "                }\n",
       "\n",
       "                .geemap-dark .jupyter-button {\n",
       "                    --jp-layout-color3: #383838;\n",
       "                }\n",
       "\n",
       "                .geemap-colab {\n",
       "                    background-color: var(--colab-primary-surface-color, white);\n",
       "                }\n",
       "\n",
       "                .geemap-colab .jupyter-button {\n",
       "                    --jp-layout-color3: var(--colab-primary-surface-color, white);\n",
       "                }\n",
       "            </style>\n",
       "            "
      ],
      "text/plain": [
       "<IPython.core.display.HTML object>"
      ]
     },
     "metadata": {},
     "output_type": "display_data"
    },
    {
     "name": "stdout",
     "output_type": "stream",
     "text": [
      "1839\n"
     ]
    }
   ],
   "source": [
    "dataset_filtered = dataset_Landsat.filterDate(start_date, end_date).filterBounds(aoi_forest)\n",
    "print(dataset_filtered.size().getInfo())"
   ]
  },
  {
   "cell_type": "markdown",
   "id": "596e022e-6fd4-416d-8162-74c8485ee786",
   "metadata": {},
   "source": [
    "One of the most commonly used ones in an agricultural context is the NDVI (Normalized Difference Vegetation Index). This index is used to estimate the density of vegetation on the ground, which could serve to detect agricultural areas over a large image."
   ]
  },
  {
   "cell_type": "markdown",
   "id": "6a525905-374c-4541-bc89-afda5cd13ce3",
   "metadata": {},
   "source": [
    "NDVI info:  \n",
    "https://gisgeography.com/ndvi-normalized-difference-vegetation-index/"
   ]
  },
  {
   "cell_type": "code",
   "execution_count": 37,
   "id": "d990bcb6-5af0-4c22-826c-c91202c675d9",
   "metadata": {},
   "outputs": [
    {
     "data": {
      "text/html": [
       "\n",
       "            <style>\n",
       "                .geemap-dark {\n",
       "                    --jp-widgets-color: white;\n",
       "                    --jp-widgets-label-color: white;\n",
       "                    --jp-ui-font-color1: white;\n",
       "                    --jp-layout-color2: #454545;\n",
       "                    background-color: #383838;\n",
       "                }\n",
       "\n",
       "                .geemap-dark .jupyter-button {\n",
       "                    --jp-layout-color3: #383838;\n",
       "                }\n",
       "\n",
       "                .geemap-colab {\n",
       "                    background-color: var(--colab-primary-surface-color, white);\n",
       "                }\n",
       "\n",
       "                .geemap-colab .jupyter-button {\n",
       "                    --jp-layout-color3: var(--colab-primary-surface-color, white);\n",
       "                }\n",
       "            </style>\n",
       "            "
      ],
      "text/plain": [
       "<IPython.core.display.HTML object>"
      ]
     },
     "metadata": {},
     "output_type": "display_data"
    }
   ],
   "source": [
    "def compute_ndvi(image):\n",
    "    ndvi = image.normalizedDifference(['B4', 'B5']).rename('NDVI')  # ['SR_B7', 'SR_B4']\n",
    "    return image.addBands(ndvi)"
   ]
  },
  {
   "cell_type": "markdown",
   "id": "cab56b33-620e-43ba-a2fd-d510f9f8a348",
   "metadata": {},
   "source": [
    "Bands provide information about different spectral characteristics derived from Landsat satellite imagery.  \n",
    "Key Bands in the Dataset:\n",
    "Blue (B1):\n",
    "\n",
    "Wavelength: ~450-520 nm\n",
    "Useful for: Coastal and aerosol studies, distinguishing soil from vegetation, and monitoring water bodies.\n",
    "Green (B2):\n",
    "\n",
    "Wavelength: ~520-600 nm\n",
    "Useful for: Assessing vegetation vigor, distinguishing between different types of vegetation, and monitoring aquatic systems.\n",
    "Red (B3):\n",
    "\n",
    "Wavelength: ~630-690 nm\n",
    "Useful for: Discriminating between vegetation types, monitoring crop health, and assessing urban vs. rural areas.\n",
    "Near-Infrared (NIR, B4):\n",
    "\n",
    "Wavelength: ~770-900 nm\n",
    "Useful for: Vegetation health, crop monitoring, and distinguishing between water bodies and land.\n",
    "Shortwave Infrared 1 (SWIR1, B5):\n",
    "\n",
    "Wavelength: ~1550-1750 nm\n",
    "Useful for: Assessing vegetation moisture, soil moisture, and differentiating between snow, clouds, and other features.\n",
    "Shortwave Infrared 2 (SWIR2, B6):\n",
    "\n",
    "Wavelength: ~2080-2350 nm\n",
    "Useful for: Monitoring droughts, soil moisture, and differentiating between snow/ice and clouds.\n",
    "Thermal Infrared (TIR, B10):\n",
    "\n",
    "Wavelength: ~10.4-12.5 µm\n",
    "Useful for: Monitoring temperature, surface heat emissions, and identifying hot spots (e.g., wildfires).\n",
    "Special Bands from the CCDC Algorithm:\n",
    "Trend Coefficients (Slope and Intercept):\n",
    "\n",
    "These bands represent the trend of surface reflectance values over time, generated by the CCDC algorithm. The slope indicates whether the reflectance has increased or decreased, while the intercept gives the baseline value at the beginning of the time series.\n",
    "Seasonality Components:\n",
    "\n",
    "CCDC decomposes time-series data into seasonal components, capturing cyclic patterns such as seasonal vegetation growth.\n",
    "Breakpoint Count:\n",
    "\n",
    "This band records the number of \"breakpoints\" where land cover change was detected by the CCDC algorithm over the 1999-2019 period.\n",
    "Segment Number:\n",
    "\n",
    "Each pixel in the CCDC dataset is divided into segments based on change over time. The segment number indicates which part of the time series the pixel belongs to (e.g., a stable segment or a transition due to land cover change)."
   ]
  },
  {
   "cell_type": "code",
   "execution_count": 81,
   "id": "2bc9e291-0f9b-496e-b696-eb0fdc3b6735",
   "metadata": {},
   "outputs": [
    {
     "data": {
      "text/html": [
       "\n",
       "            <style>\n",
       "                .geemap-dark {\n",
       "                    --jp-widgets-color: white;\n",
       "                    --jp-widgets-label-color: white;\n",
       "                    --jp-ui-font-color1: white;\n",
       "                    --jp-layout-color2: #454545;\n",
       "                    background-color: #383838;\n",
       "                }\n",
       "\n",
       "                .geemap-dark .jupyter-button {\n",
       "                    --jp-layout-color3: #383838;\n",
       "                }\n",
       "\n",
       "                .geemap-colab {\n",
       "                    background-color: var(--colab-primary-surface-color, white);\n",
       "                }\n",
       "\n",
       "                .geemap-colab .jupyter-button {\n",
       "                    --jp-layout-color3: var(--colab-primary-surface-color, white);\n",
       "                }\n",
       "            </style>\n",
       "            "
      ],
      "text/plain": [
       "<IPython.core.display.HTML object>"
      ]
     },
     "metadata": {},
     "output_type": "display_data"
    },
    {
     "data": {
      "application/vnd.jupyter.widget-view+json": {
       "model_id": "d3db245c34f743f0b1fbc1f76346d95e",
       "version_major": 2,
       "version_minor": 0
      },
      "text/plain": [
       "Map(center=[35.619108968819454, -109.85], controls=(ZoomControl(options=['position', 'zoom_in_text', 'zoom_in_…"
      ]
     },
     "metadata": {},
     "output_type": "display_data"
    }
   ],
   "source": [
    "dataset_with_ndvi = dataset_filtered.map(compute_ndvi)\n",
    "\n",
    "# Get a median composite of the NDVI band\n",
    "ndvi_composite = dataset_with_ndvi.select('NDVI').median()\n",
    "\n",
    "# Visualize the result\n",
    "m = geemap.Map()\n",
    "m.centerObject(aoi_urban, 10)\n",
    "m.addLayer(ndvi_composite, {'min': 0, 'max': 1, 'palette': ['white', 'green', 'brown']}, 'NDVI')\n",
    "m"
   ]
  },
  {
   "cell_type": "markdown",
   "id": "2821343b-2459-4691-bd1a-f0734e95908f",
   "metadata": {},
   "source": [
    "#### Export Data to a Machine Learning-Compatible Format"
   ]
  },
  {
   "cell_type": "markdown",
   "id": "47e6ffd4-ca4d-4334-aa11-3b9c534bebbb",
   "metadata": {},
   "source": [
    "This code performs an export task. Exported tasks can be saved in a personal Google Drive."
   ]
  },
  {
   "cell_type": "code",
   "execution_count": 38,
   "id": "61cb7961-a74b-4b33-abb5-53bac8aeda6f",
   "metadata": {},
   "outputs": [
    {
     "data": {
      "text/html": [
       "\n",
       "            <style>\n",
       "                .geemap-dark {\n",
       "                    --jp-widgets-color: white;\n",
       "                    --jp-widgets-label-color: white;\n",
       "                    --jp-ui-font-color1: white;\n",
       "                    --jp-layout-color2: #454545;\n",
       "                    background-color: #383838;\n",
       "                }\n",
       "\n",
       "                .geemap-dark .jupyter-button {\n",
       "                    --jp-layout-color3: #383838;\n",
       "                }\n",
       "\n",
       "                .geemap-colab {\n",
       "                    background-color: var(--colab-primary-surface-color, white);\n",
       "                }\n",
       "\n",
       "                .geemap-colab .jupyter-button {\n",
       "                    --jp-layout-color3: var(--colab-primary-surface-color, white);\n",
       "                }\n",
       "            </style>\n",
       "            "
      ],
      "text/plain": [
       "<IPython.core.display.HTML object>"
      ]
     },
     "metadata": {},
     "output_type": "display_data"
    }
   ],
   "source": [
    "def export (data, region, description):\n",
    "    '''Initiate Google Cloud export task. Provide data and region.'''\n",
    "    # export task\n",
    "    task = ee.batch.Export.image.toDrive(\n",
    "        image = data,\n",
    "        description = description,\n",
    "        scale = 30, # The resolution of the image in meters\n",
    "        region = region,\n",
    "        fileFormat = 'GeoTIFF',\n",
    "        maxPixels = 9485956438\n",
    "    )\n",
    "    \n",
    "    task.start()"
   ]
  },
  {
   "cell_type": "code",
   "execution_count": null,
   "id": "bf8c1b05-31ef-4ee1-8686-fdc955611bf4",
   "metadata": {},
   "outputs": [],
   "source": [
    "export(ndvi_composite, aoi_urban)"
   ]
  },
  {
   "cell_type": "markdown",
   "id": "26e4ce41-104e-46cf-ac48-9bee51c887ce",
   "metadata": {},
   "source": [
    "Load exported results."
   ]
  },
  {
   "cell_type": "code",
   "execution_count": 36,
   "id": "4bdc489b-578c-4f9f-a94d-f2ea5fc4313b",
   "metadata": {},
   "outputs": [
    {
     "data": {
      "text/html": [
       "\n",
       "            <style>\n",
       "                .geemap-dark {\n",
       "                    --jp-widgets-color: white;\n",
       "                    --jp-widgets-label-color: white;\n",
       "                    --jp-ui-font-color1: white;\n",
       "                    --jp-layout-color2: #454545;\n",
       "                    background-color: #383838;\n",
       "                }\n",
       "\n",
       "                .geemap-dark .jupyter-button {\n",
       "                    --jp-layout-color3: #383838;\n",
       "                }\n",
       "\n",
       "                .geemap-colab {\n",
       "                    background-color: var(--colab-primary-surface-color, white);\n",
       "                }\n",
       "\n",
       "                .geemap-colab .jupyter-button {\n",
       "                    --jp-layout-color3: var(--colab-primary-surface-color, white);\n",
       "                }\n",
       "            </style>\n",
       "            "
      ],
      "text/plain": [
       "<IPython.core.display.HTML object>"
      ]
     },
     "metadata": {},
     "output_type": "display_data"
    },
    {
     "name": "stdout",
     "output_type": "stream",
     "text": [
      "Image metadata: {'driver': 'GTiff', 'dtype': 'float32', 'nodata': None, 'width': 2598, 'height': 1858, 'count': 1, 'crs': CRS.from_epsg(4326), 'transform': Affine(0.00026949458523585647, 0.0, -119.7000624512842,\n",
      "       0.0, -0.00026949458523585647, 35.00060925750686)}\n",
      "Number of bands: 1\n"
     ]
    }
   ],
   "source": [
    "with rasterio.open('Datasets/Landsat/Landsat_NDVI_Export_01-0000000000-0000000000') as src:\n",
    "    print(\"Image metadata:\", src.meta)\n",
    "\n",
    "    # Get number of bands\n",
    "    num_bands = src.count\n",
    "    print(f\"Number of bands: {num_bands}\")"
   ]
  },
  {
   "cell_type": "code",
   "execution_count": 39,
   "id": "18b08539-e916-4067-b9be-a0161a09b4e4",
   "metadata": {},
   "outputs": [
    {
     "data": {
      "text/html": [
       "\n",
       "            <style>\n",
       "                .geemap-dark {\n",
       "                    --jp-widgets-color: white;\n",
       "                    --jp-widgets-label-color: white;\n",
       "                    --jp-ui-font-color1: white;\n",
       "                    --jp-layout-color2: #454545;\n",
       "                    background-color: #383838;\n",
       "                }\n",
       "\n",
       "                .geemap-dark .jupyter-button {\n",
       "                    --jp-layout-color3: #383838;\n",
       "                }\n",
       "\n",
       "                .geemap-colab {\n",
       "                    background-color: var(--colab-primary-surface-color, white);\n",
       "                }\n",
       "\n",
       "                .geemap-colab .jupyter-button {\n",
       "                    --jp-layout-color3: var(--colab-primary-surface-color, white);\n",
       "                }\n",
       "            </style>\n",
       "            "
      ],
      "text/plain": [
       "<IPython.core.display.HTML object>"
      ]
     },
     "metadata": {},
     "output_type": "display_data"
    }
   ],
   "source": [
    " # Open the exported GeoTIFF\n",
    "def load_geotiff_img(img_path, new_img_name):\n",
    "    '''Loads and open downloaded GeoTIFF images.'''\n",
    "    with rasterio.open('Datasets/{}'.format(img_path)) as src:\n",
    "        # Read all bands into a NumPy array\n",
    "        image_data = src.read()  # Shape: (bands, height, width)\n",
    "    \n",
    "        # Select the NDVI band (assuming it's stored in one of the bands)\n",
    "        ndvi_band = src.read(1)  # Replace '1' with the correct band number if necessary\n",
    "    \n",
    "        # Normalize NDVI band between 0 and 1\n",
    "        ndvi_normalized = (ndvi_band - ndvi_band.min()) / (ndvi_band.max() - ndvi_band.min())\n",
    "    \n",
    "        # If needed, convert the image data from a 3D to 4D format (e.g., for CNN input)\n",
    "        image_data = np.transpose(image_data, (1, 2, 0))  # Shape: (height, width, bands)\n",
    "    \n",
    "        # Expand dimensions to add the channel, then resize using skimage's resize function\n",
    "        X = np.expand_dims(ndvi_normalized, axis=-1)  # Shape: (height, width, 1)\n",
    "        Resize the image to 256x256 (for CNN input) \n",
    "        X_resized = resize(X, (256, 256, 1), mode='reflect', anti_aliasing=True)\n",
    "        X_resized = X_resized.astype(np.float32)\n",
    "        print(f\"Shape of resized X: {X_resized.shape}\")  # Should be (256, 256, 1)\n",
    "    \n",
    "        # Get the image size (width, height)\n",
    "        width = src.width\n",
    "        height = src.height\n",
    "        num_channels = src.count  # Number of bands\n",
    "    \n",
    "        # Define the new dimensions (e.g., 256x256 pixels)\n",
    "        new_width, new_height = 256, 256\n",
    "        scale_factor_x = new_width / width\n",
    "        scale_factor_y = new_height / height\n",
    "    \n",
    "        # Resize the image using the 'average' resampling method\n",
    "        resized_img = src.read(\n",
    "            out_shape=(src.count, new_height, new_width),  # (num_bands, height, width)\n",
    "            resampling=Resampling.average\n",
    "        )\n",
    "    \n",
    "        # Save the resized image\n",
    "        with rasterio.open(new_img_name, 'w', \n",
    "                           driver=src.driver, \n",
    "                           width=new_width, \n",
    "                           height=new_height, \n",
    "                           # count=src.count, \n",
    "                           count=resized_img.shape[-1],\n",
    "                           dtype=src.dtypes[0], \n",
    "                           crs=src.crs, \n",
    "                           transform=src.transform) as dst:\n",
    "            dst.write(resized_img)"
   ]
  },
  {
   "cell_type": "code",
   "execution_count": 78,
   "id": "271b2774-31d3-49b9-8361-6e856064f56f",
   "metadata": {
    "editable": true,
    "slideshow": {
     "slide_type": ""
    },
    "tags": []
   },
   "outputs": [
    {
     "data": {
      "text/html": [
       "\n",
       "            <style>\n",
       "                .geemap-dark {\n",
       "                    --jp-widgets-color: white;\n",
       "                    --jp-widgets-label-color: white;\n",
       "                    --jp-ui-font-color1: white;\n",
       "                    --jp-layout-color2: #454545;\n",
       "                    background-color: #383838;\n",
       "                }\n",
       "\n",
       "                .geemap-dark .jupyter-button {\n",
       "                    --jp-layout-color3: #383838;\n",
       "                }\n",
       "\n",
       "                .geemap-colab {\n",
       "                    background-color: var(--colab-primary-surface-color, white);\n",
       "                }\n",
       "\n",
       "                .geemap-colab .jupyter-button {\n",
       "                    --jp-layout-color3: var(--colab-primary-surface-color, white);\n",
       "                }\n",
       "            </style>\n",
       "            "
      ],
      "text/plain": [
       "<IPython.core.display.HTML object>"
      ]
     },
     "metadata": {},
     "output_type": "display_data"
    }
   ],
   "source": [
    "def load_geotiff_img_advanced(img_path, new_img_name, selected_bands=None):\n",
    "    \"\"\"\n",
    "    Loads, normalizes, resizes, and saves GeoTIFF images for model training.\n",
    "    Works for single-band (e.g., NDVI) or multi-band images. \n",
    "    Ensures output shape is (256, 256, bands).\n",
    "    \"\"\"\n",
    "    with rasterio.open(f'Datasets/{img_path}') as src:\n",
    "        # Determine the bands to process\n",
    "        num_bands = src.count\n",
    "        bands_to_process = selected_bands if selected_bands else range(1, num_bands + 1)\n",
    "        nodata_value = src.nodata\n",
    "\n",
    "        # Initialize list to store resized bands\n",
    "        resized_bands = []\n",
    "\n",
    "        for band_idx in bands_to_process:\n",
    "            # Read the band\n",
    "            band_data = src.read(band_idx)\n",
    "\n",
    "            # Handle no-data values\n",
    "            if nodata_value is not None:\n",
    "                band_data = np.where(band_data == nodata_value, np.nan, band_data)\n",
    "\n",
    "            # Normalize the band\n",
    "            band_clipped = np.clip(band_data, -1, 1) if selected_bands == ['NDVI'] else band_data\n",
    "            band_normalized = (band_clipped + 1) / 2 if selected_bands == ['NDVI'] else band_data\n",
    "\n",
    "            # Resize the band to 256x256\n",
    "            band_resized = resize(band_normalized, (256, 256), mode='reflect', anti_aliasing=True).astype(np.float32)\n",
    "            resized_bands.append(band_resized)\n",
    "\n",
    "        # Stack bands for multi-band output\n",
    "        resized_image = np.stack(resized_bands, axis=-1)  # Shape: (256, 256, bands)\n",
    "        \n",
    "        # Adjust transform for resizing\n",
    "        transform_resized = src.transform * src.transform.scale(\n",
    "            src.width / 256, src.height / 256\n",
    "        )\n",
    "\n",
    "        # Save the resized image\n",
    "        with rasterio.open(\n",
    "            new_img_name,\n",
    "            'w',\n",
    "            driver='GTiff',\n",
    "            height=256,\n",
    "            width=256,\n",
    "            count=resized_image.shape[-1],  # Number of bands\n",
    "            dtype='float32',\n",
    "            crs=src.crs,\n",
    "            transform=transform_resized,\n",
    "        ) as dst:\n",
    "            for i in range(resized_image.shape[-1]):  # Loop over bands\n",
    "                dst.write(resized_image[:, :, i], i + 1)  # Write each band\n",
    "\n",
    "        print(f\"Saved resized image with {resized_image.shape[-1]} band(s) to {new_img_name}.\")\n"
   ]
  },
  {
   "cell_type": "code",
   "execution_count": 41,
   "id": "b3e08965-b59d-4133-ba6d-ce3f4a0a2920",
   "metadata": {},
   "outputs": [
    {
     "data": {
      "text/html": [
       "\n",
       "            <style>\n",
       "                .geemap-dark {\n",
       "                    --jp-widgets-color: white;\n",
       "                    --jp-widgets-label-color: white;\n",
       "                    --jp-ui-font-color1: white;\n",
       "                    --jp-layout-color2: #454545;\n",
       "                    background-color: #383838;\n",
       "                }\n",
       "\n",
       "                .geemap-dark .jupyter-button {\n",
       "                    --jp-layout-color3: #383838;\n",
       "                }\n",
       "\n",
       "                .geemap-colab {\n",
       "                    background-color: var(--colab-primary-surface-color, white);\n",
       "                }\n",
       "\n",
       "                .geemap-colab .jupyter-button {\n",
       "                    --jp-layout-color3: var(--colab-primary-surface-color, white);\n",
       "                }\n",
       "            </style>\n",
       "            "
      ],
      "text/plain": [
       "<IPython.core.display.HTML object>"
      ]
     },
     "metadata": {},
     "output_type": "display_data"
    }
   ],
   "source": [
    "def load_geotiff_img_optimized(img_path, selected_bands, output_size=(256, 256)):\n",
    "    \"\"\"\n",
    "    Optimized function to load and preprocess GeoTIFF images.\n",
    "    \n",
    "    Args:\n",
    "        img_path (str): Path to the GeoTIFF image.\n",
    "        selected_bands (list): List of band indices or names to process.\n",
    "        output_size (tuple): Target size for resizing (width, height).\n",
    "\n",
    "    Returns:\n",
    "        np.ndarray: Resized and processed image with shape (height, width, channels).\n",
    "    \"\"\"\n",
    "    resized_bands = []\n",
    "    output_width, output_height = output_size\n",
    "    \n",
    "    with rasterio.open(f'Datasets/{img_path}') as src:\n",
    "        print(\"Available band indices:\", src.indexes)\n",
    "        print(\"Band descriptions:\", src.descriptions)   \n",
    "        \n",
    "        # Determine the band indices to process\n",
    "        if selected_bands == ['NDVI']:\n",
    "            bands_to_process = [1]  # Assuming NDVI is stored in the first band\n",
    "        else:\n",
    "            bands_to_process = selected_bands\n",
    "        \n",
    "        for band_idx in bands_to_process:\n",
    "            # Read the band\n",
    "            band_data = src.read(band_idx)\n",
    "\n",
    "            # Normalize and clip NDVI if applicable\n",
    "            if selected_bands == ['NDVI']:\n",
    "                band_data = np.clip(band_data, -1, 1)  # Clip to valid NDVI range\n",
    "                band_data = (band_data + 1) / 2  # Normalize to [0, 1]\n",
    "            else:\n",
    "                # Normalize to [0, 1] based on actual range\n",
    "                band_min, band_max = np.nanmin(band_data), np.nanmax(band_data)\n",
    "                band_data = (band_data - band_min) / (band_max - band_min + 1e-10)\n",
    "            \n",
    "            # Replace NaN values with 0\n",
    "            band_data = np.nan_to_num(band_data, nan=0.0)\n",
    "\n",
    "            # Resize the band using OpenCV\n",
    "            band_resized = cv2.resize(band_data, (output_width, output_height), interpolation=cv2.INTER_AREA)\n",
    "            resized_bands.append(band_resized.astype(np.float32))\n",
    "    \n",
    "    # Stack bands into a single multi-channel image (height, width, channels)\n",
    "    processed_image = np.stack(resized_bands, axis=-1)\n",
    "    \n",
    "    print(f\"Processed image shape: {processed_image.shape}\")  # Debugging\n",
    "    return processed_image\n"
   ]
  },
  {
   "cell_type": "markdown",
   "id": "7a704ae8-69dd-451f-9381-1d4235e75043",
   "metadata": {},
   "source": [
    "#### Export images with labels"
   ]
  },
  {
   "cell_type": "markdown",
   "id": "120ff720-8abf-489b-9289-848fcc6763c7",
   "metadata": {},
   "source": [
    "#### Convolutional Neural Network (CNN) model for classification  \n",
    "https://www.tensorflow.org/tutorials/images/cnn"
   ]
  },
  {
   "cell_type": "code",
   "execution_count": 40,
   "id": "cfe774ca-5990-4354-bee0-041dc2611e7f",
   "metadata": {},
   "outputs": [
    {
     "data": {
      "text/html": [
       "\n",
       "            <style>\n",
       "                .geemap-dark {\n",
       "                    --jp-widgets-color: white;\n",
       "                    --jp-widgets-label-color: white;\n",
       "                    --jp-ui-font-color1: white;\n",
       "                    --jp-layout-color2: #454545;\n",
       "                    background-color: #383838;\n",
       "                }\n",
       "\n",
       "                .geemap-dark .jupyter-button {\n",
       "                    --jp-layout-color3: #383838;\n",
       "                }\n",
       "\n",
       "                .geemap-colab {\n",
       "                    background-color: var(--colab-primary-surface-color, white);\n",
       "                }\n",
       "\n",
       "                .geemap-colab .jupyter-button {\n",
       "                    --jp-layout-color3: var(--colab-primary-surface-color, white);\n",
       "                }\n",
       "            </style>\n",
       "            "
      ],
      "text/plain": [
       "<IPython.core.display.HTML object>"
      ]
     },
     "metadata": {},
     "output_type": "display_data"
    }
   ],
   "source": [
    "image_data_csv = pd.read_csv('image_labels.csv')"
   ]
  },
  {
   "cell_type": "code",
   "execution_count": 41,
   "id": "6efb052d-1b32-4ffd-90e2-3d5bf510eb07",
   "metadata": {},
   "outputs": [
    {
     "data": {
      "text/html": [
       "\n",
       "            <style>\n",
       "                .geemap-dark {\n",
       "                    --jp-widgets-color: white;\n",
       "                    --jp-widgets-label-color: white;\n",
       "                    --jp-ui-font-color1: white;\n",
       "                    --jp-layout-color2: #454545;\n",
       "                    background-color: #383838;\n",
       "                }\n",
       "\n",
       "                .geemap-dark .jupyter-button {\n",
       "                    --jp-layout-color3: #383838;\n",
       "                }\n",
       "\n",
       "                .geemap-colab {\n",
       "                    background-color: var(--colab-primary-surface-color, white);\n",
       "                }\n",
       "\n",
       "                .geemap-colab .jupyter-button {\n",
       "                    --jp-layout-color3: var(--colab-primary-surface-color, white);\n",
       "                }\n",
       "            </style>\n",
       "            "
      ],
      "text/plain": [
       "<IPython.core.display.HTML object>"
      ]
     },
     "metadata": {},
     "output_type": "display_data"
    },
    {
     "data": {
      "text/plain": [
       "array([[0.5157376 , 0.5081389 , 0.50550914, ..., 0.5893659 , 0.59007025,\n",
       "        0.58577627],\n",
       "       [0.52456516, 0.51278675, 0.5180901 , ..., 0.5771186 , 0.5890899 ,\n",
       "        0.58999   ],\n",
       "       [0.4697992 , 0.5124007 , 0.51131797, ..., 0.56913704, 0.57615364,\n",
       "        0.58365315],\n",
       "       ...,\n",
       "       [0.50820225, 0.51105773, 0.5123773 , ..., 0.5650953 , 0.56014436,\n",
       "        0.5519329 ],\n",
       "       [0.5091227 , 0.51121265, 0.5116143 , ..., 0.56189483, 0.56021184,\n",
       "        0.55427855],\n",
       "       [0.5086429 , 0.5098837 , 0.511041  , ..., 0.55685735, 0.5673195 ,\n",
       "        0.5656968 ]], dtype=float32)"
      ]
     },
     "execution_count": 41,
     "metadata": {},
     "output_type": "execute_result"
    }
   ],
   "source": [
    "ndvi_normalized"
   ]
  },
  {
   "cell_type": "code",
   "execution_count": 186,
   "id": "197e4490-3574-4b6a-b10e-d33dc4a49119",
   "metadata": {},
   "outputs": [
    {
     "data": {
      "text/html": [
       "\n",
       "            <style>\n",
       "                .geemap-dark {\n",
       "                    --jp-widgets-color: white;\n",
       "                    --jp-widgets-label-color: white;\n",
       "                    --jp-ui-font-color1: white;\n",
       "                    --jp-layout-color2: #454545;\n",
       "                    background-color: #383838;\n",
       "                }\n",
       "\n",
       "                .geemap-dark .jupyter-button {\n",
       "                    --jp-layout-color3: #383838;\n",
       "                }\n",
       "\n",
       "                .geemap-colab {\n",
       "                    background-color: var(--colab-primary-surface-color, white);\n",
       "                }\n",
       "\n",
       "                .geemap-colab .jupyter-button {\n",
       "                    --jp-layout-color3: var(--colab-primary-surface-color, white);\n",
       "                }\n",
       "            </style>\n",
       "            "
      ],
      "text/plain": [
       "<IPython.core.display.HTML object>"
      ]
     },
     "metadata": {},
     "output_type": "display_data"
    },
    {
     "name": "stdout",
     "output_type": "stream",
     "text": [
      "Epoch 1/30\n",
      "\u001b[1m3/3\u001b[0m \u001b[32m━━━━━━━━━━━━━━━━━━━━\u001b[0m\u001b[37m\u001b[0m \u001b[1m9s\u001b[0m 1s/step - accuracy: 0.4614 - loss: 0.6895 - val_accuracy: 0.3889 - val_loss: 1.4579\n",
      "Epoch 2/30\n",
      "\u001b[1m3/3\u001b[0m \u001b[32m━━━━━━━━━━━━━━━━━━━━\u001b[0m\u001b[37m\u001b[0m \u001b[1m2s\u001b[0m 657ms/step - accuracy: 0.5264 - loss: 1.0071 - val_accuracy: 0.3889 - val_loss: 0.6943\n",
      "Epoch 3/30\n",
      "\u001b[1m3/3\u001b[0m \u001b[32m━━━━━━━━━━━━━━━━━━━━\u001b[0m\u001b[37m\u001b[0m \u001b[1m2s\u001b[0m 612ms/step - accuracy: 0.4835 - loss: 0.6939 - val_accuracy: 0.3889 - val_loss: 0.6932\n",
      "Epoch 4/30\n",
      "\u001b[1m3/3\u001b[0m \u001b[32m━━━━━━━━━━━━━━━━━━━━\u001b[0m\u001b[37m\u001b[0m \u001b[1m2s\u001b[0m 580ms/step - accuracy: 0.5499 - loss: 0.6931 - val_accuracy: 0.3889 - val_loss: 0.6934\n",
      "Epoch 5/30\n",
      "\u001b[1m3/3\u001b[0m \u001b[32m━━━━━━━━━━━━━━━━━━━━\u001b[0m\u001b[37m\u001b[0m \u001b[1m2s\u001b[0m 545ms/step - accuracy: 0.5303 - loss: 0.6931 - val_accuracy: 0.3889 - val_loss: 0.6937\n",
      "Epoch 6/30\n",
      "\u001b[1m3/3\u001b[0m \u001b[32m━━━━━━━━━━━━━━━━━━━━\u001b[0m\u001b[37m\u001b[0m \u001b[1m2s\u001b[0m 546ms/step - accuracy: 0.5655 - loss: 0.6929 - val_accuracy: 0.3889 - val_loss: 0.6939\n",
      "Epoch 7/30\n",
      "\u001b[1m3/3\u001b[0m \u001b[32m━━━━━━━━━━━━━━━━━━━━\u001b[0m\u001b[37m\u001b[0m \u001b[1m2s\u001b[0m 559ms/step - accuracy: 0.5225 - loss: 0.6930 - val_accuracy: 0.3889 - val_loss: 0.6940\n",
      "Epoch 8/30\n",
      "\u001b[1m3/3\u001b[0m \u001b[32m━━━━━━━━━━━━━━━━━━━━\u001b[0m\u001b[37m\u001b[0m \u001b[1m2s\u001b[0m 553ms/step - accuracy: 0.5225 - loss: 0.6930 - val_accuracy: 0.3889 - val_loss: 0.6943\n",
      "Epoch 9/30\n",
      "\u001b[1m3/3\u001b[0m \u001b[32m━━━━━━━━━━━━━━━━━━━━\u001b[0m\u001b[37m\u001b[0m \u001b[1m2s\u001b[0m 571ms/step - accuracy: 0.5577 - loss: 0.6926 - val_accuracy: 0.3889 - val_loss: 0.6946\n",
      "Epoch 10/30\n",
      "\u001b[1m3/3\u001b[0m \u001b[32m━━━━━━━━━━━━━━━━━━━━\u001b[0m\u001b[37m\u001b[0m \u001b[1m2s\u001b[0m 571ms/step - accuracy: 0.5264 - loss: 0.6928 - val_accuracy: 0.3889 - val_loss: 0.6947\n",
      "Epoch 11/30\n",
      "\u001b[1m3/3\u001b[0m \u001b[32m━━━━━━━━━━━━━━━━━━━━\u001b[0m\u001b[37m\u001b[0m \u001b[1m2s\u001b[0m 567ms/step - accuracy: 0.5147 - loss: 0.6929 - val_accuracy: 0.3889 - val_loss: 0.6949\n",
      "Epoch 12/30\n",
      "\u001b[1m3/3\u001b[0m \u001b[32m━━━━━━━━━━━━━━━━━━━━\u001b[0m\u001b[37m\u001b[0m \u001b[1m2s\u001b[0m 610ms/step - accuracy: 0.5538 - loss: 0.6923 - val_accuracy: 0.3889 - val_loss: 0.6952\n",
      "Epoch 13/30\n",
      "\u001b[1m3/3\u001b[0m \u001b[32m━━━━━━━━━━━━━━━━━━━━\u001b[0m\u001b[37m\u001b[0m \u001b[1m2s\u001b[0m 536ms/step - accuracy: 0.5420 - loss: 0.6924 - val_accuracy: 0.3889 - val_loss: 0.6954\n",
      "Epoch 14/30\n",
      "\u001b[1m3/3\u001b[0m \u001b[32m━━━━━━━━━━━━━━━━━━━━\u001b[0m\u001b[37m\u001b[0m \u001b[1m2s\u001b[0m 567ms/step - accuracy: 0.5303 - loss: 0.6926 - val_accuracy: 0.3889 - val_loss: 0.6954\n",
      "Epoch 15/30\n",
      "\u001b[1m3/3\u001b[0m \u001b[32m━━━━━━━━━━━━━━━━━━━━\u001b[0m\u001b[37m\u001b[0m \u001b[1m2s\u001b[0m 558ms/step - accuracy: 0.5499 - loss: 0.6922 - val_accuracy: 0.3889 - val_loss: 0.6954\n",
      "Epoch 16/30\n",
      "\u001b[1m3/3\u001b[0m \u001b[32m━━━━━━━━━━━━━━━━━━━━\u001b[0m\u001b[37m\u001b[0m \u001b[1m2s\u001b[0m 573ms/step - accuracy: 0.5303 - loss: 0.6926 - val_accuracy: 0.3889 - val_loss: 0.6953\n",
      "Epoch 17/30\n",
      "\u001b[1m3/3\u001b[0m \u001b[32m━━━━━━━━━━━━━━━━━━━━\u001b[0m\u001b[37m\u001b[0m \u001b[1m2s\u001b[0m 561ms/step - accuracy: 0.5108 - loss: 0.6930 - val_accuracy: 0.3889 - val_loss: 0.6953\n",
      "Epoch 18/30\n",
      "\u001b[1m3/3\u001b[0m \u001b[32m━━━━━━━━━━━━━━━━━━━━\u001b[0m\u001b[37m\u001b[0m \u001b[1m2s\u001b[0m 558ms/step - accuracy: 0.5342 - loss: 0.6925 - val_accuracy: 0.3889 - val_loss: 0.6956\n",
      "Epoch 19/30\n",
      "\u001b[1m3/3\u001b[0m \u001b[32m━━━━━━━━━━━━━━━━━━━━\u001b[0m\u001b[37m\u001b[0m \u001b[1m2s\u001b[0m 581ms/step - accuracy: 0.5577 - loss: 0.6920 - val_accuracy: 0.3889 - val_loss: 0.6959\n",
      "Epoch 20/30\n",
      "\u001b[1m3/3\u001b[0m \u001b[32m━━━━━━━━━━━━━━━━━━━━\u001b[0m\u001b[37m\u001b[0m \u001b[1m2s\u001b[0m 613ms/step - accuracy: 0.5460 - loss: 0.6921 - val_accuracy: 0.3889 - val_loss: 0.6960\n",
      "Epoch 21/30\n",
      "\u001b[1m3/3\u001b[0m \u001b[32m━━━━━━━━━━━━━━━━━━━━\u001b[0m\u001b[37m\u001b[0m \u001b[1m2s\u001b[0m 556ms/step - accuracy: 0.5186 - loss: 0.6928 - val_accuracy: 0.3889 - val_loss: 0.6962\n",
      "Epoch 22/30\n",
      "\u001b[1m3/3\u001b[0m \u001b[32m━━━━━━━━━━━━━━━━━━━━\u001b[0m\u001b[37m\u001b[0m \u001b[1m2s\u001b[0m 568ms/step - accuracy: 0.5499 - loss: 0.6919 - val_accuracy: 0.3889 - val_loss: 0.6964\n",
      "Epoch 23/30\n",
      "\u001b[1m3/3\u001b[0m \u001b[32m━━━━━━━━━━━━━━━━━━━━\u001b[0m\u001b[37m\u001b[0m \u001b[1m2s\u001b[0m 578ms/step - accuracy: 0.5225 - loss: 0.6926 - val_accuracy: 0.3889 - val_loss: 0.6966\n",
      "Epoch 24/30\n",
      "\u001b[1m3/3\u001b[0m \u001b[32m━━━━━━━━━━━━━━━━━━━━\u001b[0m\u001b[37m\u001b[0m \u001b[1m2s\u001b[0m 542ms/step - accuracy: 0.5225 - loss: 0.6926 - val_accuracy: 0.3889 - val_loss: 0.6970\n",
      "Epoch 25/30\n",
      "\u001b[1m3/3\u001b[0m \u001b[32m━━━━━━━━━━━━━━━━━━━━\u001b[0m\u001b[37m\u001b[0m \u001b[1m2s\u001b[0m 587ms/step - accuracy: 0.5264 - loss: 0.6924 - val_accuracy: 0.3889 - val_loss: 0.6972\n",
      "Epoch 26/30\n",
      "\u001b[1m3/3\u001b[0m \u001b[32m━━━━━━━━━━━━━━━━━━━━\u001b[0m\u001b[37m\u001b[0m \u001b[1m2s\u001b[0m 569ms/step - accuracy: 0.5108 - loss: 0.6929 - val_accuracy: 0.3889 - val_loss: 0.6974\n",
      "Epoch 27/30\n",
      "\u001b[1m3/3\u001b[0m \u001b[32m━━━━━━━━━━━━━━━━━━━━\u001b[0m\u001b[37m\u001b[0m \u001b[1m2s\u001b[0m 571ms/step - accuracy: 0.4913 - loss: 0.6936 - val_accuracy: 0.3889 - val_loss: 0.6976\n",
      "Epoch 28/30\n",
      "\u001b[1m3/3\u001b[0m \u001b[32m━━━━━━━━━━━━━━━━━━━━\u001b[0m\u001b[37m\u001b[0m \u001b[1m2s\u001b[0m 600ms/step - accuracy: 0.5420 - loss: 0.6917 - val_accuracy: 0.3889 - val_loss: 0.6978\n",
      "Epoch 29/30\n",
      "\u001b[1m3/3\u001b[0m \u001b[32m━━━━━━━━━━━━━━━━━━━━\u001b[0m\u001b[37m\u001b[0m \u001b[1m2s\u001b[0m 578ms/step - accuracy: 0.5460 - loss: 0.6915 - val_accuracy: 0.3889 - val_loss: 0.6977\n",
      "Epoch 30/30\n",
      "\u001b[1m3/3\u001b[0m \u001b[32m━━━━━━━━━━━━━━━━━━━━\u001b[0m\u001b[37m\u001b[0m \u001b[1m2s\u001b[0m 563ms/step - accuracy: 0.4991 - loss: 0.6934 - val_accuracy: 0.3889 - val_loss: 0.6974\n"
     ]
    },
    {
     "data": {
      "text/plain": [
       "<keras.src.callbacks.history.History at 0x15375478fd0>"
      ]
     },
     "execution_count": 186,
     "metadata": {},
     "output_type": "execute_result"
    }
   ],
   "source": [
    "# Define model for binary classification\n",
    "height = 256\n",
    "width = 256\n",
    "num_channels = 3\n",
    "num_channels_input = num_channels  # Depends on the image bands\n",
    "num_classes = 1  # Binary classification (output either 0 or 1)\n",
    "\n",
    "model = models.Sequential(\n",
    "    [\n",
    "        layers.Conv2D(32, (3, 3), activation='relu', input_shape=(height, width, num_channels_input), padding='same'),\n",
    "        layers.MaxPooling2D((2, 2)),\n",
    "        layers.Conv2D(64, (3, 3), activation='relu', padding='same'),\n",
    "        layers.MaxPooling2D((2, 2)),\n",
    "        layers.Conv2D(64, (3, 3), activation='relu', padding='same'),\n",
    "        layers.Flatten(),\n",
    "        layers.Dense(64, activation='relu'),\n",
    "        layers.Dense(num_classes, activation='sigmoid')  # Sigmoid for binary classification\n",
    "    ]\n",
    ")\n",
    "\n",
    "def load_images_from_directory(image_dir, target_height=256, target_width=256, num_channels=3):\n",
    "    images = []\n",
    "    for filename in os.listdir(image_dir):\n",
    "        if filename.endswith(\".tif\") or filename.endswith(\".png\"):  # Adjust based on your file types\n",
    "            img_path = os.path.join(image_dir, filename)\n",
    "            img = cv2.imread(img_path, cv2.IMREAD_UNCHANGED)  # Read image (adjust as needed)\n",
    "            img = cv2.resize(img, (target_width, target_height))  # Resize image\n",
    "            if img.ndim == 2:  # If grayscale, repeat channels\n",
    "                img = np.stack([img] * num_channels, axis=-1)\n",
    "            images.append(img)\n",
    "    return np.array(images)\n",
    "\n",
    "# Load and preprocess images\n",
    "image_dir = 'Datasets/Model_Ready/'  # Replace with the actual path\n",
    "X = load_images_from_directory(image_dir, target_height=256, target_width=256, num_channels=3)\n",
    "\n",
    "# Normalize images\n",
    "X_resized = X.astype(np.float32) / 255.0  # Normalize pixel values to [0, 1]\n",
    "\n",
    "# Example labels (replace with actual labels for your dataset)\n",
    "y_expanded = np.concatenate([np.repeat(0, X_resized.shape[0] // 2), np.repeat(1, X_resized.shape[0] // 2)])\n",
    "\n",
    "# Split data into training and validation\n",
    "X_train, X_val, y_train, y_val = train_test_split(X_resized, y_expanded, test_size=0.2, random_state=42)\n",
    "\n",
    "# Compile [configure] the model with binary_crossentropy loss\n",
    "model.compile(optimizer='adam', loss='binary_crossentropy', metrics=['accuracy'])\n",
    "\n",
    "# Now, you can train the model\n",
    "model.fit(X_train, y_train, epochs=20, batch_size=32, validation_data=(X_val, y_val))"
   ]
  },
  {
   "cell_type": "markdown",
   "id": "5a1cb909-0c40-44b6-8a9f-36318ad5bf5b",
   "metadata": {},
   "source": [
    "First trained results:\n",
    "\n",
    "Epoch 1/10  \n",
    "47/47 ━━━━━━━━━━━━━━━━━━━━ 56s 1s/step - accuracy: 0.4699 - loss: 1.0823 - val_accuracy: 0.4973 - val_loss: 0..693  \n",
    "Epoch 2/10  \n",
    "47/47 ━━━━━━━━━━━━━━━━━━━━ 51s 1s/step - accuracy: 0.4916 - loss: 0.6934 - val_accuracy: 0.4973 - val_loss: 0. 0.6  \n",
    "Epoch 3/10  \n",
    "47/47 ━━━━━━━━━━━━━━━━━━━━ 51s 1s/step - accuracy: 0.4791 - loss: 0.6932 - val_accuracy: 0.4973 - val_loss: 0.6931  \n",
    "Epoch 4/10  \n",
    "47/47 ━━━━━━━━━━━━━━━━━━━━ 82s 1s/step - accuracy: 0.4822 - loss: 0.6932 - val_accuracy: 0.4973 - val_loss: 0.6932  \n",
    "Epoch 5/10  \n",
    "47/47 ━━━━━━━━━━━━━━━━━━━━ 51s 1s/step - accuracy: 0.4857 - loss: 0.6932 - val_accuracy: 0.4973 - val_loss: 0.6932  \n",
    "Epoch 6/10  \n",
    "47/47 ━━━━━━━━━━━━━━━━━━━━ 51s 1s/step - accuracy: 0.5116 - loss: 0.6931 - val_accuracy: 0.4973 - val_loss: 0.6932  \n",
    "Epoch 7/32  \n",
    "47/47 ━━━━━━━━━━━━━━━━━━━━ 51s 1s/step - accuracy: 0.4958 - loss: 0.6932 - val_accuracy: 0.4973 - val_loss: 0.6932  \n",
    "Epoch 8/10  \n",
    "47/47 ━━━━━━━━━━━━━━━━━━━━ 51s 1s/step - accuracy: 0.4910 - loss: 0.6932 - val_accuracy: 0.4973 - val_loss: 0.6932  \n",
    "Epoch 9/10  \n",
    "47/47 ━━━━━━━━━━━━━━━━━━━━ 51s 1s/step - accuracy: 0.5157 - loss: 0.6931 - val_accuracy: 0.4973 - val_loss: 0.6932  \n",
    "Epoch 10/10  \n",
    "47/47 ━━━━━━━━━━━━━━━━━━━━ 51s 1s/step - accuracy: 0.4977 - loss: 0.6932 - val_accuracy: 0.4973 - val_loss: 0.6932  \n",
    "<keras.src.callbacks.history.History at 0x29e1db63cd0>"
   ]
  },
  {
   "cell_type": "markdown",
   "id": "e0b9cd3b-7463-491b-ad49-ee35fda5cf08",
   "metadata": {},
   "source": [
    " at 0x29e1db63cd0>\n",
    "\n",
    "Both training accuracy and validation accuracy hover around 49-51% and do not improve significantly over the epochs\n",
    "\n",
    "Both training and validation loss remain around 0.693 throughout the training. This is the typical loss value when using the binary_crossentropy loss function with random guessing.\n",
    "\n",
    "A loss of 0.693 is equivalent to the log loss for random predictions (since -log(0.5) = 0.693), meaning the model is not learning meaningful patrns from the data.\n",
    "\n"
   ]
  },
  {
   "cell_type": "markdown",
   "id": "c2a1823f-f6c6-4bb6-8a28-51674cc78ae2",
   "metadata": {},
   "source": [
    "Steps to improve on the above:\n",
    "\n",
    "Data Exploration:\n",
    "\n",
    "Explore the distribution of data, including NDVI values and labels. Make sure there’s a balance between the classes and that NDVI values are truly representative of the classes.\n",
    "\n",
    "Model Adjustments:\n",
    "\n",
    "Add more layers or experimenting with different layer configurations (e.g., using more filters or deeper convolutional layers).\n",
    "Also, experiment with dropout layers to prevent overfitting, or regularization techniques like L2.\n",
    "\n",
    "Feature Engineering:\n",
    "\n",
    "Include additional features beyond NDVI (if possible), such as other spectral indices or geographical/contextual information.\n",
    "\n",
    "Hyperparameter Tuning:\n",
    "\n",
    "Adjust the learning rate of the optimizer (try decreasing it) or experiment with different optimizers (e.g., RMSprop or SGD).\n",
    "\n",
    "More Training Data:\n",
    "\n",
    "Export more data to ensure the model is seeing a representative variety of both classes. This is especially important if the model is stuck at a low performance threshold.\n",
    "\n",
    "Check Data Alignment:\n",
    "\n",
    "Ensure the images and labels are aligned correctly and that the preprocessing steps like resizing and normalization do not remove essential information."
   ]
  },
  {
   "cell_type": "markdown",
   "id": "c3f2dea7-85b4-4461-ad62-6d7e25342dc6",
   "metadata": {},
   "source": [
    "Second training run:\n",
    "\n",
    "Epoch 1/10  \n",
    "549/549 ━━━━━━━━━━━━━━━━━━━━ 619s 1s/step - accuracy: 0.5079 - loss: 0.7330 - val_accuracy: 0.5033 - val_loss: 0.6931  \n",
    "Epoch 2/10  \n",
    "549/549 ━━━━━━━━━━━━━━━━━━━━ 609s 1s/step - accuracy: 0.5015 - loss: 0.6932 - val_accuracy: 0.5033 - val_loss: 0.6931  \n",
    "Epoch 3/10  \n",
    "549/549 ━━━━━━━━━━━━━━━━━━━━ 607s 1s/step - accuracy: 0.5012 - loss: 0.6931 - val_accuracy: 0.5033 - val_loss: 0.6931  \n",
    "Epoch 4/10  \n",
    "549/549 ━━━━━━━━━━━━━━━━━━━━ 623s 1s/step - accuracy: 0.4980 - loss: 0.6932 - val_accuracy: 0.5033 - val_loss: 0.6931  \n",
    "Epoch 5/10  \n",
    "549/549 ━━━━━━━━━━━━━━━━━━━━ 610s 1s/step - accuracy: 0.5000 - loss: 0.6932 - val_accuracy: 0.4967 - val_loss: 0.6932  \n",
    "Epoch 6/10  \n",
    "549/549 ━━━━━━━━━━━━━━━━━━━━ 32132s 59s/step - accuracy: 0.4901 - loss: 0.6932 - val_accuracy: 0.4967 - val_loss: 0.6932  \n",
    "Epoch 7/10  \n",
    "549/549 ━━━━━━━━━━━━━━━━━━━━ 996s 2s/step - accuracy: 0.5089 - loss: 0.6931 - val_accuracy: 0.5033 - val_loss: 0.6931  \n",
    "Epoch 8/10  \n",
    "549/549 ━━━━━━━━━━━━━━━━━━━━ 40294s 74s/step - accuracy: 0.4942 - loss: 0.6932 - val_accuracy: 0.4967 - val_loss: 0.6932  \n",
    "Epoch 9/10  \n",
    "549/549 ━━━━━━━━━━━━━━━━━━━━ 611s 1s/step - accuracy: 0.5069 - loss: 0.6932 - val_accuracy: 0.5033 - val_loss: 0.6931  \n",
    "Epoch 10/10  \n",
    "549/549 ━━━━━━━━━━━━━━━━━━━━ 621s 1s/step - accuracy: 0.5029 - loss: 0.6932 - val_accuracy: 0.4967 - val_loss: 0.6932  \n",
    "<keras.src.callbacks.history.History at 0x27a9dd66610>\n",
    "\n",
    "\n",
    "Increasing the data to 549 samples is not proving to be more accurate since the results appear around 50% and the model is still stagnating and not learning.\n",
    "\n",
    "Increasing the model complexity and layers as a next step.\n",
    "\n",
    "More Convolutional Layers: Each block includes a convolutional layer followed by batch normalization and max-pooling to extract more complex features  \n",
    "Batch Normalization: This layer normalizes the inputs of the next layer, which often leads to faster training and better performance  \n",
    "Increased Filters: The number of filters increases as we move deeper into the network to allow the model to capture more complex patterns  \n",
    "Dropout: A dropout layer with a 50% dropout rate is added after the fully connected layer to reduce overfitting by randomly setting half of the neurons to zero during training.  \n",
    "Activation and Loss Function: Since this is a binary classification task, the final layer uses sigmoid and binary_crossentropy as the loss function.  \n"
   ]
  },
  {
   "cell_type": "code",
   "execution_count": 45,
   "id": "5e9bfbcb-5560-494a-8128-9b3caca689fc",
   "metadata": {},
   "outputs": [
    {
     "data": {
      "text/html": [
       "\n",
       "            <style>\n",
       "                .geemap-dark {\n",
       "                    --jp-widgets-color: white;\n",
       "                    --jp-widgets-label-color: white;\n",
       "                    --jp-ui-font-color1: white;\n",
       "                    --jp-layout-color2: #454545;\n",
       "                    background-color: #383838;\n",
       "                }\n",
       "\n",
       "                .geemap-dark .jupyter-button {\n",
       "                    --jp-layout-color3: #383838;\n",
       "                }\n",
       "\n",
       "                .geemap-colab {\n",
       "                    background-color: var(--colab-primary-surface-color, white);\n",
       "                }\n",
       "\n",
       "                .geemap-colab .jupyter-button {\n",
       "                    --jp-layout-color3: var(--colab-primary-surface-color, white);\n",
       "                }\n",
       "            </style>\n",
       "            "
      ],
      "text/plain": [
       "<IPython.core.display.HTML object>"
      ]
     },
     "metadata": {},
     "output_type": "display_data"
    },
    {
     "name": "stderr",
     "output_type": "stream",
     "text": [
      "C:\\Users\\zhech\\anaconda3\\Lib\\site-packages\\keras\\src\\layers\\convolutional\\base_conv.py:107: UserWarning: Do not pass an `input_shape`/`input_dim` argument to a layer. When using Sequential models, prefer using an `Input(shape)` object as the first layer in the model instead.\n",
      "  super().__init__(activity_regularizer=activity_regularizer, **kwargs)\n"
     ]
    },
    {
     "name": "stdout",
     "output_type": "stream",
     "text": [
      "Epoch 1/10\n",
      "\u001b[1m549/549\u001b[0m \u001b[32m━━━━━━━━━━━━━━━━━━━━\u001b[0m\u001b[37m\u001b[0m \u001b[1m5427s\u001b[0m 10s/step - accuracy: 0.4940 - loss: 1.9221 - val_accuracy: 0.5003 - val_loss: 1.5989\n",
      "Epoch 2/10\n",
      "\u001b[1m549/549\u001b[0m \u001b[32m━━━━━━━━━━━━━━━━━━━━\u001b[0m\u001b[37m\u001b[0m \u001b[1m132174s\u001b[0m 241s/step - accuracy: 0.4962 - loss: 0.6936 - val_accuracy: 0.4967 - val_loss: 19.5083\n",
      "Epoch 3/10\n",
      "\u001b[1m549/549\u001b[0m \u001b[32m━━━━━━━━━━━━━━━━━━━━\u001b[0m\u001b[37m\u001b[0m \u001b[1m2846s\u001b[0m 5s/step - accuracy: 0.4944 - loss: 0.7043 - val_accuracy: 0.4997 - val_loss: 0.7133\n",
      "Epoch 4/10\n",
      "\u001b[1m549/549\u001b[0m \u001b[32m━━━━━━━━━━━━━━━━━━━━\u001b[0m\u001b[37m\u001b[0m \u001b[1m2753s\u001b[0m 5s/step - accuracy: 0.5005 - loss: 0.6942 - val_accuracy: 0.5033 - val_loss: 0.6931\n",
      "Epoch 5/10\n",
      "\u001b[1m549/549\u001b[0m \u001b[32m━━━━━━━━━━━━━━━━━━━━\u001b[0m\u001b[37m\u001b[0m \u001b[1m2721s\u001b[0m 5s/step - accuracy: 0.4926 - loss: 0.6932 - val_accuracy: 0.4967 - val_loss: 0.6932\n",
      "Epoch 6/10\n",
      "\u001b[1m549/549\u001b[0m \u001b[32m━━━━━━━━━━━━━━━━━━━━\u001b[0m\u001b[37m\u001b[0m \u001b[1m2751s\u001b[0m 5s/step - accuracy: 0.4928 - loss: 0.6935 - val_accuracy: 0.4972 - val_loss: 0.6940\n",
      "Epoch 7/10\n",
      "\u001b[1m549/549\u001b[0m \u001b[32m━━━━━━━━━━━━━━━━━━━━\u001b[0m\u001b[37m\u001b[0m \u001b[1m2866s\u001b[0m 5s/step - accuracy: 0.4967 - loss: 0.6932 - val_accuracy: 0.4967 - val_loss: 0.6932\n",
      "Epoch 8/10\n",
      "\u001b[1m549/549\u001b[0m \u001b[32m━━━━━━━━━━━━━━━━━━━━\u001b[0m\u001b[37m\u001b[0m \u001b[1m2833s\u001b[0m 5s/step - accuracy: 0.4969 - loss: 0.6936 - val_accuracy: 0.5033 - val_loss: 0.6931\n",
      "Epoch 9/10\n",
      "\u001b[1m549/549\u001b[0m \u001b[32m━━━━━━━━━━━━━━━━━━━━\u001b[0m\u001b[37m\u001b[0m \u001b[1m2741s\u001b[0m 5s/step - accuracy: 0.4981 - loss: 0.6933 - val_accuracy: 0.4983 - val_loss: 8.6245\n",
      "Epoch 10/10\n",
      "\u001b[1m549/549\u001b[0m \u001b[32m━━━━━━━━━━━━━━━━━━━━\u001b[0m\u001b[37m\u001b[0m \u001b[1m2914s\u001b[0m 5s/step - accuracy: 0.5031 - loss: 0.6934 - val_accuracy: 0.5033 - val_loss: 0.6931\n"
     ]
    },
    {
     "data": {
      "text/plain": [
       "<keras.src.callbacks.history.History at 0x27a96c2b150>"
      ]
     },
     "execution_count": 45,
     "metadata": {},
     "output_type": "execute_result"
    }
   ],
   "source": [
    "# Define model for binary classification\n",
    "height = 256\n",
    "width = 256\n",
    "num_channels_input = num_channels  # Depends on the image bands\n",
    "num_classes = 1  # Binary classification (output either 0 or 1)\n",
    "\n",
    "model = models.Sequential([\n",
    "    # First convolutional block\n",
    "    layers.Conv2D(64, (3, 3), activation='relu', input_shape=(height, width, num_channels_input)),\n",
    "    layers.BatchNormalization(),\n",
    "    layers.MaxPooling2D((2, 2)),\n",
    "\n",
    "    # Second convolutional block\n",
    "    layers.Conv2D(128, (3, 3), activation='relu'),\n",
    "    layers.BatchNormalization(),\n",
    "    layers.MaxPooling2D((2, 2)),\n",
    "\n",
    "    # Third convolutional block\n",
    "    layers.Conv2D(256, (3, 3), activation='relu'),\n",
    "    layers.BatchNormalization(),\n",
    "    layers.MaxPooling2D((2, 2)),\n",
    "\n",
    "    # Fourth convolutional block\n",
    "    layers.Conv2D(512, (3, 3), activation='relu'),\n",
    "    layers.BatchNormalization(),\n",
    "    layers.MaxPooling2D((2, 2)),\n",
    "\n",
    "    # Fifth convolutional block\n",
    "    layers.Conv2D(512, (3, 3), activation='relu'),\n",
    "    layers.BatchNormalization(),\n",
    "    layers.MaxPooling2D((2, 2)),\n",
    "\n",
    "    # Flatten the output of the convolutional layers\n",
    "    layers.Flatten(),\n",
    "\n",
    "    # Fully connected layer with dropout\n",
    "    layers.Dense(512, activation='relu'),\n",
    "    layers.Dropout(0.5),  # Dropout to prevent overfitting\n",
    "\n",
    "    # Output layer with softmax for binary classification\n",
    "    layers.Dense(num_classes, activation='sigmoid')\n",
    "])\n",
    "\n",
    "# Compile [configure] the model with binary_crossentropy loss\n",
    "model.compile(optimizer='adam', loss='binary_crossentropy', metrics=['accuracy'])\n",
    "\n",
    "# Ensure your input data has the correct shape\n",
    "X_resized = np.resize(X, (X.shape[0], 256, 256, 1))  # Shape: (num_samples, 256, 256, 1)\n",
    "y_expanded = np.concatenate([np.repeat(0, X_resized.shape[0] // 2), np.repeat(1, X_resized.shape[0] // 2)])\n",
    "\n",
    "# Split data into training and validation sets (e.g., 80% training, 20% validation)\n",
    "X_train, X_val, y_train, y_val = train_test_split(X_resized, y_expanded, test_size=0.2, random_state=42)\n",
    "\n",
    "# Train the model (assuming X_train is the image data and y_train are labels)\n",
    "model.fit(X_train, y_train, epochs=10, batch_size=32, validation_data=(X_val, y_val))"
   ]
  },
  {
   "cell_type": "markdown",
   "id": "6e6d72a7-2d4e-41e4-af65-29935364e6d7",
   "metadata": {},
   "source": [
    "Epoch 1/10  \n",
    "549/549 ━━━━━━━━━━━━━━━━━━━━ 5427s 10s/step - accuracy: 0.4940 - loss: 1.9221 - val_accuracy: 0.5003 - val_loss: 1.5989  \n",
    "Epoch 2/10  \n",
    "549/549 ━━━━━━━━━━━━━━━━━━━━ 132174s 241s/step - accuracy: 0.4962 - loss: 0.6936 - val_accuracy: 0.4967 - val_loss: 19.5083  \n",
    "Epoch 3/10  \n",
    "549/549 ━━━━━━━━━━━━━━━━━━━━ 2846s 5s/step - accuracy: 0.4944 - loss: 0.7043 - val_accuracy: 0.4997 - val_loss: 0.7133  \n",
    "Epoch 4/10  \n",
    "549/549 ━━━━━━━━━━━━━━━━━━━━ 2753s 5s/step - accuracy: 0.5005 - loss: 0.6942 - val_accuracy: 0.5033 - val_loss: 0.6931  \n",
    "Epoch 5/10  \n",
    "549/549 ━━━━━━━━━━━━━━━━━━━━ 2721s 5s/step - accuracy: 0.4926 - loss: 0.6932 - val_accuracy: 0.4967 - val_loss: 0.6932  \n",
    "Epoch 6/10  \n",
    "549/549 ━━━━━━━━━━━━━━━━━━━━ 2751s 5s/step - accuracy: 0.4928 - loss: 0.6935 - val_accuracy: 0.4972 - val_loss: 0.6940  \n",
    "Epoch 7/10  \n",
    "549/549 ━━━━━━━━━━━━━━━━━━━━ 2866s 5s/step - accuracy: 0.4967 - loss: 0.6932 - val_accuracy: 0.4967 - val_loss: 0.6932  \n",
    "Epoch 8/10  \n",
    "549/549 ━━━━━━━━━━━━━━━━━━━━ 2833s 5s/step - accuracy: 0.4969 - loss: 0.6936 - val_accuracy: 0.5033 - val_loss: 0.6931  \n",
    "Epoch 9/10  \n",
    "549/549 ━━━━━━━━━━━━━━━━━━━━ 2741s 5s/step - accuracy: 0.4981 - loss: 0.6933 - val_accuracy: 0.4983 - val_loss: 8.6245  \n",
    "Epoch 10/10  \n",
    "549/549 ━━━━━━━━━━━━━━━━━━━━ 2914s 5s/step - accuracy: 0.5031 - loss: 0.6934 - val_accuracy: 0.5033 - val_loss: 0.6931  \n",
    "<keras.src.callbacks.history.History at 0x27a96c2b150>"
   ]
  },
  {
   "cell_type": "code",
   "execution_count": 187,
   "id": "a47e5721-5c30-4ddc-9058-98469705a2c9",
   "metadata": {},
   "outputs": [
    {
     "data": {
      "text/html": [
       "\n",
       "            <style>\n",
       "                .geemap-dark {\n",
       "                    --jp-widgets-color: white;\n",
       "                    --jp-widgets-label-color: white;\n",
       "                    --jp-ui-font-color1: white;\n",
       "                    --jp-layout-color2: #454545;\n",
       "                    background-color: #383838;\n",
       "                }\n",
       "\n",
       "                .geemap-dark .jupyter-button {\n",
       "                    --jp-layout-color3: #383838;\n",
       "                }\n",
       "\n",
       "                .geemap-colab {\n",
       "                    background-color: var(--colab-primary-surface-color, white);\n",
       "                }\n",
       "\n",
       "                .geemap-colab .jupyter-button {\n",
       "                    --jp-layout-color3: var(--colab-primary-surface-color, white);\n",
       "                }\n",
       "            </style>\n",
       "            "
      ],
      "text/plain": [
       "<IPython.core.display.HTML object>"
      ]
     },
     "metadata": {},
     "output_type": "display_data"
    },
    {
     "data": {
      "application/vnd.jupyter.widget-view+json": {
       "model_id": "8dbbfacce0f14b6fbd7a6f172499b759",
       "version_major": 2,
       "version_minor": 0
      },
      "text/plain": [
       "Map(center=[46.529, 6.746], controls=(ZoomControl(options=['position', 'zoom_in_text', 'zoom_in_title', 'zoom_…"
      ]
     },
     "metadata": {},
     "output_type": "display_data"
    }
   ],
   "source": [
    "# define a year to be used [used for further processing]\n",
    "year = 2013\n",
    "dataset_image_land_07 = ee.Image('LANDSAT/LE07/C02/T1_TOA/LE07_195027_19990725').select(\n",
    "    ['B3', 'B2', 'B1']\n",
    ")\n",
    "\n",
    "dataset_land_07 = ee.ImageCollection('LANDSAT/LE07/C02/T1_TOA').filterDate(\n",
    "    '2001-01-01', '2002-12-31'\n",
    ").select(['B3', 'B2', 'B1'])\n",
    "trueColor321 = dataset_land_07.select(['B3', 'B2', 'B1'])\n",
    "trueColor321Vis = {\n",
    "    'min': 0.0,\n",
    "    'max': 0.4,\n",
    "    'gamma': 1.2,\n",
    "}\n",
    "m = geemap.Map()\n",
    "m.set_center(6.746, 46.529, 6)\n",
    "m.add_layer(trueColor321, trueColor321Vis, 'True Color (321)')\n",
    "m"
   ]
  },
  {
   "cell_type": "markdown",
   "id": "0ba8ce9f-b02d-489f-9b6b-aaaf85a591d6",
   "metadata": {},
   "source": [
    "The selection of bands B4 (red) and B5 (near-infrared) for calculating NDVI is correct for Landsat data. These are the standard bands used to assess vegetation health, as they emphasize the contrast between vegetation and other land cover types."
   ]
  },
  {
   "cell_type": "code",
   "execution_count": 188,
   "id": "36657947-675c-4b7b-955f-168b871453b3",
   "metadata": {},
   "outputs": [
    {
     "data": {
      "text/html": [
       "\n",
       "            <style>\n",
       "                .geemap-dark {\n",
       "                    --jp-widgets-color: white;\n",
       "                    --jp-widgets-label-color: white;\n",
       "                    --jp-ui-font-color1: white;\n",
       "                    --jp-layout-color2: #454545;\n",
       "                    background-color: #383838;\n",
       "                }\n",
       "\n",
       "                .geemap-dark .jupyter-button {\n",
       "                    --jp-layout-color3: #383838;\n",
       "                }\n",
       "\n",
       "                .geemap-colab {\n",
       "                    background-color: var(--colab-primary-surface-color, white);\n",
       "                }\n",
       "\n",
       "                .geemap-colab .jupyter-button {\n",
       "                    --jp-layout-color3: var(--colab-primary-surface-color, white);\n",
       "                }\n",
       "            </style>\n",
       "            "
      ],
      "text/plain": [
       "<IPython.core.display.HTML object>"
      ]
     },
     "metadata": {},
     "output_type": "display_data"
    },
    {
     "data": {
      "application/vnd.jupyter.widget-view+json": {
       "model_id": "cafc15ed68e64a84b03db9964939e9f3",
       "version_major": 2,
       "version_minor": 0
      },
      "text/plain": [
       "Map(center=[46.529, 6.746], controls=(ZoomControl(options=['position', 'zoom_in_text', 'zoom_in_title', 'zoom_…"
      ]
     },
     "metadata": {},
     "output_type": "display_data"
    }
   ],
   "source": [
    "dataset_image_land_08 = ee.Image('LANDSAT/LC08/C02/T1_TOA/LC08_199027_20170831').select(\n",
    "    ['B3', 'B2', 'B1']\n",
    ")\n",
    "\n",
    "dataset_land_08 = ee.ImageCollection('LANDSAT/LC08/C02/T1_TOA').filterDate(\n",
    "    f'{year}-01-01', f'{year}-12-31'\n",
    ").select(['B4', 'B5', 'B2'])\n",
    "true_color_432 = dataset_land_08.select(['B4', 'B5'])\n",
    "true_color_432_vis = {\n",
    "    'min': 0.0,\n",
    "    'max': 0.4,\n",
    "}\n",
    "m = geemap.Map()\n",
    "m.set_center(6.746, 46.529, 6)\n",
    "m.add_layer(true_color_432, true_color_432_vis, 'True Color (432)')\n",
    "m"
   ]
  },
  {
   "cell_type": "markdown",
   "id": "2f7e3bb0-d10a-439e-a024-6b812387d8ae",
   "metadata": {},
   "source": [
    "Longitude: 7.171219710217076  \r\n",
    "​Latitude: 47.24405762918135"
   ]
  },
  {
   "cell_type": "code",
   "execution_count": 189,
   "id": "0a9675b9-00ad-415e-b1e3-177ab021fd2a",
   "metadata": {},
   "outputs": [
    {
     "data": {
      "text/html": [
       "\n",
       "            <style>\n",
       "                .geemap-dark {\n",
       "                    --jp-widgets-color: white;\n",
       "                    --jp-widgets-label-color: white;\n",
       "                    --jp-ui-font-color1: white;\n",
       "                    --jp-layout-color2: #454545;\n",
       "                    background-color: #383838;\n",
       "                }\n",
       "\n",
       "                .geemap-dark .jupyter-button {\n",
       "                    --jp-layout-color3: #383838;\n",
       "                }\n",
       "\n",
       "                .geemap-colab {\n",
       "                    background-color: var(--colab-primary-surface-color, white);\n",
       "                }\n",
       "\n",
       "                .geemap-colab .jupyter-button {\n",
       "                    --jp-layout-color3: var(--colab-primary-surface-color, white);\n",
       "                }\n",
       "            </style>\n",
       "            "
      ],
      "text/plain": [
       "<IPython.core.display.HTML object>"
      ]
     },
     "metadata": {},
     "output_type": "display_data"
    }
   ],
   "source": [
    "# - first line is standard approach for encompassing the region\n",
    "# geometry = ee.Geometry.Rectangle([-8, 37, 33,52])\n",
    "\n",
    "# - second line of code is with above map points and a buffer\n",
    "point = ee.Geometry.Point([40.28, 61.28])\n",
    "\n",
    "# Create a buffer of 5 kilometers\n",
    "buffer = point.buffer(5000)\n",
    "\n",
    "# Use the buffer or the point as the region for export\n",
    "geometry = buffer.bounds()"
   ]
  },
  {
   "cell_type": "markdown",
   "id": "62a1cfa6-0701-4d04-abbf-49e8a1aacd4c",
   "metadata": {},
   "source": [
    "Projections:\n",
    "https://developers.google.com/earth-engine/guides/projections"
   ]
  },
  {
   "cell_type": "code",
   "execution_count": 190,
   "id": "d40dbe69-ef26-418d-b3ff-ea37fe3cefc8",
   "metadata": {},
   "outputs": [
    {
     "data": {
      "text/html": [
       "\n",
       "            <style>\n",
       "                .geemap-dark {\n",
       "                    --jp-widgets-color: white;\n",
       "                    --jp-widgets-label-color: white;\n",
       "                    --jp-ui-font-color1: white;\n",
       "                    --jp-layout-color2: #454545;\n",
       "                    background-color: #383838;\n",
       "                }\n",
       "\n",
       "                .geemap-dark .jupyter-button {\n",
       "                    --jp-layout-color3: #383838;\n",
       "                }\n",
       "\n",
       "                .geemap-colab {\n",
       "                    background-color: var(--colab-primary-surface-color, white);\n",
       "                }\n",
       "\n",
       "                .geemap-colab .jupyter-button {\n",
       "                    --jp-layout-color3: var(--colab-primary-surface-color, white);\n",
       "                }\n",
       "            </style>\n",
       "            "
      ],
      "text/plain": [
       "<IPython.core.display.HTML object>"
      ]
     },
     "metadata": {},
     "output_type": "display_data"
    },
    {
     "data": {
      "text/html": [
       "<div><style>:root {\n",
       "  --font-color-primary: var(--jp-content-font-color0, rgba(0, 0, 0, 1));\n",
       "  --font-color-secondary: var(--jp-content-font-color2, rgba(0, 0, 0, 0.6));\n",
       "  --font-color-accent: rgba(123, 31, 162, 1);\n",
       "  --border-color: var(--jp-border-color2, #e0e0e0);\n",
       "  --background-color: var(--jp-layout-color0, white);\n",
       "  --background-color-row-even: var(--jp-layout-color1, white);\n",
       "  --background-color-row-odd: var(--jp-layout-color2, #eeeeee);\n",
       "}\n",
       "\n",
       "html[theme=\"dark\"],\n",
       "body[data-theme=\"dark\"],\n",
       "body.vscode-dark {\n",
       "  --font-color-primary: rgba(255, 255, 255, 1);\n",
       "  --font-color-secondary: rgba(255, 255, 255, 0.6);\n",
       "  --font-color-accent: rgb(173, 132, 190);\n",
       "  --border-color: #2e2e2e;\n",
       "  --background-color: #111111;\n",
       "  --background-color-row-even: #111111;\n",
       "  --background-color-row-odd: #313131;\n",
       "}\n",
       "\n",
       ".ee {\n",
       "  padding: 1em;\n",
       "  line-height: 1.5em;\n",
       "  min-width: 300px;\n",
       "  max-width: 1200px;\n",
       "  overflow-y: scroll;\n",
       "  max-height: 600px;\n",
       "  border: 1px solid var(--border-color);\n",
       "  font-family: monospace;\n",
       "}\n",
       "\n",
       ".ee li {\n",
       "  list-style-type: none;\n",
       "}\n",
       "\n",
       ".ee ul {\n",
       "  padding-left: 1.5em !important;\n",
       "  margin: 0;\n",
       "}\n",
       "\n",
       ".ee > ul {\n",
       "  padding-left: 0 !important;\n",
       "}\n",
       "\n",
       ".ee-open,\n",
       ".ee-shut {\n",
       "  color: var(--font-color-secondary);\n",
       "  cursor: pointer;\n",
       "  margin: 0;\n",
       "}\n",
       "\n",
       ".ee-open:hover,\n",
       ".ee-shut:hover {\n",
       "  color: var(--font-color-primary);\n",
       "}\n",
       "\n",
       ".ee-k {\n",
       "  color: var(--font-color-accent);\n",
       "  margin-right: 6px;\n",
       "}\n",
       "\n",
       ".ee-v {\n",
       "  color: var(--font-color-primary);\n",
       "}\n",
       "\n",
       ".ee-toggle {\n",
       "  display: none;\n",
       "}\n",
       "\n",
       ".ee-shut + ul {\n",
       "  display: none;\n",
       "}\n",
       "\n",
       ".ee-open + ul {\n",
       "  display: block;\n",
       "}\n",
       "\n",
       ".ee-shut::before {\n",
       "  display: inline-block;\n",
       "  content: \"▼\";\n",
       "  margin-right: 6px;\n",
       "  transform: rotate(-90deg);\n",
       "  transition: transform 0.2s;\n",
       "}\n",
       "\n",
       ".ee-open::before {\n",
       "  transform: rotate(0deg);\n",
       "  display: inline-block;\n",
       "  content: \"▼\";\n",
       "  margin-right: 6px;\n",
       "  transition: transform 0.2s;\n",
       "}\n",
       "</style><div class='ee'><ul><li><span class='ee-v'>106830</span></li></ul></div><script>function toggleHeader() {\n",
       "    const parent = this.parentElement;\n",
       "    parent.className = parent.className === \"ee-open\" ? \"ee-shut\" : \"ee-open\";\n",
       "}\n",
       "\n",
       "for (let c of document.getElementsByClassName(\"ee-toggle\")) {\n",
       "    c.onclick = toggleHeader;\n",
       "}</script></div>"
      ],
      "text/plain": [
       "<ee.ee_number.Number at 0x15379d19c10>"
      ]
     },
     "execution_count": 190,
     "metadata": {},
     "output_type": "execute_result"
    }
   ],
   "source": [
    "dataset_land_08.size()"
   ]
  },
  {
   "cell_type": "code",
   "execution_count": 47,
   "id": "aba3d5f2-72e4-41e9-9c43-3e2174d57cd7",
   "metadata": {},
   "outputs": [
    {
     "data": {
      "text/html": [
       "\n",
       "            <style>\n",
       "                .geemap-dark {\n",
       "                    --jp-widgets-color: white;\n",
       "                    --jp-widgets-label-color: white;\n",
       "                    --jp-ui-font-color1: white;\n",
       "                    --jp-layout-color2: #454545;\n",
       "                    background-color: #383838;\n",
       "                }\n",
       "\n",
       "                .geemap-dark .jupyter-button {\n",
       "                    --jp-layout-color3: #383838;\n",
       "                }\n",
       "\n",
       "                .geemap-colab {\n",
       "                    background-color: var(--colab-primary-surface-color, white);\n",
       "                }\n",
       "\n",
       "                .geemap-colab .jupyter-button {\n",
       "                    --jp-layout-color3: var(--colab-primary-surface-color, white);\n",
       "                }\n",
       "            </style>\n",
       "            "
      ],
      "text/plain": [
       "<IPython.core.display.HTML object>"
      ]
     },
     "metadata": {},
     "output_type": "display_data"
    }
   ],
   "source": [
    "dataset_landsat_with_ndvi = dataset_land_08.limit(20).map(compute_ndvi)"
   ]
  },
  {
   "cell_type": "code",
   "execution_count": 49,
   "id": "c4edb3a3-9a1f-41df-9474-1db1d08d8304",
   "metadata": {},
   "outputs": [
    {
     "data": {
      "text/html": [
       "\n",
       "            <style>\n",
       "                .geemap-dark {\n",
       "                    --jp-widgets-color: white;\n",
       "                    --jp-widgets-label-color: white;\n",
       "                    --jp-ui-font-color1: white;\n",
       "                    --jp-layout-color2: #454545;\n",
       "                    background-color: #383838;\n",
       "                }\n",
       "\n",
       "                .geemap-dark .jupyter-button {\n",
       "                    --jp-layout-color3: #383838;\n",
       "                }\n",
       "\n",
       "                .geemap-colab {\n",
       "                    background-color: var(--colab-primary-surface-color, white);\n",
       "                }\n",
       "\n",
       "                .geemap-colab .jupyter-button {\n",
       "                    --jp-layout-color3: var(--colab-primary-surface-color, white);\n",
       "                }\n",
       "            </style>\n",
       "            "
      ],
      "text/plain": [
       "<IPython.core.display.HTML object>"
      ]
     },
     "metadata": {},
     "output_type": "display_data"
    }
   ],
   "source": [
    "# Get a median composite of the NDVI band\n",
    "ndvi_landsat_08_composite = dataset_landsat_with_ndvi.select('NDVI').median()"
   ]
  },
  {
   "cell_type": "code",
   "execution_count": 50,
   "id": "2e06af04-1285-48e0-b40b-6afa9ce22f34",
   "metadata": {},
   "outputs": [
    {
     "data": {
      "text/html": [
       "\n",
       "            <style>\n",
       "                .geemap-dark {\n",
       "                    --jp-widgets-color: white;\n",
       "                    --jp-widgets-label-color: white;\n",
       "                    --jp-ui-font-color1: white;\n",
       "                    --jp-layout-color2: #454545;\n",
       "                    background-color: #383838;\n",
       "                }\n",
       "\n",
       "                .geemap-dark .jupyter-button {\n",
       "                    --jp-layout-color3: #383838;\n",
       "                }\n",
       "\n",
       "                .geemap-colab {\n",
       "                    background-color: var(--colab-primary-surface-color, white);\n",
       "                }\n",
       "\n",
       "                .geemap-colab .jupyter-button {\n",
       "                    --jp-layout-color3: var(--colab-primary-surface-color, white);\n",
       "                }\n",
       "            </style>\n",
       "            "
      ],
      "text/plain": [
       "<IPython.core.display.HTML object>"
      ]
     },
     "metadata": {},
     "output_type": "display_data"
    },
    {
     "data": {
      "text/html": [
       "<div><style>:root {\n",
       "  --font-color-primary: var(--jp-content-font-color0, rgba(0, 0, 0, 1));\n",
       "  --font-color-secondary: var(--jp-content-font-color2, rgba(0, 0, 0, 0.6));\n",
       "  --font-color-accent: rgba(123, 31, 162, 1);\n",
       "  --border-color: var(--jp-border-color2, #e0e0e0);\n",
       "  --background-color: var(--jp-layout-color0, white);\n",
       "  --background-color-row-even: var(--jp-layout-color1, white);\n",
       "  --background-color-row-odd: var(--jp-layout-color2, #eeeeee);\n",
       "}\n",
       "\n",
       "html[theme=\"dark\"],\n",
       "body[data-theme=\"dark\"],\n",
       "body.vscode-dark {\n",
       "  --font-color-primary: rgba(255, 255, 255, 1);\n",
       "  --font-color-secondary: rgba(255, 255, 255, 0.6);\n",
       "  --font-color-accent: rgb(173, 132, 190);\n",
       "  --border-color: #2e2e2e;\n",
       "  --background-color: #111111;\n",
       "  --background-color-row-even: #111111;\n",
       "  --background-color-row-odd: #313131;\n",
       "}\n",
       "\n",
       ".ee {\n",
       "  padding: 1em;\n",
       "  line-height: 1.5em;\n",
       "  min-width: 300px;\n",
       "  max-width: 1200px;\n",
       "  overflow-y: scroll;\n",
       "  max-height: 600px;\n",
       "  border: 1px solid var(--border-color);\n",
       "  font-family: monospace;\n",
       "}\n",
       "\n",
       ".ee li {\n",
       "  list-style-type: none;\n",
       "}\n",
       "\n",
       ".ee ul {\n",
       "  padding-left: 1.5em !important;\n",
       "  margin: 0;\n",
       "}\n",
       "\n",
       ".ee > ul {\n",
       "  padding-left: 0 !important;\n",
       "}\n",
       "\n",
       ".ee-open,\n",
       ".ee-shut {\n",
       "  color: var(--font-color-secondary);\n",
       "  cursor: pointer;\n",
       "  margin: 0;\n",
       "}\n",
       "\n",
       ".ee-open:hover,\n",
       ".ee-shut:hover {\n",
       "  color: var(--font-color-primary);\n",
       "}\n",
       "\n",
       ".ee-k {\n",
       "  color: var(--font-color-accent);\n",
       "  margin-right: 6px;\n",
       "}\n",
       "\n",
       ".ee-v {\n",
       "  color: var(--font-color-primary);\n",
       "}\n",
       "\n",
       ".ee-toggle {\n",
       "  display: none;\n",
       "}\n",
       "\n",
       ".ee-shut + ul {\n",
       "  display: none;\n",
       "}\n",
       "\n",
       ".ee-open + ul {\n",
       "  display: block;\n",
       "}\n",
       "\n",
       ".ee-shut::before {\n",
       "  display: inline-block;\n",
       "  content: \"▼\";\n",
       "  margin-right: 6px;\n",
       "  transform: rotate(-90deg);\n",
       "  transition: transform 0.2s;\n",
       "}\n",
       "\n",
       ".ee-open::before {\n",
       "  transform: rotate(0deg);\n",
       "  display: inline-block;\n",
       "  content: \"▼\";\n",
       "  margin-right: 6px;\n",
       "  transition: transform 0.2s;\n",
       "}\n",
       "</style><div class='ee'><ul><li><label class='ee-shut'>Image (1 band)<input type='checkbox' class='ee-toggle'></label><ul><li><span class='ee-k'>type:</span><span class='ee-v'>Image</span></li><li><label class='ee-shut'>bands: List (1 element)<input type='checkbox' class='ee-toggle'></label><ul><li><label class='ee-shut'>0: \"NDVI\", float, EPSG:4326<input type='checkbox' class='ee-toggle'></label><ul><li><span class='ee-k'>id:</span><span class='ee-v'>NDVI</span></li><li><span class='ee-k'>crs:</span><span class='ee-v'>EPSG:4326</span></li><li><label class='ee-shut'>crs_transform: [1, 0, 0, 0, 1, 0]<input type='checkbox' class='ee-toggle'></label><ul><li><span class='ee-k'>0:</span><span class='ee-v'>1</span></li><li><span class='ee-k'>1:</span><span class='ee-v'>0</span></li><li><span class='ee-k'>2:</span><span class='ee-v'>0</span></li><li><span class='ee-k'>3:</span><span class='ee-v'>0</span></li><li><span class='ee-k'>4:</span><span class='ee-v'>1</span></li><li><span class='ee-k'>5:</span><span class='ee-v'>0</span></li></ul></li><li><label class='ee-shut'>data_type: float<input type='checkbox' class='ee-toggle'></label><ul><li><span class='ee-k'>type:</span><span class='ee-v'>PixelType</span></li><li><span class='ee-k'>max:</span><span class='ee-v'>1</span></li><li><span class='ee-k'>min:</span><span class='ee-v'>-1</span></li><li><span class='ee-k'>precision:</span><span class='ee-v'>float</span></li></ul></li></ul></li></ul></li></ul></li></ul></div><script>function toggleHeader() {\n",
       "    const parent = this.parentElement;\n",
       "    parent.className = parent.className === \"ee-open\" ? \"ee-shut\" : \"ee-open\";\n",
       "}\n",
       "\n",
       "for (let c of document.getElementsByClassName(\"ee-toggle\")) {\n",
       "    c.onclick = toggleHeader;\n",
       "}</script></div>"
      ],
      "text/plain": [
       "<ee.image.Image at 0x270324f5590>"
      ]
     },
     "execution_count": 50,
     "metadata": {},
     "output_type": "execute_result"
    }
   ],
   "source": [
    "ndvi_landsat_08_composite"
   ]
  },
  {
   "cell_type": "code",
   "execution_count": 25,
   "id": "b10f9c4d-7aaa-418e-a9b3-42b500ea1024",
   "metadata": {},
   "outputs": [
    {
     "data": {
      "text/html": [
       "\n",
       "            <style>\n",
       "                .geemap-dark {\n",
       "                    --jp-widgets-color: white;\n",
       "                    --jp-widgets-label-color: white;\n",
       "                    --jp-ui-font-color1: white;\n",
       "                    --jp-layout-color2: #454545;\n",
       "                    background-color: #383838;\n",
       "                }\n",
       "\n",
       "                .geemap-dark .jupyter-button {\n",
       "                    --jp-layout-color3: #383838;\n",
       "                }\n",
       "\n",
       "                .geemap-colab {\n",
       "                    background-color: var(--colab-primary-surface-color, white);\n",
       "                }\n",
       "\n",
       "                .geemap-colab .jupyter-button {\n",
       "                    --jp-layout-color3: var(--colab-primary-surface-color, white);\n",
       "                }\n",
       "            </style>\n",
       "            "
      ],
      "text/plain": [
       "<IPython.core.display.HTML object>"
      ]
     },
     "metadata": {},
     "output_type": "display_data"
    }
   ],
   "source": [
    "export(ndvi_landsat_08_composite, geometry, 'Landsat_08_NDVI_Export_06')"
   ]
  },
  {
   "cell_type": "code",
   "execution_count": 191,
   "id": "545498b4-b60a-41fc-b18d-fcd3884209a1",
   "metadata": {},
   "outputs": [
    {
     "data": {
      "text/html": [
       "\n",
       "            <style>\n",
       "                .geemap-dark {\n",
       "                    --jp-widgets-color: white;\n",
       "                    --jp-widgets-label-color: white;\n",
       "                    --jp-ui-font-color1: white;\n",
       "                    --jp-layout-color2: #454545;\n",
       "                    background-color: #383838;\n",
       "                }\n",
       "\n",
       "                .geemap-dark .jupyter-button {\n",
       "                    --jp-layout-color3: #383838;\n",
       "                }\n",
       "\n",
       "                .geemap-colab {\n",
       "                    background-color: var(--colab-primary-surface-color, white);\n",
       "                }\n",
       "\n",
       "                .geemap-colab .jupyter-button {\n",
       "                    --jp-layout-color3: var(--colab-primary-surface-color, white);\n",
       "                }\n",
       "            </style>\n",
       "            "
      ],
      "text/plain": [
       "<IPython.core.display.HTML object>"
      ]
     },
     "metadata": {},
     "output_type": "display_data"
    }
   ],
   "source": [
    "# Export the image, specifying the CRS, transform, and region.\n",
    "def export_task (dataset, geometry, description):\n",
    "    task = ee.batch.Export.image.toDrive(\n",
    "        image=dataset,\n",
    "        description=description,\n",
    "        # crs=projection.get('crs'),\n",
    "        # crsTransform=projection['transform'],\n",
    "        scale=30, # 30 for Landsat\n",
    "        region=geometry,\n",
    "        maxPixels=1e13  # Increase max pixels to allow large exports\n",
    "    )\n",
    "    task.start()"
   ]
  },
  {
   "cell_type": "markdown",
   "id": "dfc7da73-6c97-444b-a8da-44b21d66dc78",
   "metadata": {},
   "source": [
    "EEException: User memory limit exceeded. > from entire dataset. Export in batches."
   ]
  },
  {
   "cell_type": "code",
   "execution_count": 192,
   "id": "65aabeda-6739-4c7a-9b87-88474a685620",
   "metadata": {
    "editable": true,
    "slideshow": {
     "slide_type": ""
    },
    "tags": []
   },
   "outputs": [
    {
     "data": {
      "text/html": [
       "\n",
       "            <style>\n",
       "                .geemap-dark {\n",
       "                    --jp-widgets-color: white;\n",
       "                    --jp-widgets-label-color: white;\n",
       "                    --jp-ui-font-color1: white;\n",
       "                    --jp-layout-color2: #454545;\n",
       "                    background-color: #383838;\n",
       "                }\n",
       "\n",
       "                .geemap-dark .jupyter-button {\n",
       "                    --jp-layout-color3: #383838;\n",
       "                }\n",
       "\n",
       "                .geemap-colab {\n",
       "                    background-color: var(--colab-primary-surface-color, white);\n",
       "                }\n",
       "\n",
       "                .geemap-colab .jupyter-button {\n",
       "                    --jp-layout-color3: var(--colab-primary-surface-color, white);\n",
       "                }\n",
       "            </style>\n",
       "            "
      ],
      "text/plain": [
       "<IPython.core.display.HTML object>"
      ]
     },
     "metadata": {},
     "output_type": "display_data"
    }
   ],
   "source": [
    "# Define a function to export each batch\n",
    "def export_monthly_batch(collection, start_date, end_date, batch_id):\n",
    "    # Filter collection by date\n",
    "    monthly_collection = collection.filterDate(start_date, end_date) \n",
    "    \n",
    "    # Create a composite image for the batch\n",
    "    composite_image = monthly_collection.median()\n",
    "\n",
    "    task = export_task(composite_image, geometry, 'Landsat_08_NDVI_Export_13')\n",
    "\n",
    "    if debug_enabled:\n",
    "        print(f\"Exporting batch {batch_id} from {start_date} to {end_date}\")\n",
    "\n",
    "# Define the list of monthly batches\n",
    "dates = [\n",
    "    (f'{year}-01-01', f'{year}-01-31'),\n",
    "    (f'{year}-02-01', f'{year}-02-28'),\n",
    "    (f'{year}-03-01', f'{year}-03-31'),\n",
    "    (f'{year}-04-01', f'{year}-04-30'),\n",
    "    (f'{year}-05-01', f'{year}-05-31'),\n",
    "    (f'{year}-06-01', f'{year}-06-30'),\n",
    "    (f'{year}-07-01', f'{year}-07-31'),\n",
    "    (f'{year}-08-01', f'{year}-08-31'),\n",
    "    (f'{year}-09-01', f'{year}-09-30'),\n",
    "    (f'{year}-10-01', f'{year}-10-31'),\n",
    "    (f'{year}-11-01', f'{year}-11-30'),\n",
    "    (f'{year}-12-01', f'{year}-12-31')\n",
    "]"
   ]
  },
  {
   "cell_type": "code",
   "execution_count": 193,
   "id": "144827e9-4fac-4bb3-b768-c7f4a6b4b107",
   "metadata": {},
   "outputs": [
    {
     "data": {
      "text/html": [
       "\n",
       "            <style>\n",
       "                .geemap-dark {\n",
       "                    --jp-widgets-color: white;\n",
       "                    --jp-widgets-label-color: white;\n",
       "                    --jp-ui-font-color1: white;\n",
       "                    --jp-layout-color2: #454545;\n",
       "                    background-color: #383838;\n",
       "                }\n",
       "\n",
       "                .geemap-dark .jupyter-button {\n",
       "                    --jp-layout-color3: #383838;\n",
       "                }\n",
       "\n",
       "                .geemap-colab {\n",
       "                    background-color: var(--colab-primary-surface-color, white);\n",
       "                }\n",
       "\n",
       "                .geemap-colab .jupyter-button {\n",
       "                    --jp-layout-color3: var(--colab-primary-surface-color, white);\n",
       "                }\n",
       "            </style>\n",
       "            "
      ],
      "text/plain": [
       "<IPython.core.display.HTML object>"
      ]
     },
     "metadata": {},
     "output_type": "display_data"
    }
   ],
   "source": [
    "# Loop over each date range and export each month as a separate batch\n",
    "for i, (start_date, end_date) in enumerate(dates):\n",
    "    export_monthly_batch(dataset_land_08, start_date, end_date, i+1)"
   ]
  },
  {
   "cell_type": "code",
   "execution_count": 194,
   "id": "3beab92b-f3a7-4748-ae4e-b8dcd48b0b67",
   "metadata": {
    "editable": true,
    "slideshow": {
     "slide_type": ""
    },
    "tags": []
   },
   "outputs": [
    {
     "data": {
      "text/html": [
       "\n",
       "            <style>\n",
       "                .geemap-dark {\n",
       "                    --jp-widgets-color: white;\n",
       "                    --jp-widgets-label-color: white;\n",
       "                    --jp-ui-font-color1: white;\n",
       "                    --jp-layout-color2: #454545;\n",
       "                    background-color: #383838;\n",
       "                }\n",
       "\n",
       "                .geemap-dark .jupyter-button {\n",
       "                    --jp-layout-color3: #383838;\n",
       "                }\n",
       "\n",
       "                .geemap-colab {\n",
       "                    background-color: var(--colab-primary-surface-color, white);\n",
       "                }\n",
       "\n",
       "                .geemap-colab .jupyter-button {\n",
       "                    --jp-layout-color3: var(--colab-primary-surface-color, white);\n",
       "                }\n",
       "            </style>\n",
       "            "
      ],
      "text/plain": [
       "<IPython.core.display.HTML object>"
      ]
     },
     "metadata": {},
     "output_type": "display_data"
    },
    {
     "name": "stdout",
     "output_type": "stream",
     "text": [
      "Saved resized image with 3 band(s) to Datasets/Model_Ready/Landsat_08_NDVI_Export_13(1).tif.\n",
      "Saved resized image with 3 band(s) to Datasets/Model_Ready/Landsat_08_NDVI_Export_13(2).tif.\n",
      "Saved resized image with 3 band(s) to Datasets/Model_Ready/Landsat_08_NDVI_Export_13(3).tif.\n",
      "Saved resized image with 3 band(s) to Datasets/Model_Ready/Landsat_08_NDVI_Export_13(4).tif.\n",
      "Saved resized image with 3 band(s) to Datasets/Model_Ready/Landsat_08_NDVI_Export_13(5).tif.\n",
      "Saved resized image with 3 band(s) to Datasets/Model_Ready/Landsat_08_NDVI_Export_13(6).tif.\n",
      "Saved resized image with 3 band(s) to Datasets/Model_Ready/Landsat_08_NDVI_Export_13(7).tif.\n",
      "Saved resized image with 3 band(s) to Datasets/Model_Ready/Landsat_08_NDVI_Export_13(8).tif.\n",
      "Saved resized image with 3 band(s) to Datasets/Model_Ready/Landsat_08_NDVI_Export_13(9).tif.\n",
      "Saved resized image with 3 band(s) to Datasets/Model_Ready/Landsat_08_NDVI_Export_13.tif.\n"
     ]
    },
    {
     "name": "stderr",
     "output_type": "stream",
     "text": [
      "C:\\Users\\zhech\\anaconda3\\Lib\\site-packages\\skimage\\transform\\_warps.py:738: RuntimeWarning: All-NaN slice encountered\n",
      "  min_val = min_func(input_image)\n",
      "C:\\Users\\zhech\\anaconda3\\Lib\\site-packages\\skimage\\transform\\_warps.py:742: RuntimeWarning: All-NaN slice encountered\n",
      "  max_val = max_func(input_image)\n"
     ]
    }
   ],
   "source": [
    "# Images to be formatted folder name\n",
    "folder_name = 'Resize_function'\n",
    "# loop through all downloaded images and save for model training\n",
    "directory_data = os.fsencode(r\"C:\\Users\\zhech\\Desktop\\Softuni\\Machine Learning\\Final Project\\Datasets\\Landsat\\{}\".format(folder_name))\n",
    "\n",
    "for file in os.listdir(directory_data):\n",
    "    filename = os.fsdecode(file)\n",
    "    load_geotiff_img_advanced(\"Landsat/Resize_function/{}\".format(filename), \"Datasets/Model_Ready/{}\".format(filename))"
   ]
  },
  {
   "cell_type": "code",
   "execution_count": 18,
   "id": "5bb99907-f5dd-4f55-b4a7-049fbd45bab5",
   "metadata": {
    "editable": true,
    "slideshow": {
     "slide_type": ""
    },
    "tags": []
   },
   "outputs": [
    {
     "data": {
      "text/html": [
       "\n",
       "            <style>\n",
       "                .geemap-dark {\n",
       "                    --jp-widgets-color: white;\n",
       "                    --jp-widgets-label-color: white;\n",
       "                    --jp-ui-font-color1: white;\n",
       "                    --jp-layout-color2: #454545;\n",
       "                    background-color: #383838;\n",
       "                }\n",
       "\n",
       "                .geemap-dark .jupyter-button {\n",
       "                    --jp-layout-color3: #383838;\n",
       "                }\n",
       "\n",
       "                .geemap-colab {\n",
       "                    background-color: var(--colab-primary-surface-color, white);\n",
       "                }\n",
       "\n",
       "                .geemap-colab .jupyter-button {\n",
       "                    --jp-layout-color3: var(--colab-primary-surface-color, white);\n",
       "                }\n",
       "            </style>\n",
       "            "
      ],
      "text/plain": [
       "<IPython.core.display.HTML object>"
      ]
     },
     "metadata": {},
     "output_type": "display_data"
    }
   ],
   "source": [
    "# *legacy function\n",
    "\n",
    "# Define Image Loading and Preprocessing Functions\n",
    "def load_geotiff(filepath):\n",
    "    with rasterio.open(filepath) as src:\n",
    "        # Read all bands and return as numpy array\n",
    "        image = src.read()  # Shape: (bands, height, width)\n",
    "    return image\n",
    "\n",
    "def preprocess_image(image):\n",
    "    # Check the shape of the image\n",
    "    if image.ndim == 3 and image.shape[0] == 1:  # Shape is (1, height, width)\n",
    "        image = image[0]  # Remove the first dimension\n",
    "\n",
    "    # Now check the shape again\n",
    "    if len(image.shape) == 2:  # Grayscale image with shape (height, width)\n",
    "        # Convert grayscale to 3 channels by stacking\n",
    "        image = np.stack((image,) * 3, axis=-1)  # Shape becomes (height, width, 3)\n",
    "    elif image.ndim == 3 and image.shape[2] == 3:  # RGB image\n",
    "        pass  # Already in the correct format\n",
    "    else:\n",
    "        raise ValueError(\"Unexpected image shape: {}\".format(image.shape))\n",
    "\n",
    "    return image.astype(np.float32) / 255.0  # Normalize to [0, 1]\n"
   ]
  },
  {
   "cell_type": "code",
   "execution_count": 19,
   "id": "e27be0ae-1874-43bc-9fad-ebffacf4ffd9",
   "metadata": {},
   "outputs": [
    {
     "data": {
      "text/html": [
       "\n",
       "            <style>\n",
       "                .geemap-dark {\n",
       "                    --jp-widgets-color: white;\n",
       "                    --jp-widgets-label-color: white;\n",
       "                    --jp-ui-font-color1: white;\n",
       "                    --jp-layout-color2: #454545;\n",
       "                    background-color: #383838;\n",
       "                }\n",
       "\n",
       "                .geemap-dark .jupyter-button {\n",
       "                    --jp-layout-color3: #383838;\n",
       "                }\n",
       "\n",
       "                .geemap-colab {\n",
       "                    background-color: var(--colab-primary-surface-color, white);\n",
       "                }\n",
       "\n",
       "                .geemap-colab .jupyter-button {\n",
       "                    --jp-layout-color3: var(--colab-primary-surface-color, white);\n",
       "                }\n",
       "            </style>\n",
       "            "
      ],
      "text/plain": [
       "<IPython.core.display.HTML object>"
      ]
     },
     "metadata": {},
     "output_type": "display_data"
    },
    {
     "name": "stdout",
     "output_type": "stream",
     "text": [
      "Loading file: C:\\Users\\zhech\\Desktop\\Softuni\\Machine Learning\\Final Project\\Datasets\\Model_Ready\\Image_1.tif\n",
      "Processed image shape: (256, 256, 3)\n",
      "Loading file: C:\\Users\\zhech\\Desktop\\Softuni\\Machine Learning\\Final Project\\Datasets\\Model_Ready\\Image_2.tif\n",
      "Processed image shape: (256, 256, 3)\n",
      "Loading file: C:\\Users\\zhech\\Desktop\\Softuni\\Machine Learning\\Final Project\\Datasets\\Model_Ready\\Image_3.tif\n",
      "Processed image shape: (256, 256, 3)\n",
      "Loading file: C:\\Users\\zhech\\Desktop\\Softuni\\Machine Learning\\Final Project\\Datasets\\Model_Ready\\Image_4.tif\n",
      "Processed image shape: (256, 256, 3)\n",
      "Loading file: C:\\Users\\zhech\\Desktop\\Softuni\\Machine Learning\\Final Project\\Datasets\\Model_Ready\\Landsat_08_NDVI_Export_05-0000000000-0000000000.tif\n",
      "Processed image shape: (256, 256, 3)\n",
      "Loading file: C:\\Users\\zhech\\Desktop\\Softuni\\Machine Learning\\Final Project\\Datasets\\Model_Ready\\Landsat_08_NDVI_Export_05-0000000000-0000032768.tif\n",
      "Processed image shape: (256, 256, 3)\n",
      "Loading file: C:\\Users\\zhech\\Desktop\\Softuni\\Machine Learning\\Final Project\\Datasets\\Model_Ready\\Landsat_08_NDVI_Export_05-0000000000-0000065536.tif\n",
      "Processed image shape: (256, 256, 3)\n",
      "Loading file: C:\\Users\\zhech\\Desktop\\Softuni\\Machine Learning\\Final Project\\Datasets\\Model_Ready\\Landsat_08_NDVI_Export_05-0000000000-0000098304.tif\n",
      "Processed image shape: (256, 256, 3)\n",
      "Loading file: C:\\Users\\zhech\\Desktop\\Softuni\\Machine Learning\\Final Project\\Datasets\\Model_Ready\\Landsat_08_NDVI_Export_05-0000000000-0000131072.tif\n",
      "Processed image shape: (256, 256, 3)\n",
      "Loading file: C:\\Users\\zhech\\Desktop\\Softuni\\Machine Learning\\Final Project\\Datasets\\Model_Ready\\Landsat_08_NDVI_Export_05-0000032768-0000000000.tif\n",
      "Processed image shape: (256, 256, 3)\n",
      "Loading file: C:\\Users\\zhech\\Desktop\\Softuni\\Machine Learning\\Final Project\\Datasets\\Model_Ready\\Landsat_08_NDVI_Export_05-0000032768-0000032768.tif\n",
      "Processed image shape: (256, 256, 3)\n",
      "Loading file: C:\\Users\\zhech\\Desktop\\Softuni\\Machine Learning\\Final Project\\Datasets\\Model_Ready\\Landsat_08_NDVI_Export_05-0000032768-0000065536.tif\n",
      "Processed image shape: (256, 256, 3)\n",
      "Loading file: C:\\Users\\zhech\\Desktop\\Softuni\\Machine Learning\\Final Project\\Datasets\\Model_Ready\\Landsat_08_NDVI_Export_05-0000032768-0000098304.tif\n",
      "Processed image shape: (256, 256, 3)\n",
      "Loading file: C:\\Users\\zhech\\Desktop\\Softuni\\Machine Learning\\Final Project\\Datasets\\Model_Ready\\Landsat_08_NDVI_Export_05-0000032768-0000131072.tif\n",
      "Processed image shape: (256, 256, 3)\n",
      "Loading file: C:\\Users\\zhech\\Desktop\\Softuni\\Machine Learning\\Final Project\\Datasets\\Model_Ready\\Landsat_08_NDVI_Export_07(1).tif\n",
      "Error processing C:\\Users\\zhech\\Desktop\\Softuni\\Machine Learning\\Final Project\\Datasets\\Model_Ready\\Landsat_08_NDVI_Export_07(1).tif: Unexpected image shape: (3, 256, 256)\n",
      "Loading file: C:\\Users\\zhech\\Desktop\\Softuni\\Machine Learning\\Final Project\\Datasets\\Model_Ready\\Landsat_08_NDVI_Export_07(10).tif\n",
      "Error processing C:\\Users\\zhech\\Desktop\\Softuni\\Machine Learning\\Final Project\\Datasets\\Model_Ready\\Landsat_08_NDVI_Export_07(10).tif: Unexpected image shape: (3, 256, 256)\n",
      "Loading file: C:\\Users\\zhech\\Desktop\\Softuni\\Machine Learning\\Final Project\\Datasets\\Model_Ready\\Landsat_08_NDVI_Export_07(11).tif\n",
      "Error processing C:\\Users\\zhech\\Desktop\\Softuni\\Machine Learning\\Final Project\\Datasets\\Model_Ready\\Landsat_08_NDVI_Export_07(11).tif: Unexpected image shape: (3, 256, 256)\n",
      "Loading file: C:\\Users\\zhech\\Desktop\\Softuni\\Machine Learning\\Final Project\\Datasets\\Model_Ready\\Landsat_08_NDVI_Export_07(2).tif\n",
      "Error processing C:\\Users\\zhech\\Desktop\\Softuni\\Machine Learning\\Final Project\\Datasets\\Model_Ready\\Landsat_08_NDVI_Export_07(2).tif: Unexpected image shape: (3, 256, 256)\n",
      "Loading file: C:\\Users\\zhech\\Desktop\\Softuni\\Machine Learning\\Final Project\\Datasets\\Model_Ready\\Landsat_08_NDVI_Export_07(3).tif\n",
      "Error processing C:\\Users\\zhech\\Desktop\\Softuni\\Machine Learning\\Final Project\\Datasets\\Model_Ready\\Landsat_08_NDVI_Export_07(3).tif: Unexpected image shape: (3, 256, 256)\n",
      "Loading file: C:\\Users\\zhech\\Desktop\\Softuni\\Machine Learning\\Final Project\\Datasets\\Model_Ready\\Landsat_08_NDVI_Export_07(4).tif\n",
      "Error processing C:\\Users\\zhech\\Desktop\\Softuni\\Machine Learning\\Final Project\\Datasets\\Model_Ready\\Landsat_08_NDVI_Export_07(4).tif: Unexpected image shape: (3, 256, 256)\n",
      "Loading file: C:\\Users\\zhech\\Desktop\\Softuni\\Machine Learning\\Final Project\\Datasets\\Model_Ready\\Landsat_08_NDVI_Export_07(5).tif\n",
      "Error processing C:\\Users\\zhech\\Desktop\\Softuni\\Machine Learning\\Final Project\\Datasets\\Model_Ready\\Landsat_08_NDVI_Export_07(5).tif: Unexpected image shape: (3, 256, 256)\n",
      "Loading file: C:\\Users\\zhech\\Desktop\\Softuni\\Machine Learning\\Final Project\\Datasets\\Model_Ready\\Landsat_08_NDVI_Export_07(6).tif\n",
      "Error processing C:\\Users\\zhech\\Desktop\\Softuni\\Machine Learning\\Final Project\\Datasets\\Model_Ready\\Landsat_08_NDVI_Export_07(6).tif: Unexpected image shape: (3, 256, 256)\n",
      "Loading file: C:\\Users\\zhech\\Desktop\\Softuni\\Machine Learning\\Final Project\\Datasets\\Model_Ready\\Landsat_08_NDVI_Export_07(7).tif\n",
      "Error processing C:\\Users\\zhech\\Desktop\\Softuni\\Machine Learning\\Final Project\\Datasets\\Model_Ready\\Landsat_08_NDVI_Export_07(7).tif: Unexpected image shape: (3, 256, 256)\n",
      "Loading file: C:\\Users\\zhech\\Desktop\\Softuni\\Machine Learning\\Final Project\\Datasets\\Model_Ready\\Landsat_08_NDVI_Export_07(8).tif\n",
      "Error processing C:\\Users\\zhech\\Desktop\\Softuni\\Machine Learning\\Final Project\\Datasets\\Model_Ready\\Landsat_08_NDVI_Export_07(8).tif: Unexpected image shape: (3, 256, 256)\n",
      "Loading file: C:\\Users\\zhech\\Desktop\\Softuni\\Machine Learning\\Final Project\\Datasets\\Model_Ready\\Landsat_08_NDVI_Export_07(9).tif\n",
      "Error processing C:\\Users\\zhech\\Desktop\\Softuni\\Machine Learning\\Final Project\\Datasets\\Model_Ready\\Landsat_08_NDVI_Export_07(9).tif: Unexpected image shape: (3, 256, 256)\n",
      "Loading file: C:\\Users\\zhech\\Desktop\\Softuni\\Machine Learning\\Final Project\\Datasets\\Model_Ready\\Landsat_08_NDVI_Export_07.tif\n",
      "Error processing C:\\Users\\zhech\\Desktop\\Softuni\\Machine Learning\\Final Project\\Datasets\\Model_Ready\\Landsat_08_NDVI_Export_07.tif: Unexpected image shape: (3, 256, 256)\n",
      "Loading file: C:\\Users\\zhech\\Desktop\\Softuni\\Machine Learning\\Final Project\\Datasets\\Model_Ready\\Landsat_08_NDVI_Export_08(1).tif\n",
      "Error processing C:\\Users\\zhech\\Desktop\\Softuni\\Machine Learning\\Final Project\\Datasets\\Model_Ready\\Landsat_08_NDVI_Export_08(1).tif: Unexpected image shape: (3, 256, 256)\n",
      "Loading file: C:\\Users\\zhech\\Desktop\\Softuni\\Machine Learning\\Final Project\\Datasets\\Model_Ready\\Landsat_08_NDVI_Export_08(10).tif\n",
      "Error processing C:\\Users\\zhech\\Desktop\\Softuni\\Machine Learning\\Final Project\\Datasets\\Model_Ready\\Landsat_08_NDVI_Export_08(10).tif: Unexpected image shape: (3, 256, 256)\n",
      "Loading file: C:\\Users\\zhech\\Desktop\\Softuni\\Machine Learning\\Final Project\\Datasets\\Model_Ready\\Landsat_08_NDVI_Export_08(11).tif\n",
      "Error processing C:\\Users\\zhech\\Desktop\\Softuni\\Machine Learning\\Final Project\\Datasets\\Model_Ready\\Landsat_08_NDVI_Export_08(11).tif: Unexpected image shape: (3, 256, 256)\n",
      "Loading file: C:\\Users\\zhech\\Desktop\\Softuni\\Machine Learning\\Final Project\\Datasets\\Model_Ready\\Landsat_08_NDVI_Export_08(2).tif\n",
      "Error processing C:\\Users\\zhech\\Desktop\\Softuni\\Machine Learning\\Final Project\\Datasets\\Model_Ready\\Landsat_08_NDVI_Export_08(2).tif: Unexpected image shape: (3, 256, 256)\n",
      "Loading file: C:\\Users\\zhech\\Desktop\\Softuni\\Machine Learning\\Final Project\\Datasets\\Model_Ready\\Landsat_08_NDVI_Export_08(3).tif\n",
      "Error processing C:\\Users\\zhech\\Desktop\\Softuni\\Machine Learning\\Final Project\\Datasets\\Model_Ready\\Landsat_08_NDVI_Export_08(3).tif: Unexpected image shape: (3, 256, 256)\n",
      "Loading file: C:\\Users\\zhech\\Desktop\\Softuni\\Machine Learning\\Final Project\\Datasets\\Model_Ready\\Landsat_08_NDVI_Export_08(4).tif\n",
      "Error processing C:\\Users\\zhech\\Desktop\\Softuni\\Machine Learning\\Final Project\\Datasets\\Model_Ready\\Landsat_08_NDVI_Export_08(4).tif: Unexpected image shape: (3, 256, 256)\n",
      "Loading file: C:\\Users\\zhech\\Desktop\\Softuni\\Machine Learning\\Final Project\\Datasets\\Model_Ready\\Landsat_08_NDVI_Export_08(5).tif\n",
      "Error processing C:\\Users\\zhech\\Desktop\\Softuni\\Machine Learning\\Final Project\\Datasets\\Model_Ready\\Landsat_08_NDVI_Export_08(5).tif: Unexpected image shape: (3, 256, 256)\n",
      "Loading file: C:\\Users\\zhech\\Desktop\\Softuni\\Machine Learning\\Final Project\\Datasets\\Model_Ready\\Landsat_08_NDVI_Export_08(6).tif\n",
      "Error processing C:\\Users\\zhech\\Desktop\\Softuni\\Machine Learning\\Final Project\\Datasets\\Model_Ready\\Landsat_08_NDVI_Export_08(6).tif: Unexpected image shape: (3, 256, 256)\n",
      "Loading file: C:\\Users\\zhech\\Desktop\\Softuni\\Machine Learning\\Final Project\\Datasets\\Model_Ready\\Landsat_08_NDVI_Export_08(7).tif\n",
      "Error processing C:\\Users\\zhech\\Desktop\\Softuni\\Machine Learning\\Final Project\\Datasets\\Model_Ready\\Landsat_08_NDVI_Export_08(7).tif: Unexpected image shape: (3, 256, 256)\n",
      "Loading file: C:\\Users\\zhech\\Desktop\\Softuni\\Machine Learning\\Final Project\\Datasets\\Model_Ready\\Landsat_08_NDVI_Export_08(8).tif\n",
      "Error processing C:\\Users\\zhech\\Desktop\\Softuni\\Machine Learning\\Final Project\\Datasets\\Model_Ready\\Landsat_08_NDVI_Export_08(8).tif: Unexpected image shape: (3, 256, 256)\n",
      "Loading file: C:\\Users\\zhech\\Desktop\\Softuni\\Machine Learning\\Final Project\\Datasets\\Model_Ready\\Landsat_08_NDVI_Export_08(9).tif\n",
      "Error processing C:\\Users\\zhech\\Desktop\\Softuni\\Machine Learning\\Final Project\\Datasets\\Model_Ready\\Landsat_08_NDVI_Export_08(9).tif: Unexpected image shape: (3, 256, 256)\n",
      "Loading file: C:\\Users\\zhech\\Desktop\\Softuni\\Machine Learning\\Final Project\\Datasets\\Model_Ready\\Landsat_08_NDVI_Export_08.tif\n",
      "Error processing C:\\Users\\zhech\\Desktop\\Softuni\\Machine Learning\\Final Project\\Datasets\\Model_Ready\\Landsat_08_NDVI_Export_08.tif: Unexpected image shape: (3, 256, 256)\n",
      "Loading file: C:\\Users\\zhech\\Desktop\\Softuni\\Machine Learning\\Final Project\\Datasets\\Model_Ready\\Landsat_08_NDVI_Export_09(1).tif\n",
      "Error processing C:\\Users\\zhech\\Desktop\\Softuni\\Machine Learning\\Final Project\\Datasets\\Model_Ready\\Landsat_08_NDVI_Export_09(1).tif: Unexpected image shape: (3, 256, 256)\n",
      "Loading file: C:\\Users\\zhech\\Desktop\\Softuni\\Machine Learning\\Final Project\\Datasets\\Model_Ready\\Landsat_08_NDVI_Export_09(10).tif\n",
      "Error processing C:\\Users\\zhech\\Desktop\\Softuni\\Machine Learning\\Final Project\\Datasets\\Model_Ready\\Landsat_08_NDVI_Export_09(10).tif: Unexpected image shape: (3, 256, 256)\n",
      "Loading file: C:\\Users\\zhech\\Desktop\\Softuni\\Machine Learning\\Final Project\\Datasets\\Model_Ready\\Landsat_08_NDVI_Export_09(11).tif\n",
      "Error processing C:\\Users\\zhech\\Desktop\\Softuni\\Machine Learning\\Final Project\\Datasets\\Model_Ready\\Landsat_08_NDVI_Export_09(11).tif: Unexpected image shape: (3, 256, 256)\n",
      "Loading file: C:\\Users\\zhech\\Desktop\\Softuni\\Machine Learning\\Final Project\\Datasets\\Model_Ready\\Landsat_08_NDVI_Export_09(2).tif\n",
      "Error processing C:\\Users\\zhech\\Desktop\\Softuni\\Machine Learning\\Final Project\\Datasets\\Model_Ready\\Landsat_08_NDVI_Export_09(2).tif: Unexpected image shape: (3, 256, 256)\n",
      "Loading file: C:\\Users\\zhech\\Desktop\\Softuni\\Machine Learning\\Final Project\\Datasets\\Model_Ready\\Landsat_08_NDVI_Export_09(3).tif\n",
      "Error processing C:\\Users\\zhech\\Desktop\\Softuni\\Machine Learning\\Final Project\\Datasets\\Model_Ready\\Landsat_08_NDVI_Export_09(3).tif: Unexpected image shape: (3, 256, 256)\n",
      "Loading file: C:\\Users\\zhech\\Desktop\\Softuni\\Machine Learning\\Final Project\\Datasets\\Model_Ready\\Landsat_08_NDVI_Export_09(4).tif\n",
      "Error processing C:\\Users\\zhech\\Desktop\\Softuni\\Machine Learning\\Final Project\\Datasets\\Model_Ready\\Landsat_08_NDVI_Export_09(4).tif: Unexpected image shape: (3, 256, 256)\n",
      "Loading file: C:\\Users\\zhech\\Desktop\\Softuni\\Machine Learning\\Final Project\\Datasets\\Model_Ready\\Landsat_08_NDVI_Export_09(5).tif\n",
      "Error processing C:\\Users\\zhech\\Desktop\\Softuni\\Machine Learning\\Final Project\\Datasets\\Model_Ready\\Landsat_08_NDVI_Export_09(5).tif: Unexpected image shape: (3, 256, 256)\n",
      "Loading file: C:\\Users\\zhech\\Desktop\\Softuni\\Machine Learning\\Final Project\\Datasets\\Model_Ready\\Landsat_08_NDVI_Export_09(6).tif\n",
      "Error processing C:\\Users\\zhech\\Desktop\\Softuni\\Machine Learning\\Final Project\\Datasets\\Model_Ready\\Landsat_08_NDVI_Export_09(6).tif: Unexpected image shape: (3, 256, 256)\n",
      "Loading file: C:\\Users\\zhech\\Desktop\\Softuni\\Machine Learning\\Final Project\\Datasets\\Model_Ready\\Landsat_08_NDVI_Export_09(7).tif\n",
      "Error processing C:\\Users\\zhech\\Desktop\\Softuni\\Machine Learning\\Final Project\\Datasets\\Model_Ready\\Landsat_08_NDVI_Export_09(7).tif: Unexpected image shape: (3, 256, 256)\n",
      "Loading file: C:\\Users\\zhech\\Desktop\\Softuni\\Machine Learning\\Final Project\\Datasets\\Model_Ready\\Landsat_08_NDVI_Export_09(8).tif\n",
      "Error processing C:\\Users\\zhech\\Desktop\\Softuni\\Machine Learning\\Final Project\\Datasets\\Model_Ready\\Landsat_08_NDVI_Export_09(8).tif: Unexpected image shape: (3, 256, 256)\n",
      "Loading file: C:\\Users\\zhech\\Desktop\\Softuni\\Machine Learning\\Final Project\\Datasets\\Model_Ready\\Landsat_08_NDVI_Export_09(9).tif\n",
      "Error processing C:\\Users\\zhech\\Desktop\\Softuni\\Machine Learning\\Final Project\\Datasets\\Model_Ready\\Landsat_08_NDVI_Export_09(9).tif: Unexpected image shape: (3, 256, 256)\n",
      "Loading file: C:\\Users\\zhech\\Desktop\\Softuni\\Machine Learning\\Final Project\\Datasets\\Model_Ready\\Landsat_08_NDVI_Export_09.tif\n",
      "Error processing C:\\Users\\zhech\\Desktop\\Softuni\\Machine Learning\\Final Project\\Datasets\\Model_Ready\\Landsat_08_NDVI_Export_09.tif: Unexpected image shape: (3, 256, 256)\n"
     ]
    }
   ],
   "source": [
    "# *legacy function\n",
    "\n",
    "# Directory containing GeoTIFF images\n",
    "directory_model_data = r\"C:\\Users\\zhech\\Desktop\\Softuni\\Machine Learning\\Final Project\\Datasets\\Model_Ready\"\n",
    "\n",
    "for file in os.listdir(directory_model_data):\n",
    "    # Construct the full file path\n",
    "    filename = os.path.join(directory_model_data, file)\n",
    "\n",
    "    # Print the filename to debug\n",
    "    if debug_enabled:\n",
    "        print(\"Loading file:\", filename)\n",
    "\n",
    "    # Load and preprocess each image\n",
    "    try:\n",
    "        # Check if it's a file, not a directory\n",
    "        if os.path.isfile(filename):\n",
    "            image = load_geotiff(filename)\n",
    "            processed_image = preprocess_image(image)\n",
    "            if debug_enabled:\n",
    "                print(\"Processed image shape:\", processed_image.shape)\n",
    "    except Exception as e:\n",
    "        print(f\"Error processing {filename}: {e}\")"
   ]
  },
  {
   "cell_type": "code",
   "execution_count": 195,
   "id": "45500dd0-2e0a-45df-a74a-f2de03aecb67",
   "metadata": {},
   "outputs": [
    {
     "data": {
      "text/html": [
       "\n",
       "            <style>\n",
       "                .geemap-dark {\n",
       "                    --jp-widgets-color: white;\n",
       "                    --jp-widgets-label-color: white;\n",
       "                    --jp-ui-font-color1: white;\n",
       "                    --jp-layout-color2: #454545;\n",
       "                    background-color: #383838;\n",
       "                }\n",
       "\n",
       "                .geemap-dark .jupyter-button {\n",
       "                    --jp-layout-color3: #383838;\n",
       "                }\n",
       "\n",
       "                .geemap-colab {\n",
       "                    background-color: var(--colab-primary-surface-color, white);\n",
       "                }\n",
       "\n",
       "                .geemap-colab .jupyter-button {\n",
       "                    --jp-layout-color3: var(--colab-primary-surface-color, white);\n",
       "                }\n",
       "            </style>\n",
       "            "
      ],
      "text/plain": [
       "<IPython.core.display.HTML object>"
      ]
     },
     "metadata": {},
     "output_type": "display_data"
    },
    {
     "name": "stdout",
     "output_type": "stream",
     "text": [
      "Loading file: C:\\Users\\zhech\\Desktop\\Softuni\\Machine Learning\\Final Project\\Datasets\\Model_Ready\\Image_1.tif\n",
      "Processed image shape: (256, 256, 3)\n",
      "Loading file: C:\\Users\\zhech\\Desktop\\Softuni\\Machine Learning\\Final Project\\Datasets\\Model_Ready\\Image_10.tif\n",
      "Processed image shape: (256, 256, 3)\n",
      "Loading file: C:\\Users\\zhech\\Desktop\\Softuni\\Machine Learning\\Final Project\\Datasets\\Model_Ready\\Image_11.tif\n",
      "Processed image shape: (256, 256, 3)\n",
      "Loading file: C:\\Users\\zhech\\Desktop\\Softuni\\Machine Learning\\Final Project\\Datasets\\Model_Ready\\Image_12.tif\n",
      "Processed image shape: (256, 256, 3)\n",
      "Loading file: C:\\Users\\zhech\\Desktop\\Softuni\\Machine Learning\\Final Project\\Datasets\\Model_Ready\\Image_13.tif\n",
      "Processed image shape: (256, 256, 3)\n",
      "Loading file: C:\\Users\\zhech\\Desktop\\Softuni\\Machine Learning\\Final Project\\Datasets\\Model_Ready\\Image_14.tif\n",
      "Processed image shape: (256, 256, 3)\n",
      "Loading file: C:\\Users\\zhech\\Desktop\\Softuni\\Machine Learning\\Final Project\\Datasets\\Model_Ready\\Image_15.tif\n",
      "Processed image shape: (256, 256, 3)\n",
      "Loading file: C:\\Users\\zhech\\Desktop\\Softuni\\Machine Learning\\Final Project\\Datasets\\Model_Ready\\Image_16.tif\n",
      "Processed image shape: (256, 256, 3)\n",
      "Loading file: C:\\Users\\zhech\\Desktop\\Softuni\\Machine Learning\\Final Project\\Datasets\\Model_Ready\\Image_17.tif\n",
      "Processed image shape: (256, 256, 3)\n",
      "Loading file: C:\\Users\\zhech\\Desktop\\Softuni\\Machine Learning\\Final Project\\Datasets\\Model_Ready\\Image_18.tif\n",
      "Processed image shape: (256, 256, 3)\n",
      "Loading file: C:\\Users\\zhech\\Desktop\\Softuni\\Machine Learning\\Final Project\\Datasets\\Model_Ready\\Image_19.tif\n",
      "Processed image shape: (256, 256, 3)\n",
      "Loading file: C:\\Users\\zhech\\Desktop\\Softuni\\Machine Learning\\Final Project\\Datasets\\Model_Ready\\Image_2.tif\n",
      "Processed image shape: (256, 256, 3)\n",
      "Loading file: C:\\Users\\zhech\\Desktop\\Softuni\\Machine Learning\\Final Project\\Datasets\\Model_Ready\\Image_20.tif\n",
      "Processed image shape: (256, 256, 3)\n",
      "Loading file: C:\\Users\\zhech\\Desktop\\Softuni\\Machine Learning\\Final Project\\Datasets\\Model_Ready\\Image_21.tif\n",
      "Processed image shape: (256, 256, 3)\n",
      "Loading file: C:\\Users\\zhech\\Desktop\\Softuni\\Machine Learning\\Final Project\\Datasets\\Model_Ready\\Image_22.tif\n",
      "Processed image shape: (256, 256, 3)\n",
      "Loading file: C:\\Users\\zhech\\Desktop\\Softuni\\Machine Learning\\Final Project\\Datasets\\Model_Ready\\Image_23.tif\n",
      "Processed image shape: (256, 256, 3)\n",
      "Loading file: C:\\Users\\zhech\\Desktop\\Softuni\\Machine Learning\\Final Project\\Datasets\\Model_Ready\\Image_24.tif\n",
      "Processed image shape: (256, 256, 3)\n",
      "Loading file: C:\\Users\\zhech\\Desktop\\Softuni\\Machine Learning\\Final Project\\Datasets\\Model_Ready\\Image_25.tif\n",
      "Processed image shape: (256, 256, 3)\n",
      "Loading file: C:\\Users\\zhech\\Desktop\\Softuni\\Machine Learning\\Final Project\\Datasets\\Model_Ready\\Image_26.tif\n",
      "Processed image shape: (256, 256, 3)\n",
      "Loading file: C:\\Users\\zhech\\Desktop\\Softuni\\Machine Learning\\Final Project\\Datasets\\Model_Ready\\Image_27.tif\n",
      "Processed image shape: (256, 256, 3)\n",
      "Loading file: C:\\Users\\zhech\\Desktop\\Softuni\\Machine Learning\\Final Project\\Datasets\\Model_Ready\\Image_28.tif\n",
      "Processed image shape: (256, 256, 3)\n",
      "Loading file: C:\\Users\\zhech\\Desktop\\Softuni\\Machine Learning\\Final Project\\Datasets\\Model_Ready\\Image_29.tif\n",
      "Processed image shape: (256, 256, 3)\n",
      "Loading file: C:\\Users\\zhech\\Desktop\\Softuni\\Machine Learning\\Final Project\\Datasets\\Model_Ready\\Image_3.tif\n",
      "Processed image shape: (256, 256, 3)\n",
      "Loading file: C:\\Users\\zhech\\Desktop\\Softuni\\Machine Learning\\Final Project\\Datasets\\Model_Ready\\Image_30.tif\n",
      "Processed image shape: (256, 256, 3)\n",
      "Loading file: C:\\Users\\zhech\\Desktop\\Softuni\\Machine Learning\\Final Project\\Datasets\\Model_Ready\\Image_31.tif\n",
      "Processed image shape: (256, 256, 3)\n",
      "Loading file: C:\\Users\\zhech\\Desktop\\Softuni\\Machine Learning\\Final Project\\Datasets\\Model_Ready\\Image_32.tif\n",
      "Processed image shape: (256, 256, 3)\n",
      "Loading file: C:\\Users\\zhech\\Desktop\\Softuni\\Machine Learning\\Final Project\\Datasets\\Model_Ready\\Image_33.tif\n",
      "Processed image shape: (256, 256, 3)\n",
      "Loading file: C:\\Users\\zhech\\Desktop\\Softuni\\Machine Learning\\Final Project\\Datasets\\Model_Ready\\Image_34.tif\n",
      "Processed image shape: (256, 256, 3)\n",
      "Loading file: C:\\Users\\zhech\\Desktop\\Softuni\\Machine Learning\\Final Project\\Datasets\\Model_Ready\\Image_35.tif\n",
      "Processed image shape: (256, 256, 3)\n",
      "Loading file: C:\\Users\\zhech\\Desktop\\Softuni\\Machine Learning\\Final Project\\Datasets\\Model_Ready\\Image_36.tif\n",
      "Processed image shape: (256, 256, 3)\n",
      "Loading file: C:\\Users\\zhech\\Desktop\\Softuni\\Machine Learning\\Final Project\\Datasets\\Model_Ready\\Image_37.tif\n",
      "Processed image shape: (256, 256, 3)\n",
      "Loading file: C:\\Users\\zhech\\Desktop\\Softuni\\Machine Learning\\Final Project\\Datasets\\Model_Ready\\Image_38.tif\n",
      "Processed image shape: (256, 256, 3)\n",
      "Loading file: C:\\Users\\zhech\\Desktop\\Softuni\\Machine Learning\\Final Project\\Datasets\\Model_Ready\\Image_39.tif\n",
      "Processed image shape: (256, 256, 3)\n",
      "Loading file: C:\\Users\\zhech\\Desktop\\Softuni\\Machine Learning\\Final Project\\Datasets\\Model_Ready\\Image_4.tif\n",
      "Processed image shape: (256, 256, 3)\n",
      "Loading file: C:\\Users\\zhech\\Desktop\\Softuni\\Machine Learning\\Final Project\\Datasets\\Model_Ready\\Image_40.tif\n",
      "Processed image shape: (256, 256, 3)\n",
      "Loading file: C:\\Users\\zhech\\Desktop\\Softuni\\Machine Learning\\Final Project\\Datasets\\Model_Ready\\Image_41.tif\n",
      "Processed image shape: (256, 256, 3)\n",
      "Loading file: C:\\Users\\zhech\\Desktop\\Softuni\\Machine Learning\\Final Project\\Datasets\\Model_Ready\\Image_42.tif\n",
      "Processed image shape: (256, 256, 3)\n",
      "Loading file: C:\\Users\\zhech\\Desktop\\Softuni\\Machine Learning\\Final Project\\Datasets\\Model_Ready\\Image_43.tif\n",
      "Processed image shape: (256, 256, 3)\n",
      "Loading file: C:\\Users\\zhech\\Desktop\\Softuni\\Machine Learning\\Final Project\\Datasets\\Model_Ready\\Image_44.tif\n",
      "Processed image shape: (256, 256, 3)\n",
      "Loading file: C:\\Users\\zhech\\Desktop\\Softuni\\Machine Learning\\Final Project\\Datasets\\Model_Ready\\Image_45.tif\n",
      "Processed image shape: (256, 256, 3)\n",
      "Loading file: C:\\Users\\zhech\\Desktop\\Softuni\\Machine Learning\\Final Project\\Datasets\\Model_Ready\\Image_46.tif\n",
      "Processed image shape: (256, 256, 3)\n",
      "Loading file: C:\\Users\\zhech\\Desktop\\Softuni\\Machine Learning\\Final Project\\Datasets\\Model_Ready\\Image_47.tif\n",
      "Processed image shape: (256, 256, 3)\n",
      "Loading file: C:\\Users\\zhech\\Desktop\\Softuni\\Machine Learning\\Final Project\\Datasets\\Model_Ready\\Image_48.tif\n",
      "Processed image shape: (256, 256, 3)\n",
      "Loading file: C:\\Users\\zhech\\Desktop\\Softuni\\Machine Learning\\Final Project\\Datasets\\Model_Ready\\Image_49.tif\n",
      "Processed image shape: (256, 256, 3)\n",
      "Loading file: C:\\Users\\zhech\\Desktop\\Softuni\\Machine Learning\\Final Project\\Datasets\\Model_Ready\\Image_5.tif\n",
      "Processed image shape: (256, 256, 3)\n",
      "Loading file: C:\\Users\\zhech\\Desktop\\Softuni\\Machine Learning\\Final Project\\Datasets\\Model_Ready\\Image_50.tif\n",
      "Processed image shape: (256, 256, 3)\n",
      "Loading file: C:\\Users\\zhech\\Desktop\\Softuni\\Machine Learning\\Final Project\\Datasets\\Model_Ready\\Image_51.tif\n",
      "Processed image shape: (256, 256, 3)\n",
      "Loading file: C:\\Users\\zhech\\Desktop\\Softuni\\Machine Learning\\Final Project\\Datasets\\Model_Ready\\Image_52.tif\n",
      "Processed image shape: (256, 256, 3)\n",
      "Loading file: C:\\Users\\zhech\\Desktop\\Softuni\\Machine Learning\\Final Project\\Datasets\\Model_Ready\\Image_53.tif\n",
      "Processed image shape: (256, 256, 3)\n",
      "Loading file: C:\\Users\\zhech\\Desktop\\Softuni\\Machine Learning\\Final Project\\Datasets\\Model_Ready\\Image_54.tif\n",
      "Processed image shape: (256, 256, 3)\n",
      "Loading file: C:\\Users\\zhech\\Desktop\\Softuni\\Machine Learning\\Final Project\\Datasets\\Model_Ready\\Image_55.tif\n",
      "Processed image shape: (256, 256, 3)\n",
      "Loading file: C:\\Users\\zhech\\Desktop\\Softuni\\Machine Learning\\Final Project\\Datasets\\Model_Ready\\Image_56.tif\n",
      "Processed image shape: (256, 256, 3)\n",
      "Loading file: C:\\Users\\zhech\\Desktop\\Softuni\\Machine Learning\\Final Project\\Datasets\\Model_Ready\\Image_57.tif\n",
      "Processed image shape: (256, 256, 3)\n",
      "Loading file: C:\\Users\\zhech\\Desktop\\Softuni\\Machine Learning\\Final Project\\Datasets\\Model_Ready\\Image_58.tif\n",
      "Processed image shape: (256, 256, 3)\n",
      "Loading file: C:\\Users\\zhech\\Desktop\\Softuni\\Machine Learning\\Final Project\\Datasets\\Model_Ready\\Image_59.tif\n",
      "Processed image shape: (256, 256, 3)\n",
      "Loading file: C:\\Users\\zhech\\Desktop\\Softuni\\Machine Learning\\Final Project\\Datasets\\Model_Ready\\Image_6.tif\n",
      "Processed image shape: (256, 256, 3)\n",
      "Loading file: C:\\Users\\zhech\\Desktop\\Softuni\\Machine Learning\\Final Project\\Datasets\\Model_Ready\\Image_60.tif\n",
      "Processed image shape: (256, 256, 3)\n",
      "Loading file: C:\\Users\\zhech\\Desktop\\Softuni\\Machine Learning\\Final Project\\Datasets\\Model_Ready\\Image_61.tif\n",
      "Processed image shape: (256, 256, 3)\n",
      "Loading file: C:\\Users\\zhech\\Desktop\\Softuni\\Machine Learning\\Final Project\\Datasets\\Model_Ready\\Image_62.tif\n",
      "Processed image shape: (256, 256, 3)\n",
      "Loading file: C:\\Users\\zhech\\Desktop\\Softuni\\Machine Learning\\Final Project\\Datasets\\Model_Ready\\Image_63.tif\n",
      "Processed image shape: (256, 256, 3)\n",
      "Loading file: C:\\Users\\zhech\\Desktop\\Softuni\\Machine Learning\\Final Project\\Datasets\\Model_Ready\\Image_64.tif\n",
      "Processed image shape: (256, 256, 3)\n",
      "Loading file: C:\\Users\\zhech\\Desktop\\Softuni\\Machine Learning\\Final Project\\Datasets\\Model_Ready\\Image_65.tif\n",
      "Processed image shape: (256, 256, 3)\n",
      "Loading file: C:\\Users\\zhech\\Desktop\\Softuni\\Machine Learning\\Final Project\\Datasets\\Model_Ready\\Image_66.tif\n",
      "Processed image shape: (256, 256, 3)\n",
      "Loading file: C:\\Users\\zhech\\Desktop\\Softuni\\Machine Learning\\Final Project\\Datasets\\Model_Ready\\Image_67.tif\n",
      "Processed image shape: (256, 256, 3)\n",
      "Loading file: C:\\Users\\zhech\\Desktop\\Softuni\\Machine Learning\\Final Project\\Datasets\\Model_Ready\\Image_68.tif\n",
      "Processed image shape: (256, 256, 3)\n",
      "Loading file: C:\\Users\\zhech\\Desktop\\Softuni\\Machine Learning\\Final Project\\Datasets\\Model_Ready\\Image_69.tif\n",
      "Processed image shape: (256, 256, 3)\n",
      "Loading file: C:\\Users\\zhech\\Desktop\\Softuni\\Machine Learning\\Final Project\\Datasets\\Model_Ready\\Image_7.tif\n",
      "Processed image shape: (256, 256, 3)\n",
      "Loading file: C:\\Users\\zhech\\Desktop\\Softuni\\Machine Learning\\Final Project\\Datasets\\Model_Ready\\Image_70.tif\n",
      "Processed image shape: (256, 256, 3)\n",
      "Loading file: C:\\Users\\zhech\\Desktop\\Softuni\\Machine Learning\\Final Project\\Datasets\\Model_Ready\\Image_71.tif\n",
      "Processed image shape: (256, 256, 3)\n",
      "Loading file: C:\\Users\\zhech\\Desktop\\Softuni\\Machine Learning\\Final Project\\Datasets\\Model_Ready\\Image_72.tif\n",
      "Processed image shape: (256, 256, 3)\n",
      "Loading file: C:\\Users\\zhech\\Desktop\\Softuni\\Machine Learning\\Final Project\\Datasets\\Model_Ready\\Image_73.tif\n",
      "Processed image shape: (256, 256, 3)\n",
      "Loading file: C:\\Users\\zhech\\Desktop\\Softuni\\Machine Learning\\Final Project\\Datasets\\Model_Ready\\Image_74.tif\n",
      "Processed image shape: (256, 256, 3)\n",
      "Loading file: C:\\Users\\zhech\\Desktop\\Softuni\\Machine Learning\\Final Project\\Datasets\\Model_Ready\\Image_75.tif\n",
      "Processed image shape: (256, 256, 3)\n",
      "Loading file: C:\\Users\\zhech\\Desktop\\Softuni\\Machine Learning\\Final Project\\Datasets\\Model_Ready\\Image_76.tif\n",
      "Processed image shape: (256, 256, 3)\n",
      "Loading file: C:\\Users\\zhech\\Desktop\\Softuni\\Machine Learning\\Final Project\\Datasets\\Model_Ready\\Image_77.tif\n",
      "Processed image shape: (256, 256, 3)\n",
      "Loading file: C:\\Users\\zhech\\Desktop\\Softuni\\Machine Learning\\Final Project\\Datasets\\Model_Ready\\Image_78.tif\n",
      "Processed image shape: (256, 256, 3)\n",
      "Loading file: C:\\Users\\zhech\\Desktop\\Softuni\\Machine Learning\\Final Project\\Datasets\\Model_Ready\\Image_79.tif\n",
      "Processed image shape: (256, 256, 3)\n",
      "Loading file: C:\\Users\\zhech\\Desktop\\Softuni\\Machine Learning\\Final Project\\Datasets\\Model_Ready\\Image_8.tif\n",
      "Processed image shape: (256, 256, 3)\n",
      "Loading file: C:\\Users\\zhech\\Desktop\\Softuni\\Machine Learning\\Final Project\\Datasets\\Model_Ready\\Image_80.tif\n",
      "Processed image shape: (256, 256, 3)\n",
      "Loading file: C:\\Users\\zhech\\Desktop\\Softuni\\Machine Learning\\Final Project\\Datasets\\Model_Ready\\Image_81.tif\n",
      "Processed image shape: (256, 256, 3)\n",
      "Loading file: C:\\Users\\zhech\\Desktop\\Softuni\\Machine Learning\\Final Project\\Datasets\\Model_Ready\\Image_82.tif\n",
      "Processed image shape: (256, 256, 3)\n",
      "Loading file: C:\\Users\\zhech\\Desktop\\Softuni\\Machine Learning\\Final Project\\Datasets\\Model_Ready\\Image_83.tif\n",
      "Processed image shape: (256, 256, 3)\n",
      "Loading file: C:\\Users\\zhech\\Desktop\\Softuni\\Machine Learning\\Final Project\\Datasets\\Model_Ready\\Image_84.tif\n",
      "Processed image shape: (256, 256, 3)\n",
      "Loading file: C:\\Users\\zhech\\Desktop\\Softuni\\Machine Learning\\Final Project\\Datasets\\Model_Ready\\Image_85.tif\n",
      "Processed image shape: (256, 256, 3)\n",
      "Loading file: C:\\Users\\zhech\\Desktop\\Softuni\\Machine Learning\\Final Project\\Datasets\\Model_Ready\\Image_86.tif\n",
      "Processed image shape: (256, 256, 3)\n",
      "Loading file: C:\\Users\\zhech\\Desktop\\Softuni\\Machine Learning\\Final Project\\Datasets\\Model_Ready\\Image_9.tif\n",
      "Processed image shape: (256, 256, 3)\n",
      "Loading file: C:\\Users\\zhech\\Desktop\\Softuni\\Machine Learning\\Final Project\\Datasets\\Model_Ready\\Landsat_08_NDVI_Export_13(1).tif\n",
      "Processed image shape: (256, 256, 3)\n",
      "Loading file: C:\\Users\\zhech\\Desktop\\Softuni\\Machine Learning\\Final Project\\Datasets\\Model_Ready\\Landsat_08_NDVI_Export_13(2).tif\n",
      "Processed image shape: (256, 256, 3)\n",
      "Loading file: C:\\Users\\zhech\\Desktop\\Softuni\\Machine Learning\\Final Project\\Datasets\\Model_Ready\\Landsat_08_NDVI_Export_13(3).tif\n",
      "Processed image shape: (256, 256, 3)\n",
      "Loading file: C:\\Users\\zhech\\Desktop\\Softuni\\Machine Learning\\Final Project\\Datasets\\Model_Ready\\Landsat_08_NDVI_Export_13(4).tif\n",
      "Processed image shape: (256, 256, 3)\n",
      "Loading file: C:\\Users\\zhech\\Desktop\\Softuni\\Machine Learning\\Final Project\\Datasets\\Model_Ready\\Landsat_08_NDVI_Export_13(5).tif\n",
      "Processed image shape: (256, 256, 3)\n",
      "Loading file: C:\\Users\\zhech\\Desktop\\Softuni\\Machine Learning\\Final Project\\Datasets\\Model_Ready\\Landsat_08_NDVI_Export_13(6).tif\n",
      "Processed image shape: (256, 256, 3)\n",
      "Loading file: C:\\Users\\zhech\\Desktop\\Softuni\\Machine Learning\\Final Project\\Datasets\\Model_Ready\\Landsat_08_NDVI_Export_13(7).tif\n",
      "Processed image shape: (256, 256, 3)\n",
      "Loading file: C:\\Users\\zhech\\Desktop\\Softuni\\Machine Learning\\Final Project\\Datasets\\Model_Ready\\Landsat_08_NDVI_Export_13(8).tif\n",
      "Processed image shape: (256, 256, 3)\n",
      "Loading file: C:\\Users\\zhech\\Desktop\\Softuni\\Machine Learning\\Final Project\\Datasets\\Model_Ready\\Landsat_08_NDVI_Export_13(9).tif\n",
      "Processed image shape: (256, 256, 3)\n",
      "Loading file: C:\\Users\\zhech\\Desktop\\Softuni\\Machine Learning\\Final Project\\Datasets\\Model_Ready\\Landsat_08_NDVI_Export_13.tif\n",
      "Processed image shape: (256, 256, 3)\n"
     ]
    }
   ],
   "source": [
    "# *new functions\n",
    "\n",
    "# Define Image Loading and Preprocessing Functions\n",
    "def load_geotiff(filepath):\n",
    "    with rasterio.open(filepath) as src:\n",
    "        # Read all bands and return as numpy array\n",
    "        image = src.read()  # Shape: (bands, height, width)\n",
    "    return image\n",
    "\n",
    "def preprocess_image(image):\n",
    "    # Check the shape of the image\n",
    "    if image.ndim == 3:\n",
    "        if image.shape[0] == 1:  # Shape: (1, height, width)\n",
    "            # Single-channel grayscale image, remove the first dimension and expand to 3 channels\n",
    "            image = np.stack((image[0],) * 3, axis=-1)  # Shape becomes (height, width, 3)\n",
    "        elif image.shape[0] == 3 and image.shape[1:] != image.shape[0:1]:  # Shape: (3, height, width)\n",
    "            # Convert to (height, width, 3)\n",
    "            image = np.transpose(image, (1, 2, 0))  # Swap axes to (height, width, bands)\n",
    "        elif image.shape[2] == 3:  # Shape: (height, width, 3)\n",
    "            pass  # Already in the correct format\n",
    "        else:\n",
    "            raise ValueError(\"Unexpected 3D image shape: {}\".format(image.shape))\n",
    "    elif image.ndim == 2:  # Grayscale image (height, width)\n",
    "        # Convert grayscale to 3 channels by stacking\n",
    "        image = np.stack((image,) * 3, axis=-1)  # Shape becomes (height, width, 3)\n",
    "    else:\n",
    "        raise ValueError(\"Unexpected image dimensions: {}\".format(image.ndim))\n",
    "\n",
    "    return image.astype(np.float32) / 255.0  # Normalize to [0, 1]\n",
    "\n",
    "# Directory containing GeoTIFF images\n",
    "directory_model_data = r\"C:\\Users\\zhech\\Desktop\\Softuni\\Machine Learning\\Final Project\\Datasets\\Model_Ready\"\n",
    "debug_enabled = True  # Enable debugging\n",
    "\n",
    "for file in os.listdir(directory_model_data):\n",
    "    # Construct the full file path\n",
    "    filename = os.path.join(directory_model_data, file)\n",
    "\n",
    "    # Print the filename to debug\n",
    "    if debug_enabled:\n",
    "        print(\"Loading file:\", filename)\n",
    "\n",
    "    # Load and preprocess each image\n",
    "    try:\n",
    "        # Check if it's a file, not a directory\n",
    "        if os.path.isfile(filename):\n",
    "            image = load_geotiff(filename)\n",
    "            processed_image = preprocess_image(image)\n",
    "            if debug_enabled:\n",
    "                print(\"Processed image shape:\", processed_image.shape)\n",
    "    except Exception as e:\n",
    "        print(f\"Error processing {filename}: {e}\")"
   ]
  },
  {
   "cell_type": "markdown",
   "id": "ee8d2932-e630-44e3-809b-0337fb0d1a93",
   "metadata": {},
   "source": [
    "Create a Dataset Using TensorFlow’s tf.data API  \n",
    "- streamline loading, preprocessing, and batching"
   ]
  },
  {
   "cell_type": "code",
   "execution_count": 196,
   "id": "564eb777-0fcc-4e8f-b755-0e9501f7d983",
   "metadata": {},
   "outputs": [
    {
     "data": {
      "text/html": [
       "\n",
       "            <style>\n",
       "                .geemap-dark {\n",
       "                    --jp-widgets-color: white;\n",
       "                    --jp-widgets-label-color: white;\n",
       "                    --jp-ui-font-color1: white;\n",
       "                    --jp-layout-color2: #454545;\n",
       "                    background-color: #383838;\n",
       "                }\n",
       "\n",
       "                .geemap-dark .jupyter-button {\n",
       "                    --jp-layout-color3: #383838;\n",
       "                }\n",
       "\n",
       "                .geemap-colab {\n",
       "                    background-color: var(--colab-primary-surface-color, white);\n",
       "                }\n",
       "\n",
       "                .geemap-colab .jupyter-button {\n",
       "                    --jp-layout-color3: var(--colab-primary-surface-color, white);\n",
       "                }\n",
       "            </style>\n",
       "            "
      ],
      "text/plain": [
       "<IPython.core.display.HTML object>"
      ]
     },
     "metadata": {},
     "output_type": "display_data"
    },
    {
     "name": "stdout",
     "output_type": "stream",
     "text": [
      "{'Image_1.tif': 1, 'Image_10.tif': 10, 'Image_11.tif': 11, 'Image_12.tif': 12, 'Image_13.tif': 13, 'Image_14.tif': 14, 'Image_15.tif': 15, 'Image_16.tif': 16, 'Image_17.tif': 17, 'Image_18.tif': 18, 'Image_19.tif': 19, 'Image_2.tif': 2, 'Image_20.tif': 20, 'Image_21.tif': 21, 'Image_22.tif': 22, 'Image_23.tif': 23, 'Image_24.tif': 24, 'Image_25.tif': 25, 'Image_26.tif': 26, 'Image_27.tif': 27, 'Image_28.tif': 28, 'Image_29.tif': 29, 'Image_3.tif': 3, 'Image_30.tif': 30, 'Image_31.tif': 31, 'Image_32.tif': 32, 'Image_33.tif': 33, 'Image_34.tif': 34, 'Image_35.tif': 35, 'Image_36.tif': 36, 'Image_37.tif': 37, 'Image_38.tif': 38, 'Image_39.tif': 39, 'Image_4.tif': 4, 'Image_40.tif': 40, 'Image_41.tif': 41, 'Image_42.tif': 42, 'Image_43.tif': 43, 'Image_44.tif': 44, 'Image_45.tif': 45, 'Image_46.tif': 46, 'Image_47.tif': 47, 'Image_48.tif': 48, 'Image_49.tif': 49, 'Image_5.tif': 5, 'Image_50.tif': 50, 'Image_51.tif': 51, 'Image_52.tif': 52, 'Image_53.tif': 53, 'Image_54.tif': 54, 'Image_55.tif': 55, 'Image_56.tif': 56, 'Image_57.tif': 57, 'Image_58.tif': 58, 'Image_59.tif': 59, 'Image_6.tif': 6, 'Image_60.tif': 60, 'Image_61.tif': 61, 'Image_62.tif': 62, 'Image_63.tif': 63, 'Image_64.tif': 64, 'Image_65.tif': 65, 'Image_66.tif': 66, 'Image_67.tif': 67, 'Image_68.tif': 68, 'Image_69.tif': 69, 'Image_7.tif': 7, 'Image_70.tif': 70, 'Image_71.tif': 71, 'Image_72.tif': 72, 'Image_73.tif': 73, 'Image_74.tif': 74, 'Image_75.tif': 75, 'Image_76.tif': 76, 'Image_77.tif': 77, 'Image_78.tif': 78, 'Image_79.tif': 79, 'Image_8.tif': 8, 'Image_80.tif': 80, 'Image_81.tif': 81, 'Image_82.tif': 82, 'Image_83.tif': 83, 'Image_84.tif': 84, 'Image_85.tif': 85, 'Image_86.tif': 86, 'Image_87.tif': 87, 'Image_88.tif': 88, 'Image_89.tif': 89, 'Image_9.tif': 9, 'Image_90.tif': 90, 'Image_91.tif': 91, 'Image_92.tif': 92, 'Image_93.tif': 93, 'Image_94.tif': 94, 'Image_95.tif': 95, 'Image_96.tif': 96}\n"
     ]
    }
   ],
   "source": [
    "labels_dict = {}\n",
    "for filename in os.listdir(directory_model_data):\n",
    "    if filename.endswith(\".tif\"):\n",
    "        # Example label extraction logic, modify according to your naming convention\n",
    "        label = int(filename.split(\"_\")[1].split(\".\")[0])  # Extract label from filename\n",
    "        labels_dict[filename] = label\n",
    "\n",
    "if debug_enabled:\n",
    "    print(labels_dict)"
   ]
  },
  {
   "cell_type": "code",
   "execution_count": 197,
   "id": "19dcbee8-ed58-46fa-b16b-d486a00f8a61",
   "metadata": {},
   "outputs": [
    {
     "data": {
      "text/html": [
       "\n",
       "            <style>\n",
       "                .geemap-dark {\n",
       "                    --jp-widgets-color: white;\n",
       "                    --jp-widgets-label-color: white;\n",
       "                    --jp-ui-font-color1: white;\n",
       "                    --jp-layout-color2: #454545;\n",
       "                    background-color: #383838;\n",
       "                }\n",
       "\n",
       "                .geemap-dark .jupyter-button {\n",
       "                    --jp-layout-color3: #383838;\n",
       "                }\n",
       "\n",
       "                .geemap-colab {\n",
       "                    background-color: var(--colab-primary-surface-color, white);\n",
       "                }\n",
       "\n",
       "                .geemap-colab .jupyter-button {\n",
       "                    --jp-layout-color3: var(--colab-primary-surface-color, white);\n",
       "                }\n",
       "            </style>\n",
       "            "
      ],
      "text/plain": [
       "<IPython.core.display.HTML object>"
      ]
     },
     "metadata": {},
     "output_type": "display_data"
    },
    {
     "name": "stdout",
     "output_type": "stream",
     "text": [
      "Image shape before yielding: (256, 256, 3)\n",
      "Yielding image shape: (256, 256, 3) and label: tf.Tensor(1.0, shape=(), dtype=float32)\n",
      "Image shape before yielding: (256, 256, 3)\n",
      "Yielding image shape: (256, 256, 3) and label: tf.Tensor(10.0, shape=(), dtype=float32)\n",
      "Image shape before yielding: (256, 256, 3)\n",
      "Yielding image shape: (256, 256, 3) and label: tf.Tensor(11.0, shape=(), dtype=float32)\n",
      "Image shape before yielding: (256, 256, 3)\n",
      "Yielding image shape: (256, 256, 3) and label: tf.Tensor(12.0, shape=(), dtype=float32)\n",
      "Image shape before yielding: (256, 256, 3)\n",
      "Yielding image shape: (256, 256, 3) and label: tf.Tensor(13.0, shape=(), dtype=float32)\n",
      "Image shape before yielding: (256, 256, 3)\n",
      "Yielding image shape: (256, 256, 3) and label: tf.Tensor(14.0, shape=(), dtype=float32)\n",
      "Image shape before yielding: (256, 256, 3)\n",
      "Yielding image shape: (256, 256, 3) and label: tf.Tensor(15.0, shape=(), dtype=float32)\n",
      "Image shape before yielding: (256, 256, 3)\n",
      "Yielding image shape: (256, 256, 3) and label: tf.Tensor(16.0, shape=(), dtype=float32)\n",
      "Image shape before yielding: (256, 256, 3)\n",
      "Yielding image shape: (256, 256, 3) and label: tf.Tensor(17.0, shape=(), dtype=float32)\n",
      "Image shape before yielding: (256, 256, 3)\n",
      "Yielding image shape: (256, 256, 3) and label: tf.Tensor(18.0, shape=(), dtype=float32)\n",
      "Image shape before yielding: (256, 256, 3)\n",
      "Yielding image shape: (256, 256, 3) and label: tf.Tensor(19.0, shape=(), dtype=float32)\n",
      "Image shape before yielding: (256, 256, 3)\n",
      "Yielding image shape: (256, 256, 3) and label: tf.Tensor(2.0, shape=(), dtype=float32)\n",
      "Image shape before yielding: (256, 256, 3)\n",
      "Yielding image shape: (256, 256, 3) and label: tf.Tensor(20.0, shape=(), dtype=float32)\n",
      "Image shape before yielding: (256, 256, 3)\n",
      "Yielding image shape: (256, 256, 3) and label: tf.Tensor(21.0, shape=(), dtype=float32)\n",
      "Image shape before yielding: (256, 256, 3)\n",
      "Yielding image shape: (256, 256, 3) and label: tf.Tensor(22.0, shape=(), dtype=float32)\n",
      "Image shape before yielding: (256, 256, 3)\n",
      "Yielding image shape: (256, 256, 3) and label: tf.Tensor(23.0, shape=(), dtype=float32)\n",
      "Image shape before yielding: (256, 256, 3)\n",
      "Yielding image shape: (256, 256, 3) and label: tf.Tensor(24.0, shape=(), dtype=float32)\n",
      "Image shape before yielding: (256, 256, 3)\n",
      "Yielding image shape: (256, 256, 3) and label: tf.Tensor(25.0, shape=(), dtype=float32)\n",
      "Image shape before yielding: (256, 256, 3)\n",
      "Yielding image shape: (256, 256, 3) and label: tf.Tensor(26.0, shape=(), dtype=float32)\n",
      "Image shape before yielding: (256, 256, 3)\n",
      "Yielding image shape: (256, 256, 3) and label: tf.Tensor(27.0, shape=(), dtype=float32)\n",
      "Image shape before yielding: (256, 256, 3)\n",
      "Yielding image shape: (256, 256, 3) and label: tf.Tensor(28.0, shape=(), dtype=float32)\n",
      "Image shape before yielding: (256, 256, 3)\n",
      "Yielding image shape: (256, 256, 3) and label: tf.Tensor(29.0, shape=(), dtype=float32)\n",
      "Image shape before yielding: (256, 256, 3)\n",
      "Yielding image shape: (256, 256, 3) and label: tf.Tensor(3.0, shape=(), dtype=float32)\n",
      "Image shape before yielding: (256, 256, 3)\n",
      "Yielding image shape: (256, 256, 3) and label: tf.Tensor(30.0, shape=(), dtype=float32)\n",
      "Image shape before yielding: (256, 256, 3)\n",
      "Yielding image shape: (256, 256, 3) and label: tf.Tensor(31.0, shape=(), dtype=float32)\n",
      "Image shape before yielding: (256, 256, 3)\n",
      "Yielding image shape: (256, 256, 3) and label: tf.Tensor(32.0, shape=(), dtype=float32)\n",
      "Image shape before yielding: (256, 256, 3)\n",
      "Yielding image shape: (256, 256, 3) and label: tf.Tensor(33.0, shape=(), dtype=float32)\n",
      "Image shape before yielding: (256, 256, 3)\n",
      "Yielding image shape: (256, 256, 3) and label: tf.Tensor(34.0, shape=(), dtype=float32)\n",
      "Image shape before yielding: (256, 256, 3)\n",
      "Yielding image shape: (256, 256, 3) and label: tf.Tensor(35.0, shape=(), dtype=float32)\n",
      "Image shape before yielding: (256, 256, 3)\n",
      "Yielding image shape: (256, 256, 3) and label: tf.Tensor(36.0, shape=(), dtype=float32)\n",
      "Image shape before yielding: (256, 256, 3)\n",
      "Yielding image shape: (256, 256, 3) and label: tf.Tensor(37.0, shape=(), dtype=float32)\n",
      "Image shape before yielding: (256, 256, 3)\n",
      "Yielding image shape: (256, 256, 3) and label: tf.Tensor(38.0, shape=(), dtype=float32)\n",
      "Image shape before yielding: (256, 256, 3)\n",
      "Yielding image shape: (256, 256, 3) and label: tf.Tensor(39.0, shape=(), dtype=float32)\n",
      "Image shape before yielding: (256, 256, 3)\n",
      "Yielding image shape: (256, 256, 3) and label: tf.Tensor(4.0, shape=(), dtype=float32)\n",
      "Image shape before yielding: (256, 256, 3)\n",
      "Yielding image shape: (256, 256, 3) and label: tf.Tensor(40.0, shape=(), dtype=float32)\n",
      "Image shape before yielding: (256, 256, 3)\n",
      "Yielding image shape: (256, 256, 3) and label: tf.Tensor(41.0, shape=(), dtype=float32)\n",
      "Image shape before yielding: (256, 256, 3)\n",
      "Yielding image shape: (256, 256, 3) and label: tf.Tensor(42.0, shape=(), dtype=float32)\n",
      "Image shape before yielding: (256, 256, 3)\n",
      "Yielding image shape: (256, 256, 3) and label: tf.Tensor(43.0, shape=(), dtype=float32)\n",
      "Image shape before yielding: (256, 256, 3)\n",
      "Yielding image shape: (256, 256, 3) and label: tf.Tensor(44.0, shape=(), dtype=float32)\n",
      "Image shape before yielding: (256, 256, 3)\n",
      "Yielding image shape: (256, 256, 3) and label: tf.Tensor(45.0, shape=(), dtype=float32)\n",
      "Image shape before yielding: (256, 256, 3)\n",
      "Yielding image shape: (256, 256, 3) and label: tf.Tensor(46.0, shape=(), dtype=float32)\n",
      "Image shape before yielding: (256, 256, 3)\n",
      "Yielding image shape: (256, 256, 3) and label: tf.Tensor(47.0, shape=(), dtype=float32)\n",
      "Image shape before yielding: (256, 256, 3)\n",
      "Yielding image shape: (256, 256, 3) and label: tf.Tensor(48.0, shape=(), dtype=float32)\n",
      "Image shape before yielding: (256, 256, 3)\n",
      "Yielding image shape: (256, 256, 3) and label: tf.Tensor(49.0, shape=(), dtype=float32)\n",
      "Image shape before yielding: (256, 256, 3)\n",
      "Yielding image shape: (256, 256, 3) and label: tf.Tensor(5.0, shape=(), dtype=float32)\n",
      "Image shape before yielding: (256, 256, 3)\n",
      "Yielding image shape: (256, 256, 3) and label: tf.Tensor(50.0, shape=(), dtype=float32)\n",
      "Image shape before yielding: (256, 256, 3)\n",
      "Yielding image shape: (256, 256, 3) and label: tf.Tensor(51.0, shape=(), dtype=float32)\n",
      "Image shape before yielding: (256, 256, 3)\n",
      "Yielding image shape: (256, 256, 3) and label: tf.Tensor(52.0, shape=(), dtype=float32)\n",
      "Image shape before yielding: (256, 256, 3)\n",
      "Yielding image shape: (256, 256, 3) and label: tf.Tensor(53.0, shape=(), dtype=float32)\n",
      "Image shape before yielding: (256, 256, 3)\n",
      "Yielding image shape: (256, 256, 3) and label: tf.Tensor(54.0, shape=(), dtype=float32)\n",
      "Image shape before yielding: (256, 256, 3)\n",
      "Yielding image shape: (256, 256, 3) and label: tf.Tensor(55.0, shape=(), dtype=float32)\n",
      "Image shape before yielding: (256, 256, 3)\n",
      "Yielding image shape: (256, 256, 3) and label: tf.Tensor(56.0, shape=(), dtype=float32)\n",
      "Image shape before yielding: (256, 256, 3)\n",
      "Yielding image shape: (256, 256, 3) and label: tf.Tensor(57.0, shape=(), dtype=float32)\n",
      "Image shape before yielding: (256, 256, 3)\n",
      "Yielding image shape: (256, 256, 3) and label: tf.Tensor(58.0, shape=(), dtype=float32)\n",
      "Image shape before yielding: (256, 256, 3)\n",
      "Yielding image shape: (256, 256, 3) and label: tf.Tensor(59.0, shape=(), dtype=float32)\n",
      "Image shape before yielding: (256, 256, 3)\n",
      "Yielding image shape: (256, 256, 3) and label: tf.Tensor(6.0, shape=(), dtype=float32)\n",
      "Image shape before yielding: (256, 256, 3)\n",
      "Yielding image shape: (256, 256, 3) and label: tf.Tensor(60.0, shape=(), dtype=float32)\n",
      "Image shape before yielding: (256, 256, 3)\n",
      "Yielding image shape: (256, 256, 3) and label: tf.Tensor(61.0, shape=(), dtype=float32)\n",
      "Image shape before yielding: (256, 256, 3)\n",
      "Yielding image shape: (256, 256, 3) and label: tf.Tensor(62.0, shape=(), dtype=float32)\n",
      "Image shape before yielding: (256, 256, 3)\n",
      "Yielding image shape: (256, 256, 3) and label: tf.Tensor(63.0, shape=(), dtype=float32)\n",
      "Image shape before yielding: (256, 256, 3)\n",
      "Yielding image shape: (256, 256, 3) and label: tf.Tensor(64.0, shape=(), dtype=float32)\n",
      "Image shape before yielding: (256, 256, 3)\n",
      "Yielding image shape: (256, 256, 3) and label: tf.Tensor(65.0, shape=(), dtype=float32)\n",
      "Image shape before yielding: (256, 256, 3)\n",
      "Yielding image shape: (256, 256, 3) and label: tf.Tensor(66.0, shape=(), dtype=float32)\n",
      "Image shape before yielding: (256, 256, 3)\n",
      "Yielding image shape: (256, 256, 3) and label: tf.Tensor(67.0, shape=(), dtype=float32)\n",
      "Image shape before yielding: (256, 256, 3)\n",
      "Yielding image shape: (256, 256, 3) and label: tf.Tensor(68.0, shape=(), dtype=float32)\n",
      "Image shape before yielding: (256, 256, 3)\n",
      "Yielding image shape: (256, 256, 3) and label: tf.Tensor(69.0, shape=(), dtype=float32)\n",
      "Image shape before yielding: (256, 256, 3)\n",
      "Yielding image shape: (256, 256, 3) and label: tf.Tensor(7.0, shape=(), dtype=float32)\n",
      "Image shape before yielding: (256, 256, 3)\n",
      "Yielding image shape: (256, 256, 3) and label: tf.Tensor(70.0, shape=(), dtype=float32)\n",
      "Image shape before yielding: (256, 256, 3)\n",
      "Yielding image shape: (256, 256, 3) and label: tf.Tensor(71.0, shape=(), dtype=float32)\n",
      "Image shape before yielding: (256, 256, 3)\n",
      "Yielding image shape: (256, 256, 3) and label: tf.Tensor(72.0, shape=(), dtype=float32)\n",
      "Image shape before yielding: (256, 256, 3)\n",
      "Yielding image shape: (256, 256, 3) and label: tf.Tensor(73.0, shape=(), dtype=float32)\n",
      "Image shape before yielding: (256, 256, 3)\n",
      "Yielding image shape: (256, 256, 3) and label: tf.Tensor(74.0, shape=(), dtype=float32)\n",
      "Image shape before yielding: (256, 256, 3)\n",
      "Yielding image shape: (256, 256, 3) and label: tf.Tensor(75.0, shape=(), dtype=float32)\n",
      "Image shape before yielding: (256, 256, 3)\n",
      "Yielding image shape: (256, 256, 3) and label: tf.Tensor(76.0, shape=(), dtype=float32)\n",
      "Image shape before yielding: (256, 256, 3)\n",
      "Yielding image shape: (256, 256, 3) and label: tf.Tensor(77.0, shape=(), dtype=float32)\n",
      "Image shape before yielding: (256, 256, 3)\n",
      "Yielding image shape: (256, 256, 3) and label: tf.Tensor(78.0, shape=(), dtype=float32)\n",
      "Image shape before yielding: (256, 256, 3)\n",
      "Yielding image shape: (256, 256, 3) and label: tf.Tensor(79.0, shape=(), dtype=float32)\n",
      "Image shape before yielding: (256, 256, 3)\n",
      "Yielding image shape: (256, 256, 3) and label: tf.Tensor(8.0, shape=(), dtype=float32)\n",
      "Image shape before yielding: (256, 256, 3)\n",
      "Yielding image shape: (256, 256, 3) and label: tf.Tensor(80.0, shape=(), dtype=float32)\n",
      "Image shape before yielding: (256, 256, 3)\n",
      "Yielding image shape: (256, 256, 3) and label: tf.Tensor(81.0, shape=(), dtype=float32)\n",
      "Image shape before yielding: (256, 256, 3)\n",
      "Yielding image shape: (256, 256, 3) and label: tf.Tensor(82.0, shape=(), dtype=float32)\n",
      "Image shape before yielding: (256, 256, 3)\n",
      "Yielding image shape: (256, 256, 3) and label: tf.Tensor(83.0, shape=(), dtype=float32)\n",
      "Image shape before yielding: (256, 256, 3)\n",
      "Yielding image shape: (256, 256, 3) and label: tf.Tensor(84.0, shape=(), dtype=float32)\n",
      "Image shape before yielding: (256, 256, 3)\n",
      "Yielding image shape: (256, 256, 3) and label: tf.Tensor(85.0, shape=(), dtype=float32)\n",
      "Image shape before yielding: (256, 256, 3)\n",
      "Yielding image shape: (256, 256, 3) and label: tf.Tensor(86.0, shape=(), dtype=float32)\n",
      "Image shape before yielding: (256, 256, 3)\n",
      "Yielding image shape: (256, 256, 3) and label: tf.Tensor(87.0, shape=(), dtype=float32)\n",
      "Image shape before yielding: (256, 256, 3)\n",
      "Yielding image shape: (256, 256, 3) and label: tf.Tensor(88.0, shape=(), dtype=float32)\n",
      "Image shape before yielding: (256, 256, 3)\n",
      "Yielding image shape: (256, 256, 3) and label: tf.Tensor(89.0, shape=(), dtype=float32)\n",
      "Image shape before yielding: (256, 256, 3)\n",
      "Yielding image shape: (256, 256, 3) and label: tf.Tensor(9.0, shape=(), dtype=float32)\n",
      "Image shape before yielding: (256, 256, 3)\n",
      "Yielding image shape: (256, 256, 3) and label: tf.Tensor(90.0, shape=(), dtype=float32)\n",
      "Image shape before yielding: (256, 256, 3)\n",
      "Yielding image shape: (256, 256, 3) and label: tf.Tensor(91.0, shape=(), dtype=float32)\n",
      "Image shape before yielding: (256, 256, 3)\n",
      "Yielding image shape: (256, 256, 3) and label: tf.Tensor(92.0, shape=(), dtype=float32)\n",
      "Image shape before yielding: (256, 256, 3)\n",
      "Yielding image shape: (256, 256, 3) and label: tf.Tensor(93.0, shape=(), dtype=float32)\n",
      "Image shape before yielding: (256, 256, 3)\n",
      "Yielding image shape: (256, 256, 3) and label: tf.Tensor(94.0, shape=(), dtype=float32)\n",
      "Image shape before yielding: (256, 256, 3)\n",
      "Yielding image shape: (256, 256, 3) and label: tf.Tensor(95.0, shape=(), dtype=float32)\n",
      "Image shape before yielding: (256, 256, 3)\n",
      "Yielding image shape: (256, 256, 3) and label: tf.Tensor(96.0, shape=(), dtype=float32)\n",
      "Image batch shape: (32, 256, 256, 3)\n",
      "Label batch shape: (32,)\n"
     ]
    }
   ],
   "source": [
    "# Filepaths to the images\n",
    "filepaths_tif = glob.glob(directory_model_data + \"/*.tif\")\n",
    "# Total number of samples\n",
    "total_samples = len(filepaths_tif)\n",
    "\n",
    "# Generator function to load and preprocess each image\n",
    "def data_generator(filepaths, labels_dict):\n",
    "    for filepath in filepaths:\n",
    "        image = load_geotiff(filepath)  # Load the GeoTIFF image\n",
    "        image = preprocess_image(image)   # Preprocess the image\n",
    "\n",
    "        if debug_enabled:\n",
    "            print(f\"Image shape before yielding: {image.shape}\")  # Debugging line\n",
    "\n",
    "        # Convert the image to a TensorFlow tensor\n",
    "        image = tf.convert_to_tensor(image, dtype=tf.float32)\n",
    "\n",
    "        # If image is (256, 256, 1), convert it to (256, 256, 3)\n",
    "        if image.shape[-1] == 1:\n",
    "            image = tf.image.grayscale_to_rgb(image)\n",
    "\n",
    "        # Extract filename and get the corresponding label\n",
    "        filename = os.path.basename(filepath)\n",
    "        label = labels_dict.get(filename)\n",
    "\n",
    "        # Skip if no label is found\n",
    "        if label is None:\n",
    "            continue\n",
    "        \n",
    "        # Convert label to a TensorFlow tensor\n",
    "        label = tf.convert_to_tensor(label, dtype=tf.float32)\n",
    "\n",
    "        if debug_enabled:\n",
    "            print(\"Yielding image shape:\", image.shape, \"and label:\", label)\n",
    "            \n",
    "        yield image, label\n",
    "\n",
    "# Create the dataset using a lambda function to pass labels_dict\n",
    "dataset_land_t = tf.data.Dataset.from_generator(\n",
    "    lambda: data_generator(filepaths_tif, labels_dict),\n",
    "    output_signature=(\n",
    "        tf.TensorSpec(shape=(256, 256, 3), dtype=tf.float32),  # Image shape\n",
    "        tf.TensorSpec(shape=(), dtype=tf.float32)  # Label shape\n",
    "    )\n",
    ")\n",
    "\n",
    "# Shuffle, batch, and prefetch the dataset for efficient training\n",
    "dataset_land_t = dataset_land_t.shuffle(buffer_size=len(filepaths_tif)).batch(32).prefetch(tf.data.AUTOTUNE)\n",
    "\n",
    "# Check dataset shapes\n",
    "for images, labels in dataset_land_t.take(1):\n",
    "    print(\"Image batch shape:\", images.shape)  # Should be (32, 256, 256, 3)\n",
    "    print(\"Label batch shape:\", labels.shape)  # Should be (32,)"
   ]
  },
  {
   "cell_type": "code",
   "execution_count": 199,
   "id": "471e1649-24c5-4c3c-8c3d-5f5e4063aac3",
   "metadata": {},
   "outputs": [
    {
     "data": {
      "text/html": [
       "\n",
       "            <style>\n",
       "                .geemap-dark {\n",
       "                    --jp-widgets-color: white;\n",
       "                    --jp-widgets-label-color: white;\n",
       "                    --jp-ui-font-color1: white;\n",
       "                    --jp-layout-color2: #454545;\n",
       "                    background-color: #383838;\n",
       "                }\n",
       "\n",
       "                .geemap-dark .jupyter-button {\n",
       "                    --jp-layout-color3: #383838;\n",
       "                }\n",
       "\n",
       "                .geemap-colab {\n",
       "                    background-color: var(--colab-primary-surface-color, white);\n",
       "                }\n",
       "\n",
       "                .geemap-colab .jupyter-button {\n",
       "                    --jp-layout-color3: var(--colab-primary-surface-color, white);\n",
       "                }\n",
       "            </style>\n",
       "            "
      ],
      "text/plain": [
       "<IPython.core.display.HTML object>"
      ]
     },
     "metadata": {},
     "output_type": "display_data"
    },
    {
     "data": {
      "text/html": [
       "<pre style=\"white-space:pre;overflow-x:auto;line-height:normal;font-family:Menlo,'DejaVu Sans Mono',consolas,'Courier New',monospace\"><span style=\"font-weight: bold\">Model: \"sequential_34\"</span>\n",
       "</pre>\n"
      ],
      "text/plain": [
       "\u001b[1mModel: \"sequential_34\"\u001b[0m\n"
      ]
     },
     "metadata": {},
     "output_type": "display_data"
    },
    {
     "data": {
      "text/html": [
       "<pre style=\"white-space:pre;overflow-x:auto;line-height:normal;font-family:Menlo,'DejaVu Sans Mono',consolas,'Courier New',monospace\">┏━━━━━━━━━━━━━━━━━━━━━━━━━━━━━━━━━━━━━━┳━━━━━━━━━━━━━━━━━━━━━━━━━━━━━┳━━━━━━━━━━━━━━━━━┓\n",
       "┃<span style=\"font-weight: bold\"> Layer (type)                         </span>┃<span style=\"font-weight: bold\"> Output Shape                </span>┃<span style=\"font-weight: bold\">         Param # </span>┃\n",
       "┡━━━━━━━━━━━━━━━━━━━━━━━━━━━━━━━━━━━━━━╇━━━━━━━━━━━━━━━━━━━━━━━━━━━━━╇━━━━━━━━━━━━━━━━━┩\n",
       "│ conv2d_148 (<span style=\"color: #0087ff; text-decoration-color: #0087ff\">Conv2D</span>)                  │ (<span style=\"color: #00d7ff; text-decoration-color: #00d7ff\">None</span>, <span style=\"color: #00af00; text-decoration-color: #00af00\">256</span>, <span style=\"color: #00af00; text-decoration-color: #00af00\">256</span>, <span style=\"color: #00af00; text-decoration-color: #00af00\">64</span>)        │           <span style=\"color: #00af00; text-decoration-color: #00af00\">1,792</span> │\n",
       "├──────────────────────────────────────┼─────────────────────────────┼─────────────────┤\n",
       "│ max_pooling2d_52 (<span style=\"color: #0087ff; text-decoration-color: #0087ff\">MaxPooling2D</span>)      │ (<span style=\"color: #00d7ff; text-decoration-color: #00d7ff\">None</span>, <span style=\"color: #00af00; text-decoration-color: #00af00\">128</span>, <span style=\"color: #00af00; text-decoration-color: #00af00\">128</span>, <span style=\"color: #00af00; text-decoration-color: #00af00\">64</span>)        │               <span style=\"color: #00af00; text-decoration-color: #00af00\">0</span> │\n",
       "├──────────────────────────────────────┼─────────────────────────────┼─────────────────┤\n",
       "│ conv2d_149 (<span style=\"color: #0087ff; text-decoration-color: #0087ff\">Conv2D</span>)                  │ (<span style=\"color: #00d7ff; text-decoration-color: #00d7ff\">None</span>, <span style=\"color: #00af00; text-decoration-color: #00af00\">128</span>, <span style=\"color: #00af00; text-decoration-color: #00af00\">128</span>, <span style=\"color: #00af00; text-decoration-color: #00af00\">128</span>)       │          <span style=\"color: #00af00; text-decoration-color: #00af00\">73,856</span> │\n",
       "├──────────────────────────────────────┼─────────────────────────────┼─────────────────┤\n",
       "│ max_pooling2d_53 (<span style=\"color: #0087ff; text-decoration-color: #0087ff\">MaxPooling2D</span>)      │ (<span style=\"color: #00d7ff; text-decoration-color: #00d7ff\">None</span>, <span style=\"color: #00af00; text-decoration-color: #00af00\">64</span>, <span style=\"color: #00af00; text-decoration-color: #00af00\">64</span>, <span style=\"color: #00af00; text-decoration-color: #00af00\">128</span>)         │               <span style=\"color: #00af00; text-decoration-color: #00af00\">0</span> │\n",
       "├──────────────────────────────────────┼─────────────────────────────┼─────────────────┤\n",
       "│ conv2d_150 (<span style=\"color: #0087ff; text-decoration-color: #0087ff\">Conv2D</span>)                  │ (<span style=\"color: #00d7ff; text-decoration-color: #00d7ff\">None</span>, <span style=\"color: #00af00; text-decoration-color: #00af00\">64</span>, <span style=\"color: #00af00; text-decoration-color: #00af00\">64</span>, <span style=\"color: #00af00; text-decoration-color: #00af00\">256</span>)         │         <span style=\"color: #00af00; text-decoration-color: #00af00\">295,168</span> │\n",
       "├──────────────────────────────────────┼─────────────────────────────┼─────────────────┤\n",
       "│ max_pooling2d_54 (<span style=\"color: #0087ff; text-decoration-color: #0087ff\">MaxPooling2D</span>)      │ (<span style=\"color: #00d7ff; text-decoration-color: #00d7ff\">None</span>, <span style=\"color: #00af00; text-decoration-color: #00af00\">32</span>, <span style=\"color: #00af00; text-decoration-color: #00af00\">32</span>, <span style=\"color: #00af00; text-decoration-color: #00af00\">256</span>)         │               <span style=\"color: #00af00; text-decoration-color: #00af00\">0</span> │\n",
       "├──────────────────────────────────────┼─────────────────────────────┼─────────────────┤\n",
       "│ flatten_10 (<span style=\"color: #0087ff; text-decoration-color: #0087ff\">Flatten</span>)                 │ (<span style=\"color: #00d7ff; text-decoration-color: #00d7ff\">None</span>, <span style=\"color: #00af00; text-decoration-color: #00af00\">262144</span>)              │               <span style=\"color: #00af00; text-decoration-color: #00af00\">0</span> │\n",
       "├──────────────────────────────────────┼─────────────────────────────┼─────────────────┤\n",
       "│ dense_70 (<span style=\"color: #0087ff; text-decoration-color: #0087ff\">Dense</span>)                     │ (<span style=\"color: #00d7ff; text-decoration-color: #00d7ff\">None</span>, <span style=\"color: #00af00; text-decoration-color: #00af00\">256</span>)                 │      <span style=\"color: #00af00; text-decoration-color: #00af00\">67,109,120</span> │\n",
       "├──────────────────────────────────────┼─────────────────────────────┼─────────────────┤\n",
       "│ dropout_22 (<span style=\"color: #0087ff; text-decoration-color: #0087ff\">Dropout</span>)                 │ (<span style=\"color: #00d7ff; text-decoration-color: #00d7ff\">None</span>, <span style=\"color: #00af00; text-decoration-color: #00af00\">256</span>)                 │               <span style=\"color: #00af00; text-decoration-color: #00af00\">0</span> │\n",
       "├──────────────────────────────────────┼─────────────────────────────┼─────────────────┤\n",
       "│ dense_71 (<span style=\"color: #0087ff; text-decoration-color: #0087ff\">Dense</span>)                     │ (<span style=\"color: #00d7ff; text-decoration-color: #00d7ff\">None</span>, <span style=\"color: #00af00; text-decoration-color: #00af00\">128</span>)                 │          <span style=\"color: #00af00; text-decoration-color: #00af00\">32,896</span> │\n",
       "├──────────────────────────────────────┼─────────────────────────────┼─────────────────┤\n",
       "│ dense_72 (<span style=\"color: #0087ff; text-decoration-color: #0087ff\">Dense</span>)                     │ (<span style=\"color: #00d7ff; text-decoration-color: #00d7ff\">None</span>, <span style=\"color: #00af00; text-decoration-color: #00af00\">1</span>)                   │             <span style=\"color: #00af00; text-decoration-color: #00af00\">129</span> │\n",
       "└──────────────────────────────────────┴─────────────────────────────┴─────────────────┘\n",
       "</pre>\n"
      ],
      "text/plain": [
       "┏━━━━━━━━━━━━━━━━━━━━━━━━━━━━━━━━━━━━━━┳━━━━━━━━━━━━━━━━━━━━━━━━━━━━━┳━━━━━━━━━━━━━━━━━┓\n",
       "┃\u001b[1m \u001b[0m\u001b[1mLayer (type)                        \u001b[0m\u001b[1m \u001b[0m┃\u001b[1m \u001b[0m\u001b[1mOutput Shape               \u001b[0m\u001b[1m \u001b[0m┃\u001b[1m \u001b[0m\u001b[1m        Param #\u001b[0m\u001b[1m \u001b[0m┃\n",
       "┡━━━━━━━━━━━━━━━━━━━━━━━━━━━━━━━━━━━━━━╇━━━━━━━━━━━━━━━━━━━━━━━━━━━━━╇━━━━━━━━━━━━━━━━━┩\n",
       "│ conv2d_148 (\u001b[38;5;33mConv2D\u001b[0m)                  │ (\u001b[38;5;45mNone\u001b[0m, \u001b[38;5;34m256\u001b[0m, \u001b[38;5;34m256\u001b[0m, \u001b[38;5;34m64\u001b[0m)        │           \u001b[38;5;34m1,792\u001b[0m │\n",
       "├──────────────────────────────────────┼─────────────────────────────┼─────────────────┤\n",
       "│ max_pooling2d_52 (\u001b[38;5;33mMaxPooling2D\u001b[0m)      │ (\u001b[38;5;45mNone\u001b[0m, \u001b[38;5;34m128\u001b[0m, \u001b[38;5;34m128\u001b[0m, \u001b[38;5;34m64\u001b[0m)        │               \u001b[38;5;34m0\u001b[0m │\n",
       "├──────────────────────────────────────┼─────────────────────────────┼─────────────────┤\n",
       "│ conv2d_149 (\u001b[38;5;33mConv2D\u001b[0m)                  │ (\u001b[38;5;45mNone\u001b[0m, \u001b[38;5;34m128\u001b[0m, \u001b[38;5;34m128\u001b[0m, \u001b[38;5;34m128\u001b[0m)       │          \u001b[38;5;34m73,856\u001b[0m │\n",
       "├──────────────────────────────────────┼─────────────────────────────┼─────────────────┤\n",
       "│ max_pooling2d_53 (\u001b[38;5;33mMaxPooling2D\u001b[0m)      │ (\u001b[38;5;45mNone\u001b[0m, \u001b[38;5;34m64\u001b[0m, \u001b[38;5;34m64\u001b[0m, \u001b[38;5;34m128\u001b[0m)         │               \u001b[38;5;34m0\u001b[0m │\n",
       "├──────────────────────────────────────┼─────────────────────────────┼─────────────────┤\n",
       "│ conv2d_150 (\u001b[38;5;33mConv2D\u001b[0m)                  │ (\u001b[38;5;45mNone\u001b[0m, \u001b[38;5;34m64\u001b[0m, \u001b[38;5;34m64\u001b[0m, \u001b[38;5;34m256\u001b[0m)         │         \u001b[38;5;34m295,168\u001b[0m │\n",
       "├──────────────────────────────────────┼─────────────────────────────┼─────────────────┤\n",
       "│ max_pooling2d_54 (\u001b[38;5;33mMaxPooling2D\u001b[0m)      │ (\u001b[38;5;45mNone\u001b[0m, \u001b[38;5;34m32\u001b[0m, \u001b[38;5;34m32\u001b[0m, \u001b[38;5;34m256\u001b[0m)         │               \u001b[38;5;34m0\u001b[0m │\n",
       "├──────────────────────────────────────┼─────────────────────────────┼─────────────────┤\n",
       "│ flatten_10 (\u001b[38;5;33mFlatten\u001b[0m)                 │ (\u001b[38;5;45mNone\u001b[0m, \u001b[38;5;34m262144\u001b[0m)              │               \u001b[38;5;34m0\u001b[0m │\n",
       "├──────────────────────────────────────┼─────────────────────────────┼─────────────────┤\n",
       "│ dense_70 (\u001b[38;5;33mDense\u001b[0m)                     │ (\u001b[38;5;45mNone\u001b[0m, \u001b[38;5;34m256\u001b[0m)                 │      \u001b[38;5;34m67,109,120\u001b[0m │\n",
       "├──────────────────────────────────────┼─────────────────────────────┼─────────────────┤\n",
       "│ dropout_22 (\u001b[38;5;33mDropout\u001b[0m)                 │ (\u001b[38;5;45mNone\u001b[0m, \u001b[38;5;34m256\u001b[0m)                 │               \u001b[38;5;34m0\u001b[0m │\n",
       "├──────────────────────────────────────┼─────────────────────────────┼─────────────────┤\n",
       "│ dense_71 (\u001b[38;5;33mDense\u001b[0m)                     │ (\u001b[38;5;45mNone\u001b[0m, \u001b[38;5;34m128\u001b[0m)                 │          \u001b[38;5;34m32,896\u001b[0m │\n",
       "├──────────────────────────────────────┼─────────────────────────────┼─────────────────┤\n",
       "│ dense_72 (\u001b[38;5;33mDense\u001b[0m)                     │ (\u001b[38;5;45mNone\u001b[0m, \u001b[38;5;34m1\u001b[0m)                   │             \u001b[38;5;34m129\u001b[0m │\n",
       "└──────────────────────────────────────┴─────────────────────────────┴─────────────────┘\n"
      ]
     },
     "metadata": {},
     "output_type": "display_data"
    },
    {
     "data": {
      "text/html": [
       "<pre style=\"white-space:pre;overflow-x:auto;line-height:normal;font-family:Menlo,'DejaVu Sans Mono',consolas,'Courier New',monospace\"><span style=\"font-weight: bold\"> Total params: </span><span style=\"color: #00af00; text-decoration-color: #00af00\">67,512,961</span> (257.54 MB)\n",
       "</pre>\n"
      ],
      "text/plain": [
       "\u001b[1m Total params: \u001b[0m\u001b[38;5;34m67,512,961\u001b[0m (257.54 MB)\n"
      ]
     },
     "metadata": {},
     "output_type": "display_data"
    },
    {
     "data": {
      "text/html": [
       "<pre style=\"white-space:pre;overflow-x:auto;line-height:normal;font-family:Menlo,'DejaVu Sans Mono',consolas,'Courier New',monospace\"><span style=\"font-weight: bold\"> Trainable params: </span><span style=\"color: #00af00; text-decoration-color: #00af00\">67,512,961</span> (257.54 MB)\n",
       "</pre>\n"
      ],
      "text/plain": [
       "\u001b[1m Trainable params: \u001b[0m\u001b[38;5;34m67,512,961\u001b[0m (257.54 MB)\n"
      ]
     },
     "metadata": {},
     "output_type": "display_data"
    },
    {
     "data": {
      "text/html": [
       "<pre style=\"white-space:pre;overflow-x:auto;line-height:normal;font-family:Menlo,'DejaVu Sans Mono',consolas,'Courier New',monospace\"><span style=\"font-weight: bold\"> Non-trainable params: </span><span style=\"color: #00af00; text-decoration-color: #00af00\">0</span> (0.00 B)\n",
       "</pre>\n"
      ],
      "text/plain": [
       "\u001b[1m Non-trainable params: \u001b[0m\u001b[38;5;34m0\u001b[0m (0.00 B)\n"
      ]
     },
     "metadata": {},
     "output_type": "display_data"
    }
   ],
   "source": [
    "# Define input shape for Landsat imagery (e.g., 7 bands for Landsat 8)\n",
    "input_shape = (256, 256, 3)\n",
    "\n",
    "model = tf.keras.Sequential([\n",
    "    # First convolutional layer\n",
    "    tf.keras.layers.Conv2D(64, (3, 3), activation='relu', padding='same', input_shape=input_shape),\n",
    "    tf.keras.layers.MaxPooling2D((2, 2)),\n",
    "\n",
    "    # Second convolutional layer\n",
    "    tf.keras.layers.Conv2D(128, (3, 3), activation='relu', padding='same'),\n",
    "    tf.keras.layers.MaxPooling2D((2, 2)),\n",
    "\n",
    "    # Third convolutional layer\n",
    "    tf.keras.layers.Conv2D(256, (3, 3), activation='relu', padding='same'),\n",
    "    tf.keras.layers.MaxPooling2D((2, 2)),\n",
    "\n",
    "    # Flatten and add dense layers\n",
    "    tf.keras.layers.Flatten(),\n",
    "    tf.keras.layers.Dense(256, activation='relu'),\n",
    "    tf.keras.layers.Dropout(0.5),  # Dropout layer to prevent overfitting\n",
    "    tf.keras.layers.Dense(128, activation='relu'),\n",
    "\n",
    "    # Final layer - Adjust output units based on the task\n",
    "    tf.keras.layers.Dense(1, activation='linear')  # e.g., for regression tasks\n",
    "])\n",
    "\n",
    "# Compile the model\n",
    "model.compile(optimizer='adam', loss='mse')  # Adjust loss function as per your needs\n",
    "\n",
    "# View the model architecture\n",
    "model.summary()"
   ]
  },
  {
   "cell_type": "markdown",
   "id": "f0180e75-e218-44cb-8d0e-deb7ee633be2",
   "metadata": {},
   "source": [
    "Model summary shows a very high number of parameters in the fully connected layer dense_6, with over 67 million parameters. This occurs because the output from the last convolutional layer ((None, 32, 32, 256)) is flattened to (None, 262144) before being passed to dense_6, which has 256 units.\n",
    "\n",
    "To reduce the parameter count and potentially improve the model’s efficiency, consider adding another pooling layer or using a Global Average Pooling layer after the last convolutional layer. Global pooling layers reduce spatial dimensions without needing a high number of trainable parameters, which is helpful for satellite imagery tasks.\n",
    "\n",
    "Modifications\n",
    "Use an Additional Pooling Layer: You can add a MaxPooling2D layer after the third Conv2D layer to further down-sample the spatial dimensions.\n",
    "\n",
    "Use Global Average Pooling: Replace Flatten with GlobalAveragePooling2D to reduce the dimensionality more effectively. This will decrease the number of parameters by summarizing spatial dimensions.\n",
    "\n",
    "Global Average Pooling Layer: Reduces the spatial dimensions to a single value per channel (from (None, 32, 32, 256) to (None, 256)), which drastically reduces the input size to the fully connected layer.\n",
    "\n",
    "Impact on Parameters: This reduces the number of parameters in dense_6, making the model lighter and faster while retaining essential information."
   ]
  },
  {
   "cell_type": "code",
   "execution_count": 209,
   "id": "3fa405d3-8a0a-4b60-9e0a-512f28858b89",
   "metadata": {},
   "outputs": [
    {
     "data": {
      "text/html": [
       "\n",
       "            <style>\n",
       "                .geemap-dark {\n",
       "                    --jp-widgets-color: white;\n",
       "                    --jp-widgets-label-color: white;\n",
       "                    --jp-ui-font-color1: white;\n",
       "                    --jp-layout-color2: #454545;\n",
       "                    background-color: #383838;\n",
       "                }\n",
       "\n",
       "                .geemap-dark .jupyter-button {\n",
       "                    --jp-layout-color3: #383838;\n",
       "                }\n",
       "\n",
       "                .geemap-colab {\n",
       "                    background-color: var(--colab-primary-surface-color, white);\n",
       "                }\n",
       "\n",
       "                .geemap-colab .jupyter-button {\n",
       "                    --jp-layout-color3: var(--colab-primary-surface-color, white);\n",
       "                }\n",
       "            </style>\n",
       "            "
      ],
      "text/plain": [
       "<IPython.core.display.HTML object>"
      ]
     },
     "metadata": {},
     "output_type": "display_data"
    },
    {
     "data": {
      "text/html": [
       "<pre style=\"white-space:pre;overflow-x:auto;line-height:normal;font-family:Menlo,'DejaVu Sans Mono',consolas,'Courier New',monospace\"><span style=\"font-weight: bold\">Model: \"sequential_37\"</span>\n",
       "</pre>\n"
      ],
      "text/plain": [
       "\u001b[1mModel: \"sequential_37\"\u001b[0m\n"
      ]
     },
     "metadata": {},
     "output_type": "display_data"
    },
    {
     "data": {
      "text/html": [
       "<pre style=\"white-space:pre;overflow-x:auto;line-height:normal;font-family:Menlo,'DejaVu Sans Mono',consolas,'Courier New',monospace\">┏━━━━━━━━━━━━━━━━━━━━━━━━━━━━━━━━━━━━━━┳━━━━━━━━━━━━━━━━━━━━━━━━━━━━━┳━━━━━━━━━━━━━━━━━┓\n",
       "┃<span style=\"font-weight: bold\"> Layer (type)                         </span>┃<span style=\"font-weight: bold\"> Output Shape                </span>┃<span style=\"font-weight: bold\">         Param # </span>┃\n",
       "┡━━━━━━━━━━━━━━━━━━━━━━━━━━━━━━━━━━━━━━╇━━━━━━━━━━━━━━━━━━━━━━━━━━━━━╇━━━━━━━━━━━━━━━━━┩\n",
       "│ random_flip_10 (<span style=\"color: #0087ff; text-decoration-color: #0087ff\">RandomFlip</span>)          │ (<span style=\"color: #00d7ff; text-decoration-color: #00d7ff\">None</span>, <span style=\"color: #00af00; text-decoration-color: #00af00\">256</span>, <span style=\"color: #00af00; text-decoration-color: #00af00\">256</span>, <span style=\"color: #00af00; text-decoration-color: #00af00\">3</span>)         │               <span style=\"color: #00af00; text-decoration-color: #00af00\">0</span> │\n",
       "├──────────────────────────────────────┼─────────────────────────────┼─────────────────┤\n",
       "│ random_rotation_10 (<span style=\"color: #0087ff; text-decoration-color: #0087ff\">RandomRotation</span>)  │ (<span style=\"color: #00d7ff; text-decoration-color: #00d7ff\">None</span>, <span style=\"color: #00af00; text-decoration-color: #00af00\">256</span>, <span style=\"color: #00af00; text-decoration-color: #00af00\">256</span>, <span style=\"color: #00af00; text-decoration-color: #00af00\">3</span>)         │               <span style=\"color: #00af00; text-decoration-color: #00af00\">0</span> │\n",
       "├──────────────────────────────────────┼─────────────────────────────┼─────────────────┤\n",
       "│ random_zoom_10 (<span style=\"color: #0087ff; text-decoration-color: #0087ff\">RandomZoom</span>)          │ (<span style=\"color: #00d7ff; text-decoration-color: #00d7ff\">None</span>, <span style=\"color: #00af00; text-decoration-color: #00af00\">256</span>, <span style=\"color: #00af00; text-decoration-color: #00af00\">256</span>, <span style=\"color: #00af00; text-decoration-color: #00af00\">3</span>)         │               <span style=\"color: #00af00; text-decoration-color: #00af00\">0</span> │\n",
       "├──────────────────────────────────────┼─────────────────────────────┼─────────────────┤\n",
       "│ conv2d_157 (<span style=\"color: #0087ff; text-decoration-color: #0087ff\">Conv2D</span>)                  │ (<span style=\"color: #00d7ff; text-decoration-color: #00d7ff\">None</span>, <span style=\"color: #00af00; text-decoration-color: #00af00\">256</span>, <span style=\"color: #00af00; text-decoration-color: #00af00\">256</span>, <span style=\"color: #00af00; text-decoration-color: #00af00\">64</span>)        │           <span style=\"color: #00af00; text-decoration-color: #00af00\">1,792</span> │\n",
       "├──────────────────────────────────────┼─────────────────────────────┼─────────────────┤\n",
       "│ batch_normalization_124              │ (<span style=\"color: #00d7ff; text-decoration-color: #00d7ff\">None</span>, <span style=\"color: #00af00; text-decoration-color: #00af00\">256</span>, <span style=\"color: #00af00; text-decoration-color: #00af00\">256</span>, <span style=\"color: #00af00; text-decoration-color: #00af00\">64</span>)        │             <span style=\"color: #00af00; text-decoration-color: #00af00\">256</span> │\n",
       "│ (<span style=\"color: #0087ff; text-decoration-color: #0087ff\">BatchNormalization</span>)                 │                             │                 │\n",
       "├──────────────────────────────────────┼─────────────────────────────┼─────────────────┤\n",
       "│ max_pooling2d_61 (<span style=\"color: #0087ff; text-decoration-color: #0087ff\">MaxPooling2D</span>)      │ (<span style=\"color: #00d7ff; text-decoration-color: #00d7ff\">None</span>, <span style=\"color: #00af00; text-decoration-color: #00af00\">128</span>, <span style=\"color: #00af00; text-decoration-color: #00af00\">128</span>, <span style=\"color: #00af00; text-decoration-color: #00af00\">64</span>)        │               <span style=\"color: #00af00; text-decoration-color: #00af00\">0</span> │\n",
       "├──────────────────────────────────────┼─────────────────────────────┼─────────────────┤\n",
       "│ conv2d_158 (<span style=\"color: #0087ff; text-decoration-color: #0087ff\">Conv2D</span>)                  │ (<span style=\"color: #00d7ff; text-decoration-color: #00d7ff\">None</span>, <span style=\"color: #00af00; text-decoration-color: #00af00\">128</span>, <span style=\"color: #00af00; text-decoration-color: #00af00\">128</span>, <span style=\"color: #00af00; text-decoration-color: #00af00\">128</span>)       │          <span style=\"color: #00af00; text-decoration-color: #00af00\">73,856</span> │\n",
       "├──────────────────────────────────────┼─────────────────────────────┼─────────────────┤\n",
       "│ batch_normalization_125              │ (<span style=\"color: #00d7ff; text-decoration-color: #00d7ff\">None</span>, <span style=\"color: #00af00; text-decoration-color: #00af00\">128</span>, <span style=\"color: #00af00; text-decoration-color: #00af00\">128</span>, <span style=\"color: #00af00; text-decoration-color: #00af00\">128</span>)       │             <span style=\"color: #00af00; text-decoration-color: #00af00\">512</span> │\n",
       "│ (<span style=\"color: #0087ff; text-decoration-color: #0087ff\">BatchNormalization</span>)                 │                             │                 │\n",
       "├──────────────────────────────────────┼─────────────────────────────┼─────────────────┤\n",
       "│ max_pooling2d_62 (<span style=\"color: #0087ff; text-decoration-color: #0087ff\">MaxPooling2D</span>)      │ (<span style=\"color: #00d7ff; text-decoration-color: #00d7ff\">None</span>, <span style=\"color: #00af00; text-decoration-color: #00af00\">64</span>, <span style=\"color: #00af00; text-decoration-color: #00af00\">64</span>, <span style=\"color: #00af00; text-decoration-color: #00af00\">128</span>)         │               <span style=\"color: #00af00; text-decoration-color: #00af00\">0</span> │\n",
       "├──────────────────────────────────────┼─────────────────────────────┼─────────────────┤\n",
       "│ conv2d_159 (<span style=\"color: #0087ff; text-decoration-color: #0087ff\">Conv2D</span>)                  │ (<span style=\"color: #00d7ff; text-decoration-color: #00d7ff\">None</span>, <span style=\"color: #00af00; text-decoration-color: #00af00\">64</span>, <span style=\"color: #00af00; text-decoration-color: #00af00\">64</span>, <span style=\"color: #00af00; text-decoration-color: #00af00\">256</span>)         │         <span style=\"color: #00af00; text-decoration-color: #00af00\">295,168</span> │\n",
       "├──────────────────────────────────────┼─────────────────────────────┼─────────────────┤\n",
       "│ batch_normalization_126              │ (<span style=\"color: #00d7ff; text-decoration-color: #00d7ff\">None</span>, <span style=\"color: #00af00; text-decoration-color: #00af00\">64</span>, <span style=\"color: #00af00; text-decoration-color: #00af00\">64</span>, <span style=\"color: #00af00; text-decoration-color: #00af00\">256</span>)         │           <span style=\"color: #00af00; text-decoration-color: #00af00\">1,024</span> │\n",
       "│ (<span style=\"color: #0087ff; text-decoration-color: #0087ff\">BatchNormalization</span>)                 │                             │                 │\n",
       "├──────────────────────────────────────┼─────────────────────────────┼─────────────────┤\n",
       "│ max_pooling2d_63 (<span style=\"color: #0087ff; text-decoration-color: #0087ff\">MaxPooling2D</span>)      │ (<span style=\"color: #00d7ff; text-decoration-color: #00d7ff\">None</span>, <span style=\"color: #00af00; text-decoration-color: #00af00\">32</span>, <span style=\"color: #00af00; text-decoration-color: #00af00\">32</span>, <span style=\"color: #00af00; text-decoration-color: #00af00\">256</span>)         │               <span style=\"color: #00af00; text-decoration-color: #00af00\">0</span> │\n",
       "├──────────────────────────────────────┼─────────────────────────────┼─────────────────┤\n",
       "│ global_average_pooling2d_21          │ (<span style=\"color: #00d7ff; text-decoration-color: #00d7ff\">None</span>, <span style=\"color: #00af00; text-decoration-color: #00af00\">256</span>)                 │               <span style=\"color: #00af00; text-decoration-color: #00af00\">0</span> │\n",
       "│ (<span style=\"color: #0087ff; text-decoration-color: #0087ff\">GlobalAveragePooling2D</span>)             │                             │                 │\n",
       "├──────────────────────────────────────┼─────────────────────────────┼─────────────────┤\n",
       "│ dense_79 (<span style=\"color: #0087ff; text-decoration-color: #0087ff\">Dense</span>)                     │ (<span style=\"color: #00d7ff; text-decoration-color: #00d7ff\">None</span>, <span style=\"color: #00af00; text-decoration-color: #00af00\">256</span>)                 │          <span style=\"color: #00af00; text-decoration-color: #00af00\">65,792</span> │\n",
       "├──────────────────────────────────────┼─────────────────────────────┼─────────────────┤\n",
       "│ dropout_25 (<span style=\"color: #0087ff; text-decoration-color: #0087ff\">Dropout</span>)                 │ (<span style=\"color: #00d7ff; text-decoration-color: #00d7ff\">None</span>, <span style=\"color: #00af00; text-decoration-color: #00af00\">256</span>)                 │               <span style=\"color: #00af00; text-decoration-color: #00af00\">0</span> │\n",
       "├──────────────────────────────────────┼─────────────────────────────┼─────────────────┤\n",
       "│ dense_80 (<span style=\"color: #0087ff; text-decoration-color: #0087ff\">Dense</span>)                     │ (<span style=\"color: #00d7ff; text-decoration-color: #00d7ff\">None</span>, <span style=\"color: #00af00; text-decoration-color: #00af00\">128</span>)                 │          <span style=\"color: #00af00; text-decoration-color: #00af00\">32,896</span> │\n",
       "├──────────────────────────────────────┼─────────────────────────────┼─────────────────┤\n",
       "│ dense_81 (<span style=\"color: #0087ff; text-decoration-color: #0087ff\">Dense</span>)                     │ (<span style=\"color: #00d7ff; text-decoration-color: #00d7ff\">None</span>, <span style=\"color: #00af00; text-decoration-color: #00af00\">1</span>)                   │             <span style=\"color: #00af00; text-decoration-color: #00af00\">129</span> │\n",
       "└──────────────────────────────────────┴─────────────────────────────┴─────────────────┘\n",
       "</pre>\n"
      ],
      "text/plain": [
       "┏━━━━━━━━━━━━━━━━━━━━━━━━━━━━━━━━━━━━━━┳━━━━━━━━━━━━━━━━━━━━━━━━━━━━━┳━━━━━━━━━━━━━━━━━┓\n",
       "┃\u001b[1m \u001b[0m\u001b[1mLayer (type)                        \u001b[0m\u001b[1m \u001b[0m┃\u001b[1m \u001b[0m\u001b[1mOutput Shape               \u001b[0m\u001b[1m \u001b[0m┃\u001b[1m \u001b[0m\u001b[1m        Param #\u001b[0m\u001b[1m \u001b[0m┃\n",
       "┡━━━━━━━━━━━━━━━━━━━━━━━━━━━━━━━━━━━━━━╇━━━━━━━━━━━━━━━━━━━━━━━━━━━━━╇━━━━━━━━━━━━━━━━━┩\n",
       "│ random_flip_10 (\u001b[38;5;33mRandomFlip\u001b[0m)          │ (\u001b[38;5;45mNone\u001b[0m, \u001b[38;5;34m256\u001b[0m, \u001b[38;5;34m256\u001b[0m, \u001b[38;5;34m3\u001b[0m)         │               \u001b[38;5;34m0\u001b[0m │\n",
       "├──────────────────────────────────────┼─────────────────────────────┼─────────────────┤\n",
       "│ random_rotation_10 (\u001b[38;5;33mRandomRotation\u001b[0m)  │ (\u001b[38;5;45mNone\u001b[0m, \u001b[38;5;34m256\u001b[0m, \u001b[38;5;34m256\u001b[0m, \u001b[38;5;34m3\u001b[0m)         │               \u001b[38;5;34m0\u001b[0m │\n",
       "├──────────────────────────────────────┼─────────────────────────────┼─────────────────┤\n",
       "│ random_zoom_10 (\u001b[38;5;33mRandomZoom\u001b[0m)          │ (\u001b[38;5;45mNone\u001b[0m, \u001b[38;5;34m256\u001b[0m, \u001b[38;5;34m256\u001b[0m, \u001b[38;5;34m3\u001b[0m)         │               \u001b[38;5;34m0\u001b[0m │\n",
       "├──────────────────────────────────────┼─────────────────────────────┼─────────────────┤\n",
       "│ conv2d_157 (\u001b[38;5;33mConv2D\u001b[0m)                  │ (\u001b[38;5;45mNone\u001b[0m, \u001b[38;5;34m256\u001b[0m, \u001b[38;5;34m256\u001b[0m, \u001b[38;5;34m64\u001b[0m)        │           \u001b[38;5;34m1,792\u001b[0m │\n",
       "├──────────────────────────────────────┼─────────────────────────────┼─────────────────┤\n",
       "│ batch_normalization_124              │ (\u001b[38;5;45mNone\u001b[0m, \u001b[38;5;34m256\u001b[0m, \u001b[38;5;34m256\u001b[0m, \u001b[38;5;34m64\u001b[0m)        │             \u001b[38;5;34m256\u001b[0m │\n",
       "│ (\u001b[38;5;33mBatchNormalization\u001b[0m)                 │                             │                 │\n",
       "├──────────────────────────────────────┼─────────────────────────────┼─────────────────┤\n",
       "│ max_pooling2d_61 (\u001b[38;5;33mMaxPooling2D\u001b[0m)      │ (\u001b[38;5;45mNone\u001b[0m, \u001b[38;5;34m128\u001b[0m, \u001b[38;5;34m128\u001b[0m, \u001b[38;5;34m64\u001b[0m)        │               \u001b[38;5;34m0\u001b[0m │\n",
       "├──────────────────────────────────────┼─────────────────────────────┼─────────────────┤\n",
       "│ conv2d_158 (\u001b[38;5;33mConv2D\u001b[0m)                  │ (\u001b[38;5;45mNone\u001b[0m, \u001b[38;5;34m128\u001b[0m, \u001b[38;5;34m128\u001b[0m, \u001b[38;5;34m128\u001b[0m)       │          \u001b[38;5;34m73,856\u001b[0m │\n",
       "├──────────────────────────────────────┼─────────────────────────────┼─────────────────┤\n",
       "│ batch_normalization_125              │ (\u001b[38;5;45mNone\u001b[0m, \u001b[38;5;34m128\u001b[0m, \u001b[38;5;34m128\u001b[0m, \u001b[38;5;34m128\u001b[0m)       │             \u001b[38;5;34m512\u001b[0m │\n",
       "│ (\u001b[38;5;33mBatchNormalization\u001b[0m)                 │                             │                 │\n",
       "├──────────────────────────────────────┼─────────────────────────────┼─────────────────┤\n",
       "│ max_pooling2d_62 (\u001b[38;5;33mMaxPooling2D\u001b[0m)      │ (\u001b[38;5;45mNone\u001b[0m, \u001b[38;5;34m64\u001b[0m, \u001b[38;5;34m64\u001b[0m, \u001b[38;5;34m128\u001b[0m)         │               \u001b[38;5;34m0\u001b[0m │\n",
       "├──────────────────────────────────────┼─────────────────────────────┼─────────────────┤\n",
       "│ conv2d_159 (\u001b[38;5;33mConv2D\u001b[0m)                  │ (\u001b[38;5;45mNone\u001b[0m, \u001b[38;5;34m64\u001b[0m, \u001b[38;5;34m64\u001b[0m, \u001b[38;5;34m256\u001b[0m)         │         \u001b[38;5;34m295,168\u001b[0m │\n",
       "├──────────────────────────────────────┼─────────────────────────────┼─────────────────┤\n",
       "│ batch_normalization_126              │ (\u001b[38;5;45mNone\u001b[0m, \u001b[38;5;34m64\u001b[0m, \u001b[38;5;34m64\u001b[0m, \u001b[38;5;34m256\u001b[0m)         │           \u001b[38;5;34m1,024\u001b[0m │\n",
       "│ (\u001b[38;5;33mBatchNormalization\u001b[0m)                 │                             │                 │\n",
       "├──────────────────────────────────────┼─────────────────────────────┼─────────────────┤\n",
       "│ max_pooling2d_63 (\u001b[38;5;33mMaxPooling2D\u001b[0m)      │ (\u001b[38;5;45mNone\u001b[0m, \u001b[38;5;34m32\u001b[0m, \u001b[38;5;34m32\u001b[0m, \u001b[38;5;34m256\u001b[0m)         │               \u001b[38;5;34m0\u001b[0m │\n",
       "├──────────────────────────────────────┼─────────────────────────────┼─────────────────┤\n",
       "│ global_average_pooling2d_21          │ (\u001b[38;5;45mNone\u001b[0m, \u001b[38;5;34m256\u001b[0m)                 │               \u001b[38;5;34m0\u001b[0m │\n",
       "│ (\u001b[38;5;33mGlobalAveragePooling2D\u001b[0m)             │                             │                 │\n",
       "├──────────────────────────────────────┼─────────────────────────────┼─────────────────┤\n",
       "│ dense_79 (\u001b[38;5;33mDense\u001b[0m)                     │ (\u001b[38;5;45mNone\u001b[0m, \u001b[38;5;34m256\u001b[0m)                 │          \u001b[38;5;34m65,792\u001b[0m │\n",
       "├──────────────────────────────────────┼─────────────────────────────┼─────────────────┤\n",
       "│ dropout_25 (\u001b[38;5;33mDropout\u001b[0m)                 │ (\u001b[38;5;45mNone\u001b[0m, \u001b[38;5;34m256\u001b[0m)                 │               \u001b[38;5;34m0\u001b[0m │\n",
       "├──────────────────────────────────────┼─────────────────────────────┼─────────────────┤\n",
       "│ dense_80 (\u001b[38;5;33mDense\u001b[0m)                     │ (\u001b[38;5;45mNone\u001b[0m, \u001b[38;5;34m128\u001b[0m)                 │          \u001b[38;5;34m32,896\u001b[0m │\n",
       "├──────────────────────────────────────┼─────────────────────────────┼─────────────────┤\n",
       "│ dense_81 (\u001b[38;5;33mDense\u001b[0m)                     │ (\u001b[38;5;45mNone\u001b[0m, \u001b[38;5;34m1\u001b[0m)                   │             \u001b[38;5;34m129\u001b[0m │\n",
       "└──────────────────────────────────────┴─────────────────────────────┴─────────────────┘\n"
      ]
     },
     "metadata": {},
     "output_type": "display_data"
    },
    {
     "data": {
      "text/html": [
       "<pre style=\"white-space:pre;overflow-x:auto;line-height:normal;font-family:Menlo,'DejaVu Sans Mono',consolas,'Courier New',monospace\"><span style=\"font-weight: bold\"> Total params: </span><span style=\"color: #00af00; text-decoration-color: #00af00\">471,425</span> (1.80 MB)\n",
       "</pre>\n"
      ],
      "text/plain": [
       "\u001b[1m Total params: \u001b[0m\u001b[38;5;34m471,425\u001b[0m (1.80 MB)\n"
      ]
     },
     "metadata": {},
     "output_type": "display_data"
    },
    {
     "data": {
      "text/html": [
       "<pre style=\"white-space:pre;overflow-x:auto;line-height:normal;font-family:Menlo,'DejaVu Sans Mono',consolas,'Courier New',monospace\"><span style=\"font-weight: bold\"> Trainable params: </span><span style=\"color: #00af00; text-decoration-color: #00af00\">470,529</span> (1.79 MB)\n",
       "</pre>\n"
      ],
      "text/plain": [
       "\u001b[1m Trainable params: \u001b[0m\u001b[38;5;34m470,529\u001b[0m (1.79 MB)\n"
      ]
     },
     "metadata": {},
     "output_type": "display_data"
    },
    {
     "data": {
      "text/html": [
       "<pre style=\"white-space:pre;overflow-x:auto;line-height:normal;font-family:Menlo,'DejaVu Sans Mono',consolas,'Courier New',monospace\"><span style=\"font-weight: bold\"> Non-trainable params: </span><span style=\"color: #00af00; text-decoration-color: #00af00\">896</span> (3.50 KB)\n",
       "</pre>\n"
      ],
      "text/plain": [
       "\u001b[1m Non-trainable params: \u001b[0m\u001b[38;5;34m896\u001b[0m (3.50 KB)\n"
      ]
     },
     "metadata": {},
     "output_type": "display_data"
    }
   ],
   "source": [
    "model = tf.keras.Sequential([\n",
    "    tf.keras.layers.Input(shape=input_shape),\n",
    "    # Data Augmentation\n",
    "    tf.keras.layers.RandomFlip('horizontal_and_vertical'),\n",
    "    tf.keras.layers.RandomRotation(0.2),\n",
    "    tf.keras.layers.RandomZoom(0.2),\n",
    "    \n",
    "    # Convolutional layers\n",
    "    tf.keras.layers.Conv2D(64, (3, 3), activation='relu', padding='same'), # input_shape=input_shape\n",
    "    # BatchNormalization layers after convolutional layers to stabilize training and improve performance\n",
    "    tf.keras.layers.BatchNormalization(),\n",
    "    tf.keras.layers.MaxPooling2D((2, 2)),\n",
    "    \n",
    "    tf.keras.layers.Conv2D(128, (3, 3), activation='relu', padding='same'),\n",
    "    tf.keras.layers.BatchNormalization(),\n",
    "    tf.keras.layers.MaxPooling2D((2, 2)),\n",
    "    \n",
    "    tf.keras.layers.Conv2D(256, (3, 3), activation='relu', padding='same'),\n",
    "    tf.keras.layers.BatchNormalization(),\n",
    "    tf.keras.layers.MaxPooling2D((2, 2)),\n",
    "\n",
    "    # Global Average Pooling Layer\n",
    "    tf.keras.layers.GlobalAveragePooling2D(),\n",
    "\n",
    "    # Dense layers\n",
    "    tf.keras.layers.Dense(256, activation='relu'),\n",
    "    tf.keras.layers.Dropout(0.5),\n",
    "    tf.keras.layers.Dense(128, activation='relu'),\n",
    "    tf.keras.layers.Dense(1, activation='linear')  # For regression tasks\n",
    "])\n",
    "\n",
    "model.summary()"
   ]
  },
  {
   "cell_type": "code",
   "execution_count": 210,
   "id": "46af2559-0437-4e77-b2f5-6d59cb5edfb2",
   "metadata": {},
   "outputs": [
    {
     "data": {
      "text/html": [
       "\n",
       "            <style>\n",
       "                .geemap-dark {\n",
       "                    --jp-widgets-color: white;\n",
       "                    --jp-widgets-label-color: white;\n",
       "                    --jp-ui-font-color1: white;\n",
       "                    --jp-layout-color2: #454545;\n",
       "                    background-color: #383838;\n",
       "                }\n",
       "\n",
       "                .geemap-dark .jupyter-button {\n",
       "                    --jp-layout-color3: #383838;\n",
       "                }\n",
       "\n",
       "                .geemap-colab {\n",
       "                    background-color: var(--colab-primary-surface-color, white);\n",
       "                }\n",
       "\n",
       "                .geemap-colab .jupyter-button {\n",
       "                    --jp-layout-color3: var(--colab-primary-surface-color, white);\n",
       "                }\n",
       "            </style>\n",
       "            "
      ],
      "text/plain": [
       "<IPython.core.display.HTML object>"
      ]
     },
     "metadata": {},
     "output_type": "display_data"
    }
   ],
   "source": [
    "#  Split the Dataset into Training and Validation Sets \n",
    "# train_size = int(0.8 * len(filepaths_tif))\n",
    "# Calculate split sizes\n",
    "train_size = int(0.8 * total_samples)\n",
    "val_size = total_samples - train_size\n",
    "\n",
    "train_dataset = dataset_land_t.take(train_size) #.repeat()\n",
    "val_dataset = dataset_land_t.skip(train_size) #.repeat()"
   ]
  },
  {
   "cell_type": "code",
   "execution_count": 211,
   "id": "3fb098e4-75bc-45fd-a9c3-e4db5b7a0975",
   "metadata": {},
   "outputs": [
    {
     "data": {
      "text/html": [
       "\n",
       "            <style>\n",
       "                .geemap-dark {\n",
       "                    --jp-widgets-color: white;\n",
       "                    --jp-widgets-label-color: white;\n",
       "                    --jp-ui-font-color1: white;\n",
       "                    --jp-layout-color2: #454545;\n",
       "                    background-color: #383838;\n",
       "                }\n",
       "\n",
       "                .geemap-dark .jupyter-button {\n",
       "                    --jp-layout-color3: #383838;\n",
       "                }\n",
       "\n",
       "                .geemap-colab {\n",
       "                    background-color: var(--colab-primary-surface-color, white);\n",
       "                }\n",
       "\n",
       "                .geemap-colab .jupyter-button {\n",
       "                    --jp-layout-color3: var(--colab-primary-surface-color, white);\n",
       "                }\n",
       "            </style>\n",
       "            "
      ],
      "text/plain": [
       "<IPython.core.display.HTML object>"
      ]
     },
     "metadata": {},
     "output_type": "display_data"
    }
   ],
   "source": [
    "# Define callbacks and monitor validation loss and prevent overfitting\n",
    "callbacks = [\n",
    "    tf.keras.callbacks.EarlyStopping(monitor='loss', patience=10, restore_best_weights=True),\n",
    "    tf.keras.callbacks.ReduceLROnPlateau(monitor='loss', factor=0.2, patience=5)\n",
    "]"
   ]
  },
  {
   "cell_type": "markdown",
   "id": "39efcf8b-96c4-430c-9471-1598c022fac0",
   "metadata": {},
   "source": [
    "Optimizers: https://www.tensorflow.org/api_docs/python/tf/keras/optimizers\n",
    "\n",
    "a. Regression (e.g., predicting NDVI, temperature, or other continuous variables)  \n",
    "Loss Function:  \n",
    "Mean Squared Error (MSE): Penalizes large errors more, suitable for most regression tasks.  \n",
    "Mean Absolute Error (MAE): Less sensitive to outliers, useful if you have noisy data.  \n",
    "Huber Loss: A combination of MSE and MAE, robust to outliers.  \n",
    "Optimizer:  \n",
    "Adam: A versatile and adaptive optimizer; often a good starting point.  \n",
    "RMSprop: Works well for noisy or non-stationary data.  \n",
    "SGD with Momentum: Can be effective but requires careful tuning.  \n",
    "b. Classification (e.g., land cover types, urban vs. rural)  \n",
    "Loss Function:  \n",
    "Categorical Cross-Entropy: For multi-class classification when labels are one-hot encoded.  \n",
    "Sparse Categorical Cross-Entropy: For multi-class classification with integer labels.  \n",
    "Binary Cross-Entropy: For binary classification tasks.  \n",
    "Optimizer:  \n",
    "Adam: Often provides a good balance of speed and accuracy.  \n",
    "SGD with Momentum: Good for fine-tuning pretrained models.  \n",
    "c. Segmentation (e.g., crop boundaries, water bodies, urban areas)  \n",
    "Loss Function:  \n",
    "Binary Cross-Entropy or Categorical Cross-Entropy: For pixel-wise classification.  \n",
    "Dice Loss: Focuses on the overlap between predicted and ground truth masks, often used for imbalanced datasets.  \n",
    "IoU (Jaccard) Loss: Useful when intersection-over-union is a key evaluation metric.  \n",
    "Optimizer:  \n",
    "Adam: A common choice for segmentation tasks.  \n",
    "SGD with Momentum: Can achieve better generalization on large datasets.  \n",
    "d. Object Detection (e.g., detecting buildings, roads)  \n",
    "Loss Function:  \n",
    "Custom Loss Functions: Typically combines classification loss (e.g., cross-entropy) and regression loss (e.g., smooth L1) for bounding boxes.  \n",
    "Optimizer:  \n",
    "AdamW: Adam with weight decay; suitable for complex architectures like YOLO or Faster R-CNN.  "
   ]
  },
  {
   "cell_type": "code",
   "execution_count": 212,
   "id": "82b879b8-c9c2-4546-80dc-3b34dc37fe00",
   "metadata": {},
   "outputs": [
    {
     "data": {
      "text/html": [
       "\n",
       "            <style>\n",
       "                .geemap-dark {\n",
       "                    --jp-widgets-color: white;\n",
       "                    --jp-widgets-label-color: white;\n",
       "                    --jp-ui-font-color1: white;\n",
       "                    --jp-layout-color2: #454545;\n",
       "                    background-color: #383838;\n",
       "                }\n",
       "\n",
       "                .geemap-dark .jupyter-button {\n",
       "                    --jp-layout-color3: #383838;\n",
       "                }\n",
       "\n",
       "                .geemap-colab {\n",
       "                    background-color: var(--colab-primary-surface-color, white);\n",
       "                }\n",
       "\n",
       "                .geemap-colab .jupyter-button {\n",
       "                    --jp-layout-color3: var(--colab-primary-surface-color, white);\n",
       "                }\n",
       "            </style>\n",
       "            "
      ],
      "text/plain": [
       "<IPython.core.display.HTML object>"
      ]
     },
     "metadata": {},
     "output_type": "display_data"
    },
    {
     "name": "stdout",
     "output_type": "stream",
     "text": [
      "Epoch 1/50\n",
      "      3/Unknown \u001b[1m55s\u001b[0m 5s/step - loss: 3293.9270"
     ]
    },
    {
     "name": "stderr",
     "output_type": "stream",
     "text": [
      "C:\\Users\\zhech\\anaconda3\\Lib\\contextlib.py:158: UserWarning: Your input ran out of data; interrupting training. Make sure that your dataset or generator can generate at least `steps_per_epoch * epochs` batches. You may need to use the `.repeat()` function when building your dataset.\n",
      "  self.gen.throw(typ, value, traceback)\n"
     ]
    },
    {
     "name": "stdout",
     "output_type": "stream",
     "text": [
      "\u001b[1m3/3\u001b[0m \u001b[32m━━━━━━━━━━━━━━━━━━━━\u001b[0m\u001b[37m\u001b[0m \u001b[1m57s\u001b[0m 6s/step - loss: 3251.4226 - learning_rate: 0.0010\n",
      "Epoch 2/50\n",
      "\u001b[1m3/3\u001b[0m \u001b[32m━━━━━━━━━━━━━━━━━━━━\u001b[0m\u001b[37m\u001b[0m \u001b[1m16s\u001b[0m 5s/step - loss: 3069.0876 - learning_rate: 0.0010\n",
      "Epoch 3/50\n",
      "\u001b[1m3/3\u001b[0m \u001b[32m━━━━━━━━━━━━━━━━━━━━\u001b[0m\u001b[37m\u001b[0m \u001b[1m15s\u001b[0m 5s/step - loss: 3154.6499 - learning_rate: 0.0010\n",
      "Epoch 4/50\n",
      "\u001b[1m3/3\u001b[0m \u001b[32m━━━━━━━━━━━━━━━━━━━━\u001b[0m\u001b[37m\u001b[0m \u001b[1m15s\u001b[0m 5s/step - loss: 3081.8047 - learning_rate: 0.0010\n",
      "Epoch 5/50\n",
      "\u001b[1m3/3\u001b[0m \u001b[32m━━━━━━━━━━━━━━━━━━━━\u001b[0m\u001b[37m\u001b[0m \u001b[1m14s\u001b[0m 5s/step - loss: 2702.0378 - learning_rate: 0.0010\n",
      "Epoch 6/50\n",
      "\u001b[1m3/3\u001b[0m \u001b[32m━━━━━━━━━━━━━━━━━━━━\u001b[0m\u001b[37m\u001b[0m \u001b[1m15s\u001b[0m 5s/step - loss: 2300.9773 - learning_rate: 0.0010\n",
      "Epoch 7/50\n",
      "\u001b[1m3/3\u001b[0m \u001b[32m━━━━━━━━━━━━━━━━━━━━\u001b[0m\u001b[37m\u001b[0m \u001b[1m14s\u001b[0m 5s/step - loss: 1928.3229 - learning_rate: 0.0010\n",
      "Epoch 8/50\n",
      "\u001b[1m3/3\u001b[0m \u001b[32m━━━━━━━━━━━━━━━━━━━━\u001b[0m\u001b[37m\u001b[0m \u001b[1m14s\u001b[0m 5s/step - loss: 1533.6788 - learning_rate: 0.0010\n",
      "Epoch 9/50\n",
      "\u001b[1m3/3\u001b[0m \u001b[32m━━━━━━━━━━━━━━━━━━━━\u001b[0m\u001b[37m\u001b[0m \u001b[1m14s\u001b[0m 5s/step - loss: 1024.0300 - learning_rate: 0.0010\n",
      "Epoch 10/50\n",
      "\u001b[1m3/3\u001b[0m \u001b[32m━━━━━━━━━━━━━━━━━━━━\u001b[0m\u001b[37m\u001b[0m \u001b[1m15s\u001b[0m 5s/step - loss: 777.4912 - learning_rate: 0.0010\n",
      "Epoch 11/50\n",
      "\u001b[1m3/3\u001b[0m \u001b[32m━━━━━━━━━━━━━━━━━━━━\u001b[0m\u001b[37m\u001b[0m \u001b[1m15s\u001b[0m 5s/step - loss: 898.4009 - learning_rate: 0.0010\n",
      "Epoch 12/50\n",
      "\u001b[1m3/3\u001b[0m \u001b[32m━━━━━━━━━━━━━━━━━━━━\u001b[0m\u001b[37m\u001b[0m \u001b[1m14s\u001b[0m 5s/step - loss: 735.1200 - learning_rate: 0.0010\n",
      "Epoch 13/50\n",
      "\u001b[1m3/3\u001b[0m \u001b[32m━━━━━━━━━━━━━━━━━━━━\u001b[0m\u001b[37m\u001b[0m \u001b[1m14s\u001b[0m 5s/step - loss: 731.4362 - learning_rate: 0.0010\n",
      "Epoch 14/50\n",
      "\u001b[1m3/3\u001b[0m \u001b[32m━━━━━━━━━━━━━━━━━━━━\u001b[0m\u001b[37m\u001b[0m \u001b[1m14s\u001b[0m 5s/step - loss: 694.7352 - learning_rate: 0.0010\n",
      "Epoch 15/50\n",
      "\u001b[1m3/3\u001b[0m \u001b[32m━━━━━━━━━━━━━━━━━━━━\u001b[0m\u001b[37m\u001b[0m \u001b[1m14s\u001b[0m 5s/step - loss: 806.4094 - learning_rate: 0.0010\n",
      "Epoch 16/50\n",
      "\u001b[1m3/3\u001b[0m \u001b[32m━━━━━━━━━━━━━━━━━━━━\u001b[0m\u001b[37m\u001b[0m \u001b[1m14s\u001b[0m 5s/step - loss: 835.3171 - learning_rate: 0.0010\n",
      "Epoch 17/50\n",
      "\u001b[1m3/3\u001b[0m \u001b[32m━━━━━━━━━━━━━━━━━━━━\u001b[0m\u001b[37m\u001b[0m \u001b[1m14s\u001b[0m 5s/step - loss: 816.3223 - learning_rate: 0.0010\n",
      "Epoch 18/50\n",
      "\u001b[1m3/3\u001b[0m \u001b[32m━━━━━━━━━━━━━━━━━━━━\u001b[0m\u001b[37m\u001b[0m \u001b[1m14s\u001b[0m 5s/step - loss: 847.4825 - learning_rate: 0.0010\n",
      "Epoch 19/50\n",
      "\u001b[1m3/3\u001b[0m \u001b[32m━━━━━━━━━━━━━━━━━━━━\u001b[0m\u001b[37m\u001b[0m \u001b[1m14s\u001b[0m 5s/step - loss: 766.6549 - learning_rate: 0.0010\n",
      "Epoch 20/50\n",
      "\u001b[1m3/3\u001b[0m \u001b[32m━━━━━━━━━━━━━━━━━━━━\u001b[0m\u001b[37m\u001b[0m \u001b[1m14s\u001b[0m 5s/step - loss: 762.1351 - learning_rate: 2.0000e-04\n",
      "Epoch 21/50\n",
      "\u001b[1m3/3\u001b[0m \u001b[32m━━━━━━━━━━━━━━━━━━━━\u001b[0m\u001b[37m\u001b[0m \u001b[1m14s\u001b[0m 5s/step - loss: 811.1532 - learning_rate: 2.0000e-04\n",
      "Epoch 22/50\n",
      "\u001b[1m3/3\u001b[0m \u001b[32m━━━━━━━━━━━━━━━━━━━━\u001b[0m\u001b[37m\u001b[0m \u001b[1m14s\u001b[0m 5s/step - loss: 861.8941 - learning_rate: 2.0000e-04\n",
      "Epoch 23/50\n",
      "\u001b[1m3/3\u001b[0m \u001b[32m━━━━━━━━━━━━━━━━━━━━\u001b[0m\u001b[37m\u001b[0m \u001b[1m14s\u001b[0m 5s/step - loss: 868.7731 - learning_rate: 2.0000e-04\n",
      "Epoch 24/50\n",
      "\u001b[1m3/3\u001b[0m \u001b[32m━━━━━━━━━━━━━━━━━━━━\u001b[0m\u001b[37m\u001b[0m \u001b[1m14s\u001b[0m 5s/step - loss: 842.0542 - learning_rate: 2.0000e-04\n"
     ]
    }
   ],
   "source": [
    "# Compile the model\n",
    "model.compile(optimizer='adam', loss='mse')  # MSE for regression; adjust if needed\n",
    "\n",
    "# Train the model\n",
    "history = model.fit(train_dataset, epochs=50, validation_data=val_dataset, callbacks=callbacks)"
   ]
  },
  {
   "cell_type": "markdown",
   "id": "001754af-abfd-4ac6-bcdd-af6b55ad1205",
   "metadata": {},
   "source": [
    "'2017-01-01', '2017-01-02'  \n",
    "'2022-01-01', '2022-01-02'\n",
    "\n",
    "\n",
    "First run:  \n",
    "Epoch 1/10  \n",
    "1/1 ━━━━━━━━━━━━━━━━━━━━ 2s 2s/step - loss: 1.2760  \n",
    "Epoch 2/10  \n",
    "1/1 ━━━━━━━━━━━━━━━━━━━━ 0s 183ms/step - loss: 1.2377  \n",
    "Epoch 3/10  \n",
    "1/1 ━━━━━━━━━━━━━━━━━━━━ 0s 176ms/step - loss: 1.4225  \n",
    "Epoch 4/10  \n",
    "1/1 ━━━━━━━━━━━━━━━━━━━━ 0s 182ms/step - loss: 0.9588  \n",
    "Epoch 5/10  \n",
    "1/1 ━━━━━━━━━━━━━━━━━━━━ 0s 181ms/step - loss: 1.0055  \n",
    "Epoch 6/10  \n",
    "1/1 ━━━━━━━━━━━━━━━━━━━━ 0s 269ms/step - loss: 1.9402  \n",
    "Epoch 7/10  \n",
    "1/1 ━━━━━━━━━━━━━━━━━━━━ 0s 198ms/step - loss: 1.0555  \n",
    "Epoch 8/10  \n",
    "1/1 ━━━━━━━━━━━━━━━━━━━━ 0s 197ms/step - loss: 1.3748  \n",
    "Epoch 9/10  \n",
    "1/1 ━━━━━━━━━━━━━━━━━━━━ 0s 236ms/step - loss: 1.4129  \n",
    "Epoch 10/10  \n",
    "1/1 ━━━━━━━━━━━━━━━━━━━━ 0s 291ms/step - loss: 1.2818  "
   ]
  },
  {
   "cell_type": "markdown",
   "id": "4c769ee3-52f7-404f-b4e0-efe05ceefbba",
   "metadata": {},
   "source": [
    "Second run:\n",
    "Results show a better overall trend. The training loss is consistently decreasing with each epoch, indicating that the model is gradually learning from the data. Starting from around 49.8 and decreasing to 15.3 suggests that the model is effectively minimizing the loss, which is typically a sign of convergence.\n",
    "\n",
    "Epoch 1/10  \n",
    "1/1 ━━━━━━━━━━━━━━━━━━━━ 2s 2s/step - loss: 49.7952  \n",
    "Epoch 2/10  \n",
    "1/1 ━━━━━━━━━━━━━━━━━━━━ 1s 535ms/step - loss: 46.4295  \n",
    "Epoch 3/10  \n",
    "1/1 ━━━━━━━━━━━━━━━━━━━━ 0s 495ms/step - loss: 43.4524  \n",
    "Epoch 4/10  \n",
    "1/1 ━━━━━━━━━━━━━━━━━━━━ 1s 525ms/step - loss: 39.2551  \n",
    "Epoch 5/10  \n",
    "1/1 ━━━━━━━━━━━━━━━━━━━━ 1s 646ms/step - loss: 35.0007  \n",
    "Epoch 6/10  \n",
    "1/1 ━━━━━━━━━━━━━━━━━━━━ 1s 559ms/step - loss: 31.6593  \n",
    "Epoch 7/10  \n",
    "1/1 ━━━━━━━━━━━━━━━━━━━━ 1s 542ms/step - loss: 27.3199  \n",
    "Epoch 8/10  \n",
    "1/1 ━━━━━━━━━━━━━━━━━━━━ 1s 522ms/step - loss: 22.7143  \n",
    "Epoch 9/10  \n",
    "1/1 ━━━━━━━━━━━━━━━━━━━━ 1s 586ms/step - loss: 18.0280  \n",
    "Epoch 10/10  \n",
    "1/1 ━━━━━━━━━━━━━━━━━━━━ 1s 536ms/step - loss: 15.3195  "
   ]
  },
  {
   "cell_type": "markdown",
   "id": "19086a30-7121-4b91-a2a5-30983ce9f3e8",
   "metadata": {},
   "source": [
    "To further evaluate and improve:\n",
    "\n",
    "Increase Epochs: Running more epochs could help see if the loss continues to decrease or if it plateaus.\n",
    "Validation Loss Tracking: Adding validation data will help observe if the model is overfitting. A diverging validation loss with a decreasing training loss would indicate overfitting.\n",
    "Learning Rate: If the loss starts plateauing too soon, you could lower the learning rate further or try a learning rate scheduler for a gradual decrease."
   ]
  },
  {
   "cell_type": "markdown",
   "id": "fc552b6b-8368-4a9a-bbcc-7397e52789a3",
   "metadata": {},
   "source": [
    "Third run:  \n",
    "\n",
    "Epoch 1/20  \n",
    "1/1 ━━━━━━━━━━━━━━━━━━━━ 3s 3s/step - loss: 22.7203  \n",
    "Epoch 2/20  \n",
    "1/1 ━━━━━━━━━━━━━━━━━━━━ 1s 1s/step - loss: 20.6037  \n",
    "Epoch 3/20  \n",
    "1/1 ━━━━━━━━━━━━━━━━━━━━ 1s 1s/step - loss: 14.4283  \n",
    "Epoch 4/20  \n",
    "1/1 ━━━━━━━━━━━━━━━━━━━━ 1s 1s/step - loss: 18.2034  \n",
    "Epoch 5/20  \n",
    "1/1 ━━━━━━━━━━━━━━━━━━━━ 1s 1s/step - loss: 18.6051  \n",
    "Epoch 6/20  \n",
    "1/1 ━━━━━━━━━━━━━━━━━━━━ 1s 1s/step - loss: 19.6829  \n",
    "Epoch 7/20  \n",
    "1/1 ━━━━━━━━━━━━━━━━━━━━ 1s 1s/step - loss: 16.8309  \n",
    "Epoch 8/20  \n",
    "1/1 ━━━━━━━━━━━━━━━━━━━━ 1s 1s/step - loss: 16.3995  \n",
    "Epoch 9/20  \n",
    "1/1 ━━━━━━━━━━━━━━━━━━━━ 1s 1s/step - loss: 16.7076  \n",
    "Epoch 10/20  \n",
    "1/1 ━━━━━━━━━━━━━━━━━━━━ 1s 1s/step - loss: 18.6553  \n",
    "Epoch 11/20  \n",
    "1/1 ━━━━━━━━━━━━━━━━━━━━ 1s 1s/step - loss: 16.3321  \n",
    "Epoch 12/20  \n",
    "1/1 ━━━━━━━━━━━━━━━━━━━━ 1s 1s/step - loss: 17.2708  \n",
    "Epoch 13/20  \n",
    "1/1 ━━━━━━━━━━━━━━━━━━━━ 1s 1s/step - loss: 18.6530  \n",
    "Epoch 14/20  \n",
    "1/1 ━━━━━━━━━━━━━━━━━━━━ 1s 1s/step - loss: 17.1940  \n",
    "Epoch 15/20  \n",
    "1/1 ━━━━━━━━━━━━━━━━━━━━ 1s 1s/step - loss: 16.5669  \n",
    "Epoch 16/20  \n",
    "1/1 ━━━━━━━━━━━━━━━━━━━━ 1s 1s/step - loss: 16.7396  \n",
    "Epoch 17/20  \n",
    "1/1 ━━━━━━━━━━━━━━━━━━━━ 1s 1s/step - loss: 16.1727  \n",
    "Epoch 18/20  \n",
    "1/1 ━━━━━━━━━━━━━━━━━━━━ 1s 1s/step - loss: 14.5688  \n",
    "Epoch 19/20  \n",
    "1/1 ━━━━━━━━━━━━━━━━━━━━ 1s 1s/step - loss: 12.9904  \n",
    "Epoch 20/20  \n",
    "1/1 ━━━━━━━━━━━━━━━━━━━━ 1s 1s/step - loss: 18.8812  "
   ]
  },
  {
   "cell_type": "markdown",
   "id": "c0c97136-0177-4638-8352-090472ff738d",
   "metadata": {},
   "source": [
    "Change bands to infrared B4, B5 for better training and use this dataset. Years here are 2022 and 2023 - two days are taken for both years."
   ]
  },
  {
   "cell_type": "code",
   "execution_count": 213,
   "id": "00a12f92-2579-4918-8454-28560b959009",
   "metadata": {},
   "outputs": [
    {
     "data": {
      "text/html": [
       "\n",
       "            <style>\n",
       "                .geemap-dark {\n",
       "                    --jp-widgets-color: white;\n",
       "                    --jp-widgets-label-color: white;\n",
       "                    --jp-ui-font-color1: white;\n",
       "                    --jp-layout-color2: #454545;\n",
       "                    background-color: #383838;\n",
       "                }\n",
       "\n",
       "                .geemap-dark .jupyter-button {\n",
       "                    --jp-layout-color3: #383838;\n",
       "                }\n",
       "\n",
       "                .geemap-colab {\n",
       "                    background-color: var(--colab-primary-surface-color, white);\n",
       "                }\n",
       "\n",
       "                .geemap-colab .jupyter-button {\n",
       "                    --jp-layout-color3: var(--colab-primary-surface-color, white);\n",
       "                }\n",
       "            </style>\n",
       "            "
      ],
      "text/plain": [
       "<IPython.core.display.HTML object>"
      ]
     },
     "metadata": {},
     "output_type": "display_data"
    },
    {
     "data": {
      "image/png": "[encoded data removed]",
      "text/plain": [
       "<Figure size 640x480 with 1 Axes>"
      ]
     },
     "metadata": {},
     "output_type": "display_data"
    }
   ],
   "source": [
    "# Plot training & validation loss values\n",
    "plt.plot(history.history['loss'], label='Training Loss')\n",
    "if 'val_loss' in history.history:\n",
    "    plt.plot(history.history['val_loss'], label='Validation Loss')\n",
    "plt.title('Model Loss Over Epochs')\n",
    "plt.xlabel('Epochs')\n",
    "plt.ylabel('Loss')\n",
    "plt.legend()\n",
    "plt.show()"
   ]
  },
  {
   "cell_type": "code",
   "execution_count": 107,
   "id": "1296a031-5830-438f-b977-8cb5af0807dc",
   "metadata": {},
   "outputs": [
    {
     "data": {
      "text/html": [
       "\n",
       "            <style>\n",
       "                .geemap-dark {\n",
       "                    --jp-widgets-color: white;\n",
       "                    --jp-widgets-label-color: white;\n",
       "                    --jp-ui-font-color1: white;\n",
       "                    --jp-layout-color2: #454545;\n",
       "                    background-color: #383838;\n",
       "                }\n",
       "\n",
       "                .geemap-dark .jupyter-button {\n",
       "                    --jp-layout-color3: #383838;\n",
       "                }\n",
       "\n",
       "                .geemap-colab {\n",
       "                    background-color: var(--colab-primary-surface-color, white);\n",
       "                }\n",
       "\n",
       "                .geemap-colab .jupyter-button {\n",
       "                    --jp-layout-color3: var(--colab-primary-surface-color, white);\n",
       "                }\n",
       "            </style>\n",
       "            "
      ],
      "text/plain": [
       "<IPython.core.display.HTML object>"
      ]
     },
     "metadata": {},
     "output_type": "display_data"
    },
    {
     "data": {
      "text/plain": [
       "{'loss': [2495.2802734375,\n",
       "  2485.255126953125,\n",
       "  2422.899658203125,\n",
       "  2264.542236328125,\n",
       "  1967.07666015625,\n",
       "  1615.8690185546875,\n",
       "  1151.716552734375,\n",
       "  811.6048583984375,\n",
       "  643.9826049804688,\n",
       "  720.32470703125,\n",
       "  597.2861938476562,\n",
       "  625.9951782226562,\n",
       "  633.38134765625,\n",
       "  634.9278564453125,\n",
       "  618.8549194335938,\n",
       "  644.3345947265625,\n",
       "  658.4005737304688,\n",
       "  607.0859985351562,\n",
       "  632.1796264648438,\n",
       "  635.8745727539062],\n",
       " 'learning_rate': [0.0010000000474974513,\n",
       "  0.0010000000474974513,\n",
       "  0.0010000000474974513,\n",
       "  0.0010000000474974513,\n",
       "  0.0010000000474974513,\n",
       "  0.0010000000474974513,\n",
       "  0.0010000000474974513,\n",
       "  0.0010000000474974513,\n",
       "  0.0010000000474974513,\n",
       "  0.0010000000474974513,\n",
       "  0.0010000000474974513,\n",
       "  0.0010000000474974513,\n",
       "  0.0010000000474974513,\n",
       "  0.0010000000474974513,\n",
       "  0.0010000000474974513,\n",
       "  0.0010000000474974513,\n",
       "  0.0010000000474974513,\n",
       "  0.0010000000474974513,\n",
       "  0.0010000000474974513,\n",
       "  0.0010000000474974513]}"
      ]
     },
     "execution_count": 107,
     "metadata": {},
     "output_type": "execute_result"
    }
   ],
   "source": [
    "history.history"
   ]
  },
  {
   "cell_type": "markdown",
   "id": "1a0f40f9-67dd-4ca1-a4c6-5e1965eef3a6",
   "metadata": {},
   "source": [
    "VGG16, ResNet50, IncetionV3, EfficientNet and DenseNet121 architectures"
   ]
  },
  {
   "cell_type": "code",
   "execution_count": 158,
   "id": "af72cc68-3d8f-4aa6-b1e2-e8c572494c0a",
   "metadata": {},
   "outputs": [
    {
     "data": {
      "text/html": [
       "\n",
       "            <style>\n",
       "                .geemap-dark {\n",
       "                    --jp-widgets-color: white;\n",
       "                    --jp-widgets-label-color: white;\n",
       "                    --jp-ui-font-color1: white;\n",
       "                    --jp-layout-color2: #454545;\n",
       "                    background-color: #383838;\n",
       "                }\n",
       "\n",
       "                .geemap-dark .jupyter-button {\n",
       "                    --jp-layout-color3: #383838;\n",
       "                }\n",
       "\n",
       "                .geemap-colab {\n",
       "                    background-color: var(--colab-primary-surface-color, white);\n",
       "                }\n",
       "\n",
       "                .geemap-colab .jupyter-button {\n",
       "                    --jp-layout-color3: var(--colab-primary-surface-color, white);\n",
       "                }\n",
       "            </style>\n",
       "            "
      ],
      "text/plain": [
       "<IPython.core.display.HTML object>"
      ]
     },
     "metadata": {},
     "output_type": "display_data"
    },
    {
     "name": "stdout",
     "output_type": "stream",
     "text": [
      "Downloading data from https://storage.googleapis.com/tensorflow/keras-applications/resnet/resnet50_weights_tf_dim_ordering_tf_kernels_notop.h5\n",
      "\u001b[1m94765736/94765736\u001b[0m \u001b[32m━━━━━━━━━━━━━━━━━━━━\u001b[0m\u001b[37m\u001b[0m \u001b[1m10s\u001b[0m 0us/step\n"
     ]
    }
   ],
   "source": [
    "from tensorflow.keras.applications import ResNet50\n",
    "\n",
    "base_model = ResNet50(weights='imagenet', include_top=False, input_shape=(256, 256, 3))\n",
    "base_model.trainable = False"
   ]
  },
  {
   "cell_type": "code",
   "execution_count": null,
   "id": "66730f25-3a59-4b66-8bb6-4b758c7072e7",
   "metadata": {},
   "outputs": [],
   "source": [
    "from tensorflow.keras.applications import VGG16\n",
    "\n",
    "base_model = VGG16(weights='imagenet', include_top=False, input_shape=(256, 256, 3))\n",
    "base_model.trainable = False  # Freeze the base model"
   ]
  },
  {
   "cell_type": "code",
   "execution_count": 162,
   "id": "b53f18e6-dab1-4d66-baf2-4477c4e925b9",
   "metadata": {},
   "outputs": [
    {
     "data": {
      "text/html": [
       "\n",
       "            <style>\n",
       "                .geemap-dark {\n",
       "                    --jp-widgets-color: white;\n",
       "                    --jp-widgets-label-color: white;\n",
       "                    --jp-ui-font-color1: white;\n",
       "                    --jp-layout-color2: #454545;\n",
       "                    background-color: #383838;\n",
       "                }\n",
       "\n",
       "                .geemap-dark .jupyter-button {\n",
       "                    --jp-layout-color3: #383838;\n",
       "                }\n",
       "\n",
       "                .geemap-colab {\n",
       "                    background-color: var(--colab-primary-surface-color, white);\n",
       "                }\n",
       "\n",
       "                .geemap-colab .jupyter-button {\n",
       "                    --jp-layout-color3: var(--colab-primary-surface-color, white);\n",
       "                }\n",
       "            </style>\n",
       "            "
      ],
      "text/plain": [
       "<IPython.core.display.HTML object>"
      ]
     },
     "metadata": {},
     "output_type": "display_data"
    },
    {
     "name": "stdout",
     "output_type": "stream",
     "text": [
      "Downloading data from https://storage.googleapis.com/tensorflow/keras-applications/inception_v3/inception_v3_weights_tf_dim_ordering_tf_kernels_notop.h5\n",
      "\u001b[1m87910968/87910968\u001b[0m \u001b[32m━━━━━━━━━━━━━━━━━━━━\u001b[0m\u001b[37m\u001b[0m \u001b[1m9s\u001b[0m 0us/step\n"
     ]
    }
   ],
   "source": [
    "from tensorflow.keras.applications import InceptionV3\n",
    "\n",
    "base_model = InceptionV3(weights='imagenet', include_top=False, input_shape=(256, 256, 3))\n",
    "base_model.trainable = False"
   ]
  },
  {
   "cell_type": "code",
   "execution_count": 168,
   "id": "e891b569-49c4-4c1c-affc-0f5042478db0",
   "metadata": {},
   "outputs": [
    {
     "data": {
      "text/html": [
       "\n",
       "            <style>\n",
       "                .geemap-dark {\n",
       "                    --jp-widgets-color: white;\n",
       "                    --jp-widgets-label-color: white;\n",
       "                    --jp-ui-font-color1: white;\n",
       "                    --jp-layout-color2: #454545;\n",
       "                    background-color: #383838;\n",
       "                }\n",
       "\n",
       "                .geemap-dark .jupyter-button {\n",
       "                    --jp-layout-color3: #383838;\n",
       "                }\n",
       "\n",
       "                .geemap-colab {\n",
       "                    background-color: var(--colab-primary-surface-color, white);\n",
       "                }\n",
       "\n",
       "                .geemap-colab .jupyter-button {\n",
       "                    --jp-layout-color3: var(--colab-primary-surface-color, white);\n",
       "                }\n",
       "            </style>\n",
       "            "
      ],
      "text/plain": [
       "<IPython.core.display.HTML object>"
      ]
     },
     "metadata": {},
     "output_type": "display_data"
    },
    {
     "name": "stdout",
     "output_type": "stream",
     "text": [
      "Downloading data from https://storage.googleapis.com/keras-applications/efficientnetb0_notop.h5\n",
      "\u001b[1m16705208/16705208\u001b[0m \u001b[32m━━━━━━━━━━━━━━━━━━━━\u001b[0m\u001b[37m\u001b[0m \u001b[1m2s\u001b[0m 0us/step\n"
     ]
    }
   ],
   "source": [
    "from tensorflow.keras.applications import EfficientNetB0\n",
    "\n",
    "base_model = EfficientNetB0(weights='imagenet', include_top=False, input_shape=(256, 256, 3))\n",
    "base_model.trainable = False"
   ]
  },
  {
   "cell_type": "code",
   "execution_count": 178,
   "id": "860dfffe-d938-4621-9bd0-058fc3ccb7b5",
   "metadata": {},
   "outputs": [
    {
     "data": {
      "text/html": [
       "\n",
       "            <style>\n",
       "                .geemap-dark {\n",
       "                    --jp-widgets-color: white;\n",
       "                    --jp-widgets-label-color: white;\n",
       "                    --jp-ui-font-color1: white;\n",
       "                    --jp-layout-color2: #454545;\n",
       "                    background-color: #383838;\n",
       "                }\n",
       "\n",
       "                .geemap-dark .jupyter-button {\n",
       "                    --jp-layout-color3: #383838;\n",
       "                }\n",
       "\n",
       "                .geemap-colab {\n",
       "                    background-color: var(--colab-primary-surface-color, white);\n",
       "                }\n",
       "\n",
       "                .geemap-colab .jupyter-button {\n",
       "                    --jp-layout-color3: var(--colab-primary-surface-color, white);\n",
       "                }\n",
       "            </style>\n",
       "            "
      ],
      "text/plain": [
       "<IPython.core.display.HTML object>"
      ]
     },
     "metadata": {},
     "output_type": "display_data"
    },
    {
     "name": "stdout",
     "output_type": "stream",
     "text": [
      "Downloading data from https://storage.googleapis.com/tensorflow/keras-applications/densenet/densenet121_weights_tf_dim_ordering_tf_kernels_notop.h5\n",
      "\u001b[1m29084464/29084464\u001b[0m \u001b[32m━━━━━━━━━━━━━━━━━━━━\u001b[0m\u001b[37m\u001b[0m \u001b[1m4s\u001b[0m 0us/step\n"
     ]
    }
   ],
   "source": [
    "from tensorflow.keras.applications import DenseNet121\n",
    "\n",
    "base_model = DenseNet121(weights='imagenet', include_top=False, input_shape=(256, 256, 3))\n",
    "base_model.trainable = False"
   ]
  },
  {
   "cell_type": "code",
   "execution_count": 179,
   "id": "81662059-9d91-4a06-8090-e4ef8206bc0f",
   "metadata": {},
   "outputs": [
    {
     "data": {
      "text/html": [
       "\n",
       "            <style>\n",
       "                .geemap-dark {\n",
       "                    --jp-widgets-color: white;\n",
       "                    --jp-widgets-label-color: white;\n",
       "                    --jp-ui-font-color1: white;\n",
       "                    --jp-layout-color2: #454545;\n",
       "                    background-color: #383838;\n",
       "                }\n",
       "\n",
       "                .geemap-dark .jupyter-button {\n",
       "                    --jp-layout-color3: #383838;\n",
       "                }\n",
       "\n",
       "                .geemap-colab {\n",
       "                    background-color: var(--colab-primary-surface-color, white);\n",
       "                }\n",
       "\n",
       "                .geemap-colab .jupyter-button {\n",
       "                    --jp-layout-color3: var(--colab-primary-surface-color, white);\n",
       "                }\n",
       "            </style>\n",
       "            "
      ],
      "text/plain": [
       "<IPython.core.display.HTML object>"
      ]
     },
     "metadata": {},
     "output_type": "display_data"
    },
    {
     "data": {
      "text/html": [
       "<pre style=\"white-space:pre;overflow-x:auto;line-height:normal;font-family:Menlo,'DejaVu Sans Mono',consolas,'Courier New',monospace\"><span style=\"font-weight: bold\">Model: \"sequential_27\"</span>\n",
       "</pre>\n"
      ],
      "text/plain": [
       "\u001b[1mModel: \"sequential_27\"\u001b[0m\n"
      ]
     },
     "metadata": {},
     "output_type": "display_data"
    },
    {
     "data": {
      "text/html": [
       "<pre style=\"white-space:pre;overflow-x:auto;line-height:normal;font-family:Menlo,'DejaVu Sans Mono',consolas,'Courier New',monospace\">┏━━━━━━━━━━━━━━━━━━━━━━━━━━━━━━━━━━━━━━┳━━━━━━━━━━━━━━━━━━━━━━━━━━━━━┳━━━━━━━━━━━━━━━━━┓\n",
       "┃<span style=\"font-weight: bold\"> Layer (type)                         </span>┃<span style=\"font-weight: bold\"> Output Shape                </span>┃<span style=\"font-weight: bold\">         Param # </span>┃\n",
       "┡━━━━━━━━━━━━━━━━━━━━━━━━━━━━━━━━━━━━━━╇━━━━━━━━━━━━━━━━━━━━━━━━━━━━━╇━━━━━━━━━━━━━━━━━┩\n",
       "│ densenet121 (<span style=\"color: #0087ff; text-decoration-color: #0087ff\">Functional</span>)             │ (<span style=\"color: #00d7ff; text-decoration-color: #00d7ff\">None</span>, <span style=\"color: #00af00; text-decoration-color: #00af00\">8</span>, <span style=\"color: #00af00; text-decoration-color: #00af00\">8</span>, <span style=\"color: #00af00; text-decoration-color: #00af00\">1024</span>)          │       <span style=\"color: #00af00; text-decoration-color: #00af00\">7,037,504</span> │\n",
       "├──────────────────────────────────────┼─────────────────────────────┼─────────────────┤\n",
       "│ global_average_pooling2d_18          │ (<span style=\"color: #00d7ff; text-decoration-color: #00d7ff\">None</span>, <span style=\"color: #00af00; text-decoration-color: #00af00\">1024</span>)                │               <span style=\"color: #00af00; text-decoration-color: #00af00\">0</span> │\n",
       "│ (<span style=\"color: #0087ff; text-decoration-color: #0087ff\">GlobalAveragePooling2D</span>)             │                             │                 │\n",
       "├──────────────────────────────────────┼─────────────────────────────┼─────────────────┤\n",
       "│ dense_56 (<span style=\"color: #0087ff; text-decoration-color: #0087ff\">Dense</span>)                     │ (<span style=\"color: #00d7ff; text-decoration-color: #00d7ff\">None</span>, <span style=\"color: #00af00; text-decoration-color: #00af00\">128</span>)                 │         <span style=\"color: #00af00; text-decoration-color: #00af00\">131,200</span> │\n",
       "├──────────────────────────────────────┼─────────────────────────────┼─────────────────┤\n",
       "│ dropout_21 (<span style=\"color: #0087ff; text-decoration-color: #0087ff\">Dropout</span>)                 │ (<span style=\"color: #00d7ff; text-decoration-color: #00d7ff\">None</span>, <span style=\"color: #00af00; text-decoration-color: #00af00\">128</span>)                 │               <span style=\"color: #00af00; text-decoration-color: #00af00\">0</span> │\n",
       "├──────────────────────────────────────┼─────────────────────────────┼─────────────────┤\n",
       "│ dense_57 (<span style=\"color: #0087ff; text-decoration-color: #0087ff\">Dense</span>)                     │ (<span style=\"color: #00d7ff; text-decoration-color: #00d7ff\">None</span>, <span style=\"color: #00af00; text-decoration-color: #00af00\">1</span>)                   │             <span style=\"color: #00af00; text-decoration-color: #00af00\">129</span> │\n",
       "└──────────────────────────────────────┴─────────────────────────────┴─────────────────┘\n",
       "</pre>\n"
      ],
      "text/plain": [
       "┏━━━━━━━━━━━━━━━━━━━━━━━━━━━━━━━━━━━━━━┳━━━━━━━━━━━━━━━━━━━━━━━━━━━━━┳━━━━━━━━━━━━━━━━━┓\n",
       "┃\u001b[1m \u001b[0m\u001b[1mLayer (type)                        \u001b[0m\u001b[1m \u001b[0m┃\u001b[1m \u001b[0m\u001b[1mOutput Shape               \u001b[0m\u001b[1m \u001b[0m┃\u001b[1m \u001b[0m\u001b[1m        Param #\u001b[0m\u001b[1m \u001b[0m┃\n",
       "┡━━━━━━━━━━━━━━━━━━━━━━━━━━━━━━━━━━━━━━╇━━━━━━━━━━━━━━━━━━━━━━━━━━━━━╇━━━━━━━━━━━━━━━━━┩\n",
       "│ densenet121 (\u001b[38;5;33mFunctional\u001b[0m)             │ (\u001b[38;5;45mNone\u001b[0m, \u001b[38;5;34m8\u001b[0m, \u001b[38;5;34m8\u001b[0m, \u001b[38;5;34m1024\u001b[0m)          │       \u001b[38;5;34m7,037,504\u001b[0m │\n",
       "├──────────────────────────────────────┼─────────────────────────────┼─────────────────┤\n",
       "│ global_average_pooling2d_18          │ (\u001b[38;5;45mNone\u001b[0m, \u001b[38;5;34m1024\u001b[0m)                │               \u001b[38;5;34m0\u001b[0m │\n",
       "│ (\u001b[38;5;33mGlobalAveragePooling2D\u001b[0m)             │                             │                 │\n",
       "├──────────────────────────────────────┼─────────────────────────────┼─────────────────┤\n",
       "│ dense_56 (\u001b[38;5;33mDense\u001b[0m)                     │ (\u001b[38;5;45mNone\u001b[0m, \u001b[38;5;34m128\u001b[0m)                 │         \u001b[38;5;34m131,200\u001b[0m │\n",
       "├──────────────────────────────────────┼─────────────────────────────┼─────────────────┤\n",
       "│ dropout_21 (\u001b[38;5;33mDropout\u001b[0m)                 │ (\u001b[38;5;45mNone\u001b[0m, \u001b[38;5;34m128\u001b[0m)                 │               \u001b[38;5;34m0\u001b[0m │\n",
       "├──────────────────────────────────────┼─────────────────────────────┼─────────────────┤\n",
       "│ dense_57 (\u001b[38;5;33mDense\u001b[0m)                     │ (\u001b[38;5;45mNone\u001b[0m, \u001b[38;5;34m1\u001b[0m)                   │             \u001b[38;5;34m129\u001b[0m │\n",
       "└──────────────────────────────────────┴─────────────────────────────┴─────────────────┘\n"
      ]
     },
     "metadata": {},
     "output_type": "display_data"
    },
    {
     "data": {
      "text/html": [
       "<pre style=\"white-space:pre;overflow-x:auto;line-height:normal;font-family:Menlo,'DejaVu Sans Mono',consolas,'Courier New',monospace\"><span style=\"font-weight: bold\"> Total params: </span><span style=\"color: #00af00; text-decoration-color: #00af00\">7,168,833</span> (27.35 MB)\n",
       "</pre>\n"
      ],
      "text/plain": [
       "\u001b[1m Total params: \u001b[0m\u001b[38;5;34m7,168,833\u001b[0m (27.35 MB)\n"
      ]
     },
     "metadata": {},
     "output_type": "display_data"
    },
    {
     "data": {
      "text/html": [
       "<pre style=\"white-space:pre;overflow-x:auto;line-height:normal;font-family:Menlo,'DejaVu Sans Mono',consolas,'Courier New',monospace\"><span style=\"font-weight: bold\"> Trainable params: </span><span style=\"color: #00af00; text-decoration-color: #00af00\">131,329</span> (513.00 KB)\n",
       "</pre>\n"
      ],
      "text/plain": [
       "\u001b[1m Trainable params: \u001b[0m\u001b[38;5;34m131,329\u001b[0m (513.00 KB)\n"
      ]
     },
     "metadata": {},
     "output_type": "display_data"
    },
    {
     "data": {
      "text/html": [
       "<pre style=\"white-space:pre;overflow-x:auto;line-height:normal;font-family:Menlo,'DejaVu Sans Mono',consolas,'Courier New',monospace\"><span style=\"font-weight: bold\"> Non-trainable params: </span><span style=\"color: #00af00; text-decoration-color: #00af00\">7,037,504</span> (26.85 MB)\n",
       "</pre>\n"
      ],
      "text/plain": [
       "\u001b[1m Non-trainable params: \u001b[0m\u001b[38;5;34m7,037,504\u001b[0m (26.85 MB)\n"
      ]
     },
     "metadata": {},
     "output_type": "display_data"
    }
   ],
   "source": [
    "# Add custom layers\n",
    "model = tf.keras.Sequential([\n",
    "    base_model,\n",
    "    tf.keras.layers.GlobalAveragePooling2D(),\n",
    "    tf.keras.layers.Dense(128, activation='relu'),\n",
    "    tf.keras.layers.Dropout(0.5),\n",
    "    tf.keras.layers.Dense(1, activation='linear')  # Regression task\n",
    "])\n",
    "\n",
    "model.compile(optimizer='adam', loss='mse')\n",
    "model.summary()"
   ]
  },
  {
   "cell_type": "code",
   "execution_count": 180,
   "id": "ccddbaae-7dd3-48bc-9f66-0b47da2f4b96",
   "metadata": {},
   "outputs": [
    {
     "data": {
      "text/html": [
       "\n",
       "            <style>\n",
       "                .geemap-dark {\n",
       "                    --jp-widgets-color: white;\n",
       "                    --jp-widgets-label-color: white;\n",
       "                    --jp-ui-font-color1: white;\n",
       "                    --jp-layout-color2: #454545;\n",
       "                    background-color: #383838;\n",
       "                }\n",
       "\n",
       "                .geemap-dark .jupyter-button {\n",
       "                    --jp-layout-color3: #383838;\n",
       "                }\n",
       "\n",
       "                .geemap-colab {\n",
       "                    background-color: var(--colab-primary-surface-color, white);\n",
       "                }\n",
       "\n",
       "                .geemap-colab .jupyter-button {\n",
       "                    --jp-layout-color3: var(--colab-primary-surface-color, white);\n",
       "                }\n",
       "            </style>\n",
       "            "
      ],
      "text/plain": [
       "<IPython.core.display.HTML object>"
      ]
     },
     "metadata": {},
     "output_type": "display_data"
    },
    {
     "name": "stdout",
     "output_type": "stream",
     "text": [
      "Epoch 1/20\n",
      "     38/Unknown \u001b[1m129s\u001b[0m 2s/step - loss: 2510.7588"
     ]
    },
    {
     "ename": "KeyboardInterrupt",
     "evalue": "",
     "output_type": "error",
     "traceback": [
      "\u001b[1;31m---------------------------------------------------------------------------\u001b[0m",
      "\u001b[1;31mKeyboardInterrupt\u001b[0m                         Traceback (most recent call last)",
      "Cell \u001b[1;32mIn[180], line 1\u001b[0m\n\u001b[1;32m----> 1\u001b[0m history \u001b[38;5;241m=\u001b[39m model\u001b[38;5;241m.\u001b[39mfit(\n\u001b[0;32m      2\u001b[0m     train_dataset,\n\u001b[0;32m      3\u001b[0m     validation_data\u001b[38;5;241m=\u001b[39mval_dataset,\n\u001b[0;32m      4\u001b[0m     epochs\u001b[38;5;241m=\u001b[39m\u001b[38;5;241m20\u001b[39m,\n\u001b[0;32m      5\u001b[0m     callbacks\u001b[38;5;241m=\u001b[39m[\n\u001b[0;32m      6\u001b[0m         tf\u001b[38;5;241m.\u001b[39mkeras\u001b[38;5;241m.\u001b[39mcallbacks\u001b[38;5;241m.\u001b[39mEarlyStopping(monitor\u001b[38;5;241m=\u001b[39m\u001b[38;5;124m'\u001b[39m\u001b[38;5;124mval_loss\u001b[39m\u001b[38;5;124m'\u001b[39m, patience\u001b[38;5;241m=\u001b[39m\u001b[38;5;241m10\u001b[39m, restore_best_weights\u001b[38;5;241m=\u001b[39m\u001b[38;5;28;01mTrue\u001b[39;00m),\n\u001b[0;32m      7\u001b[0m         tf\u001b[38;5;241m.\u001b[39mkeras\u001b[38;5;241m.\u001b[39mcallbacks\u001b[38;5;241m.\u001b[39mReduceLROnPlateau(monitor\u001b[38;5;241m=\u001b[39m\u001b[38;5;124m'\u001b[39m\u001b[38;5;124mval_loss\u001b[39m\u001b[38;5;124m'\u001b[39m, factor\u001b[38;5;241m=\u001b[39m\u001b[38;5;241m0.2\u001b[39m, patience\u001b[38;5;241m=\u001b[39m\u001b[38;5;241m5\u001b[39m)\n\u001b[0;32m      8\u001b[0m     ]\n\u001b[0;32m      9\u001b[0m )\n",
      "File \u001b[1;32m~\\anaconda3\\Lib\\site-packages\\keras\\src\\utils\\traceback_utils.py:117\u001b[0m, in \u001b[0;36mfilter_traceback.<locals>.error_handler\u001b[1;34m(*args, **kwargs)\u001b[0m\n\u001b[0;32m    115\u001b[0m filtered_tb \u001b[38;5;241m=\u001b[39m \u001b[38;5;28;01mNone\u001b[39;00m\n\u001b[0;32m    116\u001b[0m \u001b[38;5;28;01mtry\u001b[39;00m:\n\u001b[1;32m--> 117\u001b[0m     \u001b[38;5;28;01mreturn\u001b[39;00m fn(\u001b[38;5;241m*\u001b[39margs, \u001b[38;5;241m*\u001b[39m\u001b[38;5;241m*\u001b[39mkwargs)\n\u001b[0;32m    118\u001b[0m \u001b[38;5;28;01mexcept\u001b[39;00m \u001b[38;5;167;01mException\u001b[39;00m \u001b[38;5;28;01mas\u001b[39;00m e:\n\u001b[0;32m    119\u001b[0m     filtered_tb \u001b[38;5;241m=\u001b[39m _process_traceback_frames(e\u001b[38;5;241m.\u001b[39m__traceback__)\n",
      "File \u001b[1;32m~\\anaconda3\\Lib\\site-packages\\keras\\src\\backend\\tensorflow\\trainer.py:320\u001b[0m, in \u001b[0;36mTensorFlowTrainer.fit\u001b[1;34m(self, x, y, batch_size, epochs, verbose, callbacks, validation_split, validation_data, shuffle, class_weight, sample_weight, initial_epoch, steps_per_epoch, validation_steps, validation_batch_size, validation_freq)\u001b[0m\n\u001b[0;32m    318\u001b[0m \u001b[38;5;28;01mfor\u001b[39;00m step, iterator \u001b[38;5;129;01min\u001b[39;00m epoch_iterator\u001b[38;5;241m.\u001b[39menumerate_epoch():\n\u001b[0;32m    319\u001b[0m     callbacks\u001b[38;5;241m.\u001b[39mon_train_batch_begin(step)\n\u001b[1;32m--> 320\u001b[0m     logs \u001b[38;5;241m=\u001b[39m \u001b[38;5;28mself\u001b[39m\u001b[38;5;241m.\u001b[39mtrain_function(iterator)\n\u001b[0;32m    321\u001b[0m     callbacks\u001b[38;5;241m.\u001b[39mon_train_batch_end(step, logs)\n\u001b[0;32m    322\u001b[0m     \u001b[38;5;28;01mif\u001b[39;00m \u001b[38;5;28mself\u001b[39m\u001b[38;5;241m.\u001b[39mstop_training:\n",
      "File \u001b[1;32m~\\anaconda3\\Lib\\site-packages\\tensorflow\\python\\util\\traceback_utils.py:150\u001b[0m, in \u001b[0;36mfilter_traceback.<locals>.error_handler\u001b[1;34m(*args, **kwargs)\u001b[0m\n\u001b[0;32m    148\u001b[0m filtered_tb \u001b[38;5;241m=\u001b[39m \u001b[38;5;28;01mNone\u001b[39;00m\n\u001b[0;32m    149\u001b[0m \u001b[38;5;28;01mtry\u001b[39;00m:\n\u001b[1;32m--> 150\u001b[0m   \u001b[38;5;28;01mreturn\u001b[39;00m fn(\u001b[38;5;241m*\u001b[39margs, \u001b[38;5;241m*\u001b[39m\u001b[38;5;241m*\u001b[39mkwargs)\n\u001b[0;32m    151\u001b[0m \u001b[38;5;28;01mexcept\u001b[39;00m \u001b[38;5;167;01mException\u001b[39;00m \u001b[38;5;28;01mas\u001b[39;00m e:\n\u001b[0;32m    152\u001b[0m   filtered_tb \u001b[38;5;241m=\u001b[39m _process_traceback_frames(e\u001b[38;5;241m.\u001b[39m__traceback__)\n",
      "File \u001b[1;32m~\\anaconda3\\Lib\\site-packages\\tensorflow\\python\\eager\\polymorphic_function\\polymorphic_function.py:833\u001b[0m, in \u001b[0;36mFunction.__call__\u001b[1;34m(self, *args, **kwds)\u001b[0m\n\u001b[0;32m    830\u001b[0m compiler \u001b[38;5;241m=\u001b[39m \u001b[38;5;124m\"\u001b[39m\u001b[38;5;124mxla\u001b[39m\u001b[38;5;124m\"\u001b[39m \u001b[38;5;28;01mif\u001b[39;00m \u001b[38;5;28mself\u001b[39m\u001b[38;5;241m.\u001b[39m_jit_compile \u001b[38;5;28;01melse\u001b[39;00m \u001b[38;5;124m\"\u001b[39m\u001b[38;5;124mnonXla\u001b[39m\u001b[38;5;124m\"\u001b[39m\n\u001b[0;32m    832\u001b[0m \u001b[38;5;28;01mwith\u001b[39;00m OptionalXlaContext(\u001b[38;5;28mself\u001b[39m\u001b[38;5;241m.\u001b[39m_jit_compile):\n\u001b[1;32m--> 833\u001b[0m   result \u001b[38;5;241m=\u001b[39m \u001b[38;5;28mself\u001b[39m\u001b[38;5;241m.\u001b[39m_call(\u001b[38;5;241m*\u001b[39margs, \u001b[38;5;241m*\u001b[39m\u001b[38;5;241m*\u001b[39mkwds)\n\u001b[0;32m    835\u001b[0m new_tracing_count \u001b[38;5;241m=\u001b[39m \u001b[38;5;28mself\u001b[39m\u001b[38;5;241m.\u001b[39mexperimental_get_tracing_count()\n\u001b[0;32m    836\u001b[0m without_tracing \u001b[38;5;241m=\u001b[39m (tracing_count \u001b[38;5;241m==\u001b[39m new_tracing_count)\n",
      "File \u001b[1;32m~\\anaconda3\\Lib\\site-packages\\tensorflow\\python\\eager\\polymorphic_function\\polymorphic_function.py:878\u001b[0m, in \u001b[0;36mFunction._call\u001b[1;34m(self, *args, **kwds)\u001b[0m\n\u001b[0;32m    875\u001b[0m \u001b[38;5;28mself\u001b[39m\u001b[38;5;241m.\u001b[39m_lock\u001b[38;5;241m.\u001b[39mrelease()\n\u001b[0;32m    876\u001b[0m \u001b[38;5;66;03m# In this case we have not created variables on the first call. So we can\u001b[39;00m\n\u001b[0;32m    877\u001b[0m \u001b[38;5;66;03m# run the first trace but we should fail if variables are created.\u001b[39;00m\n\u001b[1;32m--> 878\u001b[0m results \u001b[38;5;241m=\u001b[39m tracing_compilation\u001b[38;5;241m.\u001b[39mcall_function(\n\u001b[0;32m    879\u001b[0m     args, kwds, \u001b[38;5;28mself\u001b[39m\u001b[38;5;241m.\u001b[39m_variable_creation_config\n\u001b[0;32m    880\u001b[0m )\n\u001b[0;32m    881\u001b[0m \u001b[38;5;28;01mif\u001b[39;00m \u001b[38;5;28mself\u001b[39m\u001b[38;5;241m.\u001b[39m_created_variables:\n\u001b[0;32m    882\u001b[0m   \u001b[38;5;28;01mraise\u001b[39;00m \u001b[38;5;167;01mValueError\u001b[39;00m(\u001b[38;5;124m\"\u001b[39m\u001b[38;5;124mCreating variables on a non-first call to a function\u001b[39m\u001b[38;5;124m\"\u001b[39m\n\u001b[0;32m    883\u001b[0m                    \u001b[38;5;124m\"\u001b[39m\u001b[38;5;124m decorated with tf.function.\u001b[39m\u001b[38;5;124m\"\u001b[39m)\n",
      "File \u001b[1;32m~\\anaconda3\\Lib\\site-packages\\tensorflow\\python\\eager\\polymorphic_function\\tracing_compilation.py:139\u001b[0m, in \u001b[0;36mcall_function\u001b[1;34m(args, kwargs, tracing_options)\u001b[0m\n\u001b[0;32m    137\u001b[0m bound_args \u001b[38;5;241m=\u001b[39m function\u001b[38;5;241m.\u001b[39mfunction_type\u001b[38;5;241m.\u001b[39mbind(\u001b[38;5;241m*\u001b[39margs, \u001b[38;5;241m*\u001b[39m\u001b[38;5;241m*\u001b[39mkwargs)\n\u001b[0;32m    138\u001b[0m flat_inputs \u001b[38;5;241m=\u001b[39m function\u001b[38;5;241m.\u001b[39mfunction_type\u001b[38;5;241m.\u001b[39munpack_inputs(bound_args)\n\u001b[1;32m--> 139\u001b[0m \u001b[38;5;28;01mreturn\u001b[39;00m function\u001b[38;5;241m.\u001b[39m_call_flat(  \u001b[38;5;66;03m# pylint: disable=protected-access\u001b[39;00m\n\u001b[0;32m    140\u001b[0m     flat_inputs, captured_inputs\u001b[38;5;241m=\u001b[39mfunction\u001b[38;5;241m.\u001b[39mcaptured_inputs\n\u001b[0;32m    141\u001b[0m )\n",
      "File \u001b[1;32m~\\anaconda3\\Lib\\site-packages\\tensorflow\\python\\eager\\polymorphic_function\\concrete_function.py:1322\u001b[0m, in \u001b[0;36mConcreteFunction._call_flat\u001b[1;34m(self, tensor_inputs, captured_inputs)\u001b[0m\n\u001b[0;32m   1318\u001b[0m possible_gradient_type \u001b[38;5;241m=\u001b[39m gradients_util\u001b[38;5;241m.\u001b[39mPossibleTapeGradientTypes(args)\n\u001b[0;32m   1319\u001b[0m \u001b[38;5;28;01mif\u001b[39;00m (possible_gradient_type \u001b[38;5;241m==\u001b[39m gradients_util\u001b[38;5;241m.\u001b[39mPOSSIBLE_GRADIENT_TYPES_NONE\n\u001b[0;32m   1320\u001b[0m     \u001b[38;5;129;01mand\u001b[39;00m executing_eagerly):\n\u001b[0;32m   1321\u001b[0m   \u001b[38;5;66;03m# No tape is watching; skip to running the function.\u001b[39;00m\n\u001b[1;32m-> 1322\u001b[0m   \u001b[38;5;28;01mreturn\u001b[39;00m \u001b[38;5;28mself\u001b[39m\u001b[38;5;241m.\u001b[39m_inference_function\u001b[38;5;241m.\u001b[39mcall_preflattened(args)\n\u001b[0;32m   1323\u001b[0m forward_backward \u001b[38;5;241m=\u001b[39m \u001b[38;5;28mself\u001b[39m\u001b[38;5;241m.\u001b[39m_select_forward_and_backward_functions(\n\u001b[0;32m   1324\u001b[0m     args,\n\u001b[0;32m   1325\u001b[0m     possible_gradient_type,\n\u001b[0;32m   1326\u001b[0m     executing_eagerly)\n\u001b[0;32m   1327\u001b[0m forward_function, args_with_tangents \u001b[38;5;241m=\u001b[39m forward_backward\u001b[38;5;241m.\u001b[39mforward()\n",
      "File \u001b[1;32m~\\anaconda3\\Lib\\site-packages\\tensorflow\\python\\eager\\polymorphic_function\\atomic_function.py:216\u001b[0m, in \u001b[0;36mAtomicFunction.call_preflattened\u001b[1;34m(self, args)\u001b[0m\n\u001b[0;32m    214\u001b[0m \u001b[38;5;28;01mdef\u001b[39;00m \u001b[38;5;21mcall_preflattened\u001b[39m(\u001b[38;5;28mself\u001b[39m, args: Sequence[core\u001b[38;5;241m.\u001b[39mTensor]) \u001b[38;5;241m-\u001b[39m\u001b[38;5;241m>\u001b[39m Any:\n\u001b[0;32m    215\u001b[0m \u001b[38;5;250m  \u001b[39m\u001b[38;5;124;03m\"\"\"Calls with flattened tensor inputs and returns the structured output.\"\"\"\u001b[39;00m\n\u001b[1;32m--> 216\u001b[0m   flat_outputs \u001b[38;5;241m=\u001b[39m \u001b[38;5;28mself\u001b[39m\u001b[38;5;241m.\u001b[39mcall_flat(\u001b[38;5;241m*\u001b[39margs)\n\u001b[0;32m    217\u001b[0m   \u001b[38;5;28;01mreturn\u001b[39;00m \u001b[38;5;28mself\u001b[39m\u001b[38;5;241m.\u001b[39mfunction_type\u001b[38;5;241m.\u001b[39mpack_output(flat_outputs)\n",
      "File \u001b[1;32m~\\anaconda3\\Lib\\site-packages\\tensorflow\\python\\eager\\polymorphic_function\\atomic_function.py:251\u001b[0m, in \u001b[0;36mAtomicFunction.call_flat\u001b[1;34m(self, *args)\u001b[0m\n\u001b[0;32m    249\u001b[0m \u001b[38;5;28;01mwith\u001b[39;00m record\u001b[38;5;241m.\u001b[39mstop_recording():\n\u001b[0;32m    250\u001b[0m   \u001b[38;5;28;01mif\u001b[39;00m \u001b[38;5;28mself\u001b[39m\u001b[38;5;241m.\u001b[39m_bound_context\u001b[38;5;241m.\u001b[39mexecuting_eagerly():\n\u001b[1;32m--> 251\u001b[0m     outputs \u001b[38;5;241m=\u001b[39m \u001b[38;5;28mself\u001b[39m\u001b[38;5;241m.\u001b[39m_bound_context\u001b[38;5;241m.\u001b[39mcall_function(\n\u001b[0;32m    252\u001b[0m         \u001b[38;5;28mself\u001b[39m\u001b[38;5;241m.\u001b[39mname,\n\u001b[0;32m    253\u001b[0m         \u001b[38;5;28mlist\u001b[39m(args),\n\u001b[0;32m    254\u001b[0m         \u001b[38;5;28mlen\u001b[39m(\u001b[38;5;28mself\u001b[39m\u001b[38;5;241m.\u001b[39mfunction_type\u001b[38;5;241m.\u001b[39mflat_outputs),\n\u001b[0;32m    255\u001b[0m     )\n\u001b[0;32m    256\u001b[0m   \u001b[38;5;28;01melse\u001b[39;00m:\n\u001b[0;32m    257\u001b[0m     outputs \u001b[38;5;241m=\u001b[39m make_call_op_in_graph(\n\u001b[0;32m    258\u001b[0m         \u001b[38;5;28mself\u001b[39m,\n\u001b[0;32m    259\u001b[0m         \u001b[38;5;28mlist\u001b[39m(args),\n\u001b[0;32m    260\u001b[0m         \u001b[38;5;28mself\u001b[39m\u001b[38;5;241m.\u001b[39m_bound_context\u001b[38;5;241m.\u001b[39mfunction_call_options\u001b[38;5;241m.\u001b[39mas_attrs(),\n\u001b[0;32m    261\u001b[0m     )\n",
      "File \u001b[1;32m~\\anaconda3\\Lib\\site-packages\\tensorflow\\python\\eager\\context.py:1683\u001b[0m, in \u001b[0;36mContext.call_function\u001b[1;34m(self, name, tensor_inputs, num_outputs)\u001b[0m\n\u001b[0;32m   1681\u001b[0m cancellation_context \u001b[38;5;241m=\u001b[39m cancellation\u001b[38;5;241m.\u001b[39mcontext()\n\u001b[0;32m   1682\u001b[0m \u001b[38;5;28;01mif\u001b[39;00m cancellation_context \u001b[38;5;129;01mis\u001b[39;00m \u001b[38;5;28;01mNone\u001b[39;00m:\n\u001b[1;32m-> 1683\u001b[0m   outputs \u001b[38;5;241m=\u001b[39m execute\u001b[38;5;241m.\u001b[39mexecute(\n\u001b[0;32m   1684\u001b[0m       name\u001b[38;5;241m.\u001b[39mdecode(\u001b[38;5;124m\"\u001b[39m\u001b[38;5;124mutf-8\u001b[39m\u001b[38;5;124m\"\u001b[39m),\n\u001b[0;32m   1685\u001b[0m       num_outputs\u001b[38;5;241m=\u001b[39mnum_outputs,\n\u001b[0;32m   1686\u001b[0m       inputs\u001b[38;5;241m=\u001b[39mtensor_inputs,\n\u001b[0;32m   1687\u001b[0m       attrs\u001b[38;5;241m=\u001b[39mattrs,\n\u001b[0;32m   1688\u001b[0m       ctx\u001b[38;5;241m=\u001b[39m\u001b[38;5;28mself\u001b[39m,\n\u001b[0;32m   1689\u001b[0m   )\n\u001b[0;32m   1690\u001b[0m \u001b[38;5;28;01melse\u001b[39;00m:\n\u001b[0;32m   1691\u001b[0m   outputs \u001b[38;5;241m=\u001b[39m execute\u001b[38;5;241m.\u001b[39mexecute_with_cancellation(\n\u001b[0;32m   1692\u001b[0m       name\u001b[38;5;241m.\u001b[39mdecode(\u001b[38;5;124m\"\u001b[39m\u001b[38;5;124mutf-8\u001b[39m\u001b[38;5;124m\"\u001b[39m),\n\u001b[0;32m   1693\u001b[0m       num_outputs\u001b[38;5;241m=\u001b[39mnum_outputs,\n\u001b[1;32m   (...)\u001b[0m\n\u001b[0;32m   1697\u001b[0m       cancellation_manager\u001b[38;5;241m=\u001b[39mcancellation_context,\n\u001b[0;32m   1698\u001b[0m   )\n",
      "File \u001b[1;32m~\\anaconda3\\Lib\\site-packages\\tensorflow\\python\\eager\\execute.py:53\u001b[0m, in \u001b[0;36mquick_execute\u001b[1;34m(op_name, num_outputs, inputs, attrs, ctx, name)\u001b[0m\n\u001b[0;32m     51\u001b[0m \u001b[38;5;28;01mtry\u001b[39;00m:\n\u001b[0;32m     52\u001b[0m   ctx\u001b[38;5;241m.\u001b[39mensure_initialized()\n\u001b[1;32m---> 53\u001b[0m   tensors \u001b[38;5;241m=\u001b[39m pywrap_tfe\u001b[38;5;241m.\u001b[39mTFE_Py_Execute(ctx\u001b[38;5;241m.\u001b[39m_handle, device_name, op_name,\n\u001b[0;32m     54\u001b[0m                                       inputs, attrs, num_outputs)\n\u001b[0;32m     55\u001b[0m \u001b[38;5;28;01mexcept\u001b[39;00m core\u001b[38;5;241m.\u001b[39m_NotOkStatusException \u001b[38;5;28;01mas\u001b[39;00m e:\n\u001b[0;32m     56\u001b[0m   \u001b[38;5;28;01mif\u001b[39;00m name \u001b[38;5;129;01mis\u001b[39;00m \u001b[38;5;129;01mnot\u001b[39;00m \u001b[38;5;28;01mNone\u001b[39;00m:\n",
      "\u001b[1;31mKeyboardInterrupt\u001b[0m: "
     ]
    }
   ],
   "source": [
    "history = model.fit(\n",
    "    train_dataset,\n",
    "    validation_data=val_dataset,\n",
    "    epochs=20,\n",
    "    callbacks=[\n",
    "        tf.keras.callbacks.EarlyStopping(monitor='val_loss', patience=10, restore_best_weights=True),\n",
    "        tf.keras.callbacks.ReduceLROnPlateau(monitor='val_loss', factor=0.2, patience=5)\n",
    "    ]\n",
    ")"
   ]
  },
  {
   "cell_type": "code",
   "execution_count": 170,
   "id": "15a41171-454b-4e6d-b2c3-977cc525d7e3",
   "metadata": {},
   "outputs": [
    {
     "data": {
      "text/html": [
       "\n",
       "            <style>\n",
       "                .geemap-dark {\n",
       "                    --jp-widgets-color: white;\n",
       "                    --jp-widgets-label-color: white;\n",
       "                    --jp-ui-font-color1: white;\n",
       "                    --jp-layout-color2: #454545;\n",
       "                    background-color: #383838;\n",
       "                }\n",
       "\n",
       "                .geemap-dark .jupyter-button {\n",
       "                    --jp-layout-color3: #383838;\n",
       "                }\n",
       "\n",
       "                .geemap-colab {\n",
       "                    background-color: var(--colab-primary-surface-color, white);\n",
       "                }\n",
       "\n",
       "                .geemap-colab .jupyter-button {\n",
       "                    --jp-layout-color3: var(--colab-primary-surface-color, white);\n",
       "                }\n",
       "            </style>\n",
       "            "
      ],
      "text/plain": [
       "<IPython.core.display.HTML object>"
      ]
     },
     "metadata": {},
     "output_type": "display_data"
    },
    {
     "data": {
      "image/png": "[encoded data removed]",
      "text/plain": [
       "<Figure size 1000x600 with 1 Axes>"
      ]
     },
     "metadata": {},
     "output_type": "display_data"
    }
   ],
   "source": [
    "# Plot training & validation loss values\n",
    "plt.figure(figsize=(10, 6))\n",
    "plt.plot(history.history['loss'], label='Training Loss')\n",
    "if 'val_loss' in history.history:\n",
    "    plt.plot(history.history['val_loss'], label='Validation Loss', linestyle='--')\n",
    "plt.title('Model Loss Over Epochs [DenseNet121]', fontsize=14)\n",
    "plt.xlabel('Epochs', fontsize=12)\n",
    "plt.ylabel('Loss', fontsize=12)\n",
    "plt.legend(fontsize=12)\n",
    "plt.grid(True, linestyle='--', alpha=0.7)\n",
    "plt.show()"
   ]
  },
  {
   "cell_type": "code",
   "execution_count": null,
   "id": "e2743404-c216-4f34-863c-892b9ce6459d",
   "metadata": {},
   "outputs": [],
   "source": []
  }
 ],
 "metadata": {
  "kernelspec": {
   "display_name": "Python 3 (ipykernel)",
   "language": "python",
   "name": "python3"
  },
  "language_info": {
   "codemirror_mode": {
    "name": "ipython",
    "version": 3
   },
   "file_extension": ".py",
   "mimetype": "text/x-python",
   "name": "python",
   "nbconvert_exporter": "python",
   "pygments_lexer": "ipython3",
   "version": "3.11.7"
  }
 },
 "nbformat": 4,
 "nbformat_minor": 5
}
