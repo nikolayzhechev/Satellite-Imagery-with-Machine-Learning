{
 "cells": [
  {
   "cell_type": "markdown",
   "id": "939540cd-c5f4-4d29-83cd-998b4a404ad6",
   "metadata": {},
   "source": [
    "## Code implementations"
   ]
  },
  {
   "cell_type": "markdown",
   "id": "7ea0d136-d63b-4672-8e29-bac6ff916d6c",
   "metadata": {},
   "source": [
    "### Table of Contents\n",
    "* [1. Classification](#chapter1)\n",
    "    * [1.1. Supervised](#section_1_1)\n",
    "        * [1.1.1. Land Cover Mapping](#sub_section_1_1_1)\n",
    "        * [1.1.2. Identify Areas of Forest Loss](#sub_section_1_1_2)\n",
    "        * [1.1.3. Land Cover Analysis](#sub_section_1_1_3)\n",
    "        * [1.1.4. SVM Image Classifier with TensorFlow](#sub_section_1_1_4)\n",
    "    * [1.2 Unsupervised](#section_1_2)\n",
    "        * [1.2.1 Pattern Identification](#section_1_2_1)\n",
    "* [2. Segmentation](#chapter2)\n",
    "    * [2.1. Data preprocess](#section_2_1)\n",
    "    * [2.2. One-hot encoding](#section_2_2)\n",
    "    * [2.3. Architecture](#section_2_3)\n",
    "    * [2.4. Loss Function](#section_2_4)\n",
    "    * [2.5. Model Compliation](#section_2_5)\n",
    "    * [2.6. Evaluation](#section_2_6)\n",
    "    * [2.7. Prediction](#section_2_7)\n",
    "* [3. Other Implementations](#chapter3)\n",
    "    * [3.1. Earth Engine](#section_3_1)\n",
    "        * [3.1.1. Data Collection](#sub_section_3_1_1)\n",
    "        * [3.1.2. Image Preprocess, Export and Load](#sub_section_3_1_2)\n",
    "        * [3.1.3. Model Training](#sub_section_3_1_3)"
   ]
  },
  {
   "cell_type": "markdown",
   "id": "455b5aa5-69f0-44a8-8735-91daa04ec6f5",
   "metadata": {},
   "source": [
    "## 1. Classification<a class=\"anchor\" id=\"chapter1\"></a>\n",
    "This is chapter 1\n",
    "### Supervised 1.1 <a id=\"section_1_1\"></a>\n",
    "This is section 1.1\n",
    "#### Land Cover Mapping 1.1.1 <a id=\"sub_section_1_1_1\"></a>\n",
    "This is sub section 1.1.1\n",
    "#### Identify Areas of Forest Loss 1.1.2 <a id=\"sub_section_1_1_2\"></a>\n",
    "This is sub section 1.1.2\n",
    "#### Land Cover Analysis 1.1.3 <a id=\"sub_section_1_1_3\"></a>\n",
    "This is sub section 1.1.3\n",
    "#### SVM Image Classifier with TensorFlow 1.1.4 <a id=\"sub_section_1_1_4\"></a>\n",
    "This is sub section 1.1.4"
   ]
  },
  {
   "cell_type": "markdown",
   "id": "21125471-1bf7-408c-b327-bc23fcd6e30a",
   "metadata": {},
   "source": [
    "## 2. Segmentation<a id=\"chapter2\"></a>\n",
    "This is chapter number 2\n",
    "### Data preprocess 2.1 <a id=\"section_2_1\"></a>\n",
    "This is section 2.1\n",
    "### One-hot encoding 2.2 <a id=\"section_2_2\"></a>\n",
    "This is section 2.2\n",
    "### Architecture 2.3 <a id=\"section_2_3\"></a>\n",
    "This is section 2.3\n",
    "### Loss Function 2.4 <a id=\"section_2_4\"></a>\n",
    "This is section 2.4\n",
    "### Model Compliation 2.5 <a id=\"section_2_5\"></a>\n",
    "This is section 2.5\n",
    "### Evaluation 2.6 <a id=\"section_2_6\"></a>\n",
    "This is section 2.6\n",
    "### Prediction 2.7 <a id=\"section_2_7\"></a>\n",
    "This is section 2.7"
   ]
  },
  {
   "cell_type": "markdown",
   "id": "4db82a7e-6d66-4664-b27e-96a4b37abbfd",
   "metadata": {},
   "source": [
    "## Other Implementations 3 <a id=\"chapter3\"></a>\n",
    "This is chapter number 3\n",
    "### Earth Engine 3.1 <a id=\"section_3_1\"></a>\n",
    "This is section 3.1\n",
    "#### Data Collection 3.1.1 <a id=\"sub_section_3_1_1\"></a>\n",
    "This is sub section 3.1.1\n",
    "#### Image Preprocess, Export and Load 3.1.2 <a id=\"sub_section_3_1_2\"></a>\n",
    "This is sub section 3.1.2\n",
    "#### Model Training 3.1.3 <a id=\"sub_section_3_1_3\"></a>\n",
    "This is sub section 3.1.3"
   ]
  },
  {
   "cell_type": "code",
   "execution_count": null,
   "id": "0fe63cf5-accb-4b75-bf72-73c5177294d6",
   "metadata": {},
   "outputs": [],
   "source": []
  }
 ],
 "metadata": {
  "kernelspec": {
   "display_name": "Python 3 (ipykernel)",
   "language": "python",
   "name": "python3"
  },
  "language_info": {
   "codemirror_mode": {
    "name": "ipython",
    "version": 3
   },
   "file_extension": ".py",
   "mimetype": "text/x-python",
   "name": "python",
   "nbconvert_exporter": "python",
   "pygments_lexer": "ipython3",
   "version": "3.11.7"
  }
 },
 "nbformat": 4,
 "nbformat_minor": 5
}
